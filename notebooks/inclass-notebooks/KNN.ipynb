{
 "cells": [
  {
   "cell_type": "code",
   "execution_count": null,
   "id": "01c46189-a598-4bfc-9565-a914346decf7",
   "metadata": {},
   "outputs": [],
   "source": [
    "import pandas as pd\n",
    "from sklearn.model_selection import train_test_split, GridSearchCV\n",
    "from sklearn.preprocessing import StandardScaler\n",
    "from sklearn.neighbors import KNeighborsClassifier\n",
    "# from sklearn.metrics import confusion_matrix, roc_curve, roc_auc_score, RocCurveDisplay\n",
    "from sklearn.metrics import confusion_matrix, recall_score, precision_score, roc_auc_score, roc_curve, accuracy_score, RocCurveDisplay\n",
    "\n",
    "import matplotlib.pyplot as plt"
   ]
  },
  {
   "cell_type": "code",
   "execution_count": null,
   "id": "53f58e2c-169e-434c-9b8e-1bd0cb5f7715",
   "metadata": {},
   "outputs": [],
   "source": [
    "# Load the data\n",
    "df = pd.read_excel(\"gym.xlsx\")\n",
    "df.head()"
   ]
  },
  {
   "cell_type": "code",
   "execution_count": null,
   "id": "b5809395-d339-4a18-bef1-ea12b06cc9f7",
   "metadata": {},
   "outputs": [],
   "source": [
    "df.describe()"
   ]
  },
  {
   "cell_type": "code",
   "execution_count": null,
   "id": "46f2b835-2f7d-4d65-a1e9-5dacaf6a370e",
   "metadata": {},
   "outputs": [],
   "source": [
    "df.shape"
   ]
  },
  {
   "cell_type": "code",
   "execution_count": null,
   "id": "92834d50-c430-4431-b5d9-81b10415dca1",
   "metadata": {},
   "outputs": [],
   "source": [
    "indAtts = [\"Age\", \"Income\", \"Hours\"]\n",
    "depAtt = \"Enroll\""
   ]
  },
  {
   "cell_type": "code",
   "execution_count": null,
   "id": "3b789418-6284-41cb-9c41-5f2b5d2114ac",
   "metadata": {},
   "outputs": [],
   "source": [
    "# Separate features and target variable\n",
    "Xs = df[indAtts]\n",
    "Xs.head()"
   ]
  },
  {
   "cell_type": "code",
   "execution_count": null,
   "id": "c9c82753-ed45-4d63-9f5a-75fd54d196fb",
   "metadata": {},
   "outputs": [],
   "source": [
    "y = df[depAtt]\n",
    "y\n"
   ]
  },
  {
   "cell_type": "code",
   "execution_count": null,
   "id": "13b2648e-6a32-4775-9970-3e0c466271fe",
   "metadata": {},
   "outputs": [],
   "source": [
    "# Scale the features\n",
    "scaler = StandardScaler()\n",
    "XsScaled = scaler.fit_transform(Xs)\n",
    "XsScaled"
   ]
  },
  {
   "cell_type": "code",
   "execution_count": null,
   "id": "b3d1b271-1670-410e-a98b-c0af06571d70",
   "metadata": {},
   "outputs": [],
   "source": [
    "# Combine scaled features and target into a new DataFrame\n",
    "dfScaled = pd.DataFrame(XsScaled, columns=Xs.columns)\n",
    "dfScaled[depAtt] = y.astype('category')\n",
    "dfScaled"
   ]
  },
  {
   "cell_type": "code",
   "execution_count": null,
   "id": "4e6402c1-05f3-4cfe-b96d-9758d36aed57",
   "metadata": {},
   "outputs": [],
   "source": [
    "# Split the data into training and testing sets\n",
    "X_train, X_test, y_train, y_test = train_test_split(\n",
    "    dfScaled[indAtts],\n",
    "    dfScaled[depAtt],\n",
    "    test_size=0.4,\n",
    "    random_state=1,\n",
    "    stratify=dfScaled[depAtt]\n",
    ")\n"
   ]
  },
  {
   "cell_type": "code",
   "execution_count": null,
   "id": "a9b32cbd-f135-4c17-9b52-7078722caae3",
   "metadata": {},
   "outputs": [],
   "source": [
    "X_train.head()"
   ]
  },
  {
   "cell_type": "code",
   "execution_count": null,
   "id": "2226b885-9cff-41aa-a0f4-35ef5682daaa",
   "metadata": {},
   "outputs": [],
   "source": [
    "# Perform k-NN classification with cross-validation to find the best k\n",
    "knn = KNeighborsClassifier()\n",
    "param_grid = {'n_neighbors': list(range(1, 11))}\n",
    "grid_search = GridSearchCV(knn, param_grid, cv=5)\n",
    "grid_search.fit(X_train, y_train)"
   ]
  },
  {
   "cell_type": "code",
   "execution_count": null,
   "id": "779e861d-04cf-4d8f-94e0-e42c96525b61",
   "metadata": {},
   "outputs": [],
   "source": [
    "print(\"Best parameters:\", grid_search.best_params_)\n",
    "print(\"Best cross-validation score:\", grid_search.best_score_)"
   ]
  },
  {
   "cell_type": "code",
   "execution_count": null,
   "id": "046a78bc-4b77-44d9-a5d9-3d6084d1ad16",
   "metadata": {},
   "outputs": [],
   "source": [
    "# Display detailed results\n",
    "results = pd.DataFrame(grid_search.cv_results_)\n",
    "results"
   ]
  },
  {
   "cell_type": "code",
   "execution_count": null,
   "id": "1f78ee56-b9c8-4d1a-aef9-ad37dfa41858",
   "metadata": {},
   "outputs": [],
   "source": [
    "# Make predictions on the test set\n",
    "best_knn = grid_search.best_estimator_\n",
    "# new_k = 15  # Replace with the desired k value\n",
    "# best_knn.set_params(n_neighbors=new_k)\n",
    "predictions = best_knn.predict(X_test)\n",
    "# Combine y_test and predictions into a DataFrame\n",
    "results_df = pd.DataFrame({'Actual': y_test, 'Predicted': predictions})\n",
    "results_df"
   ]
  },
  {
   "cell_type": "code",
   "execution_count": null,
   "id": "777a6302-6139-4199-9ed0-68f5e8938612",
   "metadata": {},
   "outputs": [],
   "source": [
    "# Confusion matrix\n",
    "conf_matrix = confusion_matrix(y_test, predictions)\n",
    "\n",
    "# Convert confusion matrix to DataFrame with predicted as rows and actual as columns\n",
    "conf_matrix_df = pd.DataFrame(conf_matrix, index=['Predicted_0', 'Predicted_1'], columns=['Actual_0', 'Actual_1'])\n",
    "print(\"Confusion Matrix as DataFrame:\")\n",
    "print(conf_matrix_df)\n"
   ]
  },
  {
   "cell_type": "code",
   "execution_count": null,
   "id": "aa493759-f506-4278-a212-4a3a0b5db15a",
   "metadata": {},
   "outputs": [],
   "source": [
    "# Calculate metrics\n",
    "precision = precision_score(y_test, predictions)\n",
    "recall = recall_score(y_test, predictions)\n",
    "accuracy = accuracy_score(y_test, predictions)\n",
    "specificity = conf_matrix[0, 0] / (conf_matrix[0, 0] + conf_matrix[0, 1])\n",
    "f1_score = 2 * (precision * recall) / (precision + recall)\n",
    "\n",
    "print(f\"Accuracy: {accuracy}\")\n",
    "print(f\"Precision: {precision}\")\n",
    "print(f\"Recall (Sensitivity): {recall}\")\n",
    "print(f\"Specificity: {specificity}\")\n",
    "print(f\"F1 Score: {f1_score}\")"
   ]
  },
  {
   "cell_type": "code",
   "execution_count": null,
   "id": "c9a97f8e-0ebc-4b51-a4a1-ff059dd75535",
   "metadata": {},
   "outputs": [],
   "source": [
    "# Predict probabilities for ROC curve\n",
    "probs= best_knn.predict_proba(X_test)[:, 1]\n",
    "probs"
   ]
  },
  {
   "cell_type": "code",
   "execution_count": null,
   "id": "b23ed9f8-b1c0-491c-b048-112a0797299f",
   "metadata": {},
   "outputs": [],
   "source": [
    "roc_auc = roc_auc_score(y_test, probs)\n",
    "print(\"ROC AUC:\", roc_auc)"
   ]
  },
  {
   "cell_type": "code",
   "execution_count": null,
   "id": "ffe52a48-533d-43db-b845-8aab740638ef",
   "metadata": {},
   "outputs": [],
   "source": [
    "# Plot ROC curve\n",
    "fpr, tpr, _ = roc_curve(y_test, probs )\n",
    "plt.figure()\n",
    "plt.plot(fpr, tpr, label=f'ROC curve (area = {roc_auc:.2f})')\n",
    "plt.plot([0, 1], [0, 1], 'k--')\n",
    "plt.xlim([0.0, 1.0])\n",
    "plt.ylim([0.0, 1.05])\n",
    "plt.xlabel('False Positive Rate')\n",
    "plt.ylabel('True Positive Rate')\n",
    "plt.title('Receiver Operating Characteristic')\n",
    "plt.legend(loc=\"lower right\")\n",
    "plt.show()"
   ]
  },
  {
   "cell_type": "code",
   "execution_count": null,
   "id": "68206bb3-19e3-435a-a311-e82035c1d57a",
   "metadata": {},
   "outputs": [],
   "source": []
  },
  {
   "cell_type": "code",
   "execution_count": null,
   "id": "2b51253a-cfe7-4892-829a-b69940dd5d86",
   "metadata": {},
   "outputs": [],
   "source": []
  }
 ],
 "metadata": {
  "kernelspec": {
   "display_name": "Python 3 (ipykernel)",
   "language": "python",
   "name": "python3"
  },
  "language_info": {
   "codemirror_mode": {
    "name": "ipython",
    "version": 3
   },
   "file_extension": ".py",
   "mimetype": "text/x-python",
   "name": "python",
   "nbconvert_exporter": "python",
   "pygments_lexer": "ipython3",
   "version": "3.12.3"
  }
 },
 "nbformat": 4,
 "nbformat_minor": 5
}
