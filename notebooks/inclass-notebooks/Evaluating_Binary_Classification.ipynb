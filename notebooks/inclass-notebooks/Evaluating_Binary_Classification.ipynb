{
 "cells": [
  {
   "cell_type": "code",
   "execution_count": 1,
   "metadata": {
    "id": "-iRvitW_mOmI"
   },
   "outputs": [],
   "source": [
    "import numpy as np\n",
    "import pandas as pd"
   ]
  },
  {
   "cell_type": "code",
   "execution_count": 2,
   "metadata": {
    "id": "ZTL4F90RnqNA"
   },
   "outputs": [],
   "source": [
    "# https://www.statsmodels.org/stable/index.html\n",
    "import statsmodels.api as sm"
   ]
  },
  {
   "cell_type": "code",
   "execution_count": 3,
   "metadata": {
    "id": "fK4vZwBPnA5z"
   },
   "outputs": [
    {
     "data": {
      "text/html": [
       "<div>\n",
       "<style scoped>\n",
       "    .dataframe tbody tr th:only-of-type {\n",
       "        vertical-align: middle;\n",
       "    }\n",
       "\n",
       "    .dataframe tbody tr th {\n",
       "        vertical-align: top;\n",
       "    }\n",
       "\n",
       "    .dataframe thead th {\n",
       "        text-align: right;\n",
       "    }\n",
       "</style>\n",
       "<table border=\"1\" class=\"dataframe\">\n",
       "  <thead>\n",
       "    <tr style=\"text-align: right;\">\n",
       "      <th></th>\n",
       "      <th>Record</th>\n",
       "      <th>Spam</th>\n",
       "      <th>Recipients</th>\n",
       "      <th>Hyperlinks</th>\n",
       "      <th>Characters</th>\n",
       "    </tr>\n",
       "  </thead>\n",
       "  <tbody>\n",
       "    <tr>\n",
       "      <th>0</th>\n",
       "      <td>1</td>\n",
       "      <td>0</td>\n",
       "      <td>19</td>\n",
       "      <td>1</td>\n",
       "      <td>47</td>\n",
       "    </tr>\n",
       "    <tr>\n",
       "      <th>1</th>\n",
       "      <td>2</td>\n",
       "      <td>0</td>\n",
       "      <td>15</td>\n",
       "      <td>1</td>\n",
       "      <td>58</td>\n",
       "    </tr>\n",
       "    <tr>\n",
       "      <th>2</th>\n",
       "      <td>3</td>\n",
       "      <td>1</td>\n",
       "      <td>13</td>\n",
       "      <td>11</td>\n",
       "      <td>88</td>\n",
       "    </tr>\n",
       "    <tr>\n",
       "      <th>3</th>\n",
       "      <td>4</td>\n",
       "      <td>1</td>\n",
       "      <td>17</td>\n",
       "      <td>11</td>\n",
       "      <td>68</td>\n",
       "    </tr>\n",
       "    <tr>\n",
       "      <th>4</th>\n",
       "      <td>5</td>\n",
       "      <td>0</td>\n",
       "      <td>15</td>\n",
       "      <td>1</td>\n",
       "      <td>87</td>\n",
       "    </tr>\n",
       "    <tr>\n",
       "      <th>...</th>\n",
       "      <td>...</td>\n",
       "      <td>...</td>\n",
       "      <td>...</td>\n",
       "      <td>...</td>\n",
       "      <td>...</td>\n",
       "    </tr>\n",
       "    <tr>\n",
       "      <th>495</th>\n",
       "      <td>496</td>\n",
       "      <td>0</td>\n",
       "      <td>15</td>\n",
       "      <td>2</td>\n",
       "      <td>97</td>\n",
       "    </tr>\n",
       "    <tr>\n",
       "      <th>496</th>\n",
       "      <td>497</td>\n",
       "      <td>0</td>\n",
       "      <td>20</td>\n",
       "      <td>5</td>\n",
       "      <td>72</td>\n",
       "    </tr>\n",
       "    <tr>\n",
       "      <th>497</th>\n",
       "      <td>498</td>\n",
       "      <td>1</td>\n",
       "      <td>41</td>\n",
       "      <td>11</td>\n",
       "      <td>52</td>\n",
       "    </tr>\n",
       "    <tr>\n",
       "      <th>498</th>\n",
       "      <td>499</td>\n",
       "      <td>1</td>\n",
       "      <td>16</td>\n",
       "      <td>11</td>\n",
       "      <td>74</td>\n",
       "    </tr>\n",
       "    <tr>\n",
       "      <th>499</th>\n",
       "      <td>500</td>\n",
       "      <td>1</td>\n",
       "      <td>13</td>\n",
       "      <td>2</td>\n",
       "      <td>32</td>\n",
       "    </tr>\n",
       "  </tbody>\n",
       "</table>\n",
       "<p>500 rows × 5 columns</p>\n",
       "</div>"
      ],
      "text/plain": [
       "     Record  Spam  Recipients  Hyperlinks  Characters\n",
       "0         1     0          19           1          47\n",
       "1         2     0          15           1          58\n",
       "2         3     1          13          11          88\n",
       "3         4     1          17          11          68\n",
       "4         5     0          15           1          87\n",
       "..      ...   ...         ...         ...         ...\n",
       "495     496     0          15           2          97\n",
       "496     497     0          20           5          72\n",
       "497     498     1          41          11          52\n",
       "498     499     1          16          11          74\n",
       "499     500     1          13           2          32\n",
       "\n",
       "[500 rows x 5 columns]"
      ]
     },
     "execution_count": 3,
     "metadata": {},
     "output_type": "execute_result"
    }
   ],
   "source": [
    "spamDf = pd.read_excel(\"https://www.dropbox.com/scl/fi/v24mmhg5hmefmnv99uqsy/Spam.xlsx?rlkey=iq7exnueq84sy7y2b8ud70mp0&dl=1\")\n",
    "spamDf"
   ]
  },
  {
   "cell_type": "code",
   "execution_count": 15,
   "metadata": {
    "id": "AgPRgw9TnYLJ"
   },
   "outputs": [
    {
     "data": {
      "text/plain": [
       "(2500, (500, 5))"
      ]
     },
     "execution_count": 15,
     "metadata": {},
     "output_type": "execute_result"
    }
   ],
   "source": [
    "spamDf.size, spamDf.shape"
   ]
  },
  {
   "cell_type": "code",
   "execution_count": 16,
   "metadata": {
    "id": "zqcLaMdZoasO"
   },
   "outputs": [],
   "source": [
    "from sklearn.model_selection import train_test_split"
   ]
  },
  {
   "cell_type": "code",
   "execution_count": 17,
   "metadata": {
    "id": "Y_JGlYFloXHm"
   },
   "outputs": [
    {
     "data": {
      "text/plain": [
       "((350, 5), (150, 5))"
      ]
     },
     "execution_count": 17,
     "metadata": {},
     "output_type": "execute_result"
    }
   ],
   "source": [
    "# Split the dataset into training and testing sets\n",
    "trainSet, testSet = train_test_split(\n",
    "  spamDf,\n",
    "  test_size=0.3,\n",
    "  random_state=555,\n",
    "  stratify=spamDf['Spam']\n",
    ")\n",
    "trainSet.shape, testSet.shape"
   ]
  },
  {
   "cell_type": "code",
   "execution_count": 18,
   "metadata": {
    "id": "P8pFCQgIpAu3"
   },
   "outputs": [],
   "source": [
    "# Fit the logistic regression model\n",
    "features = ['Recipients', 'Hyperlinks', 'Characters']\n",
    "xTrain = trainSet[features]\n",
    "yTrain = trainSet['Spam'].astype(int)"
   ]
  },
  {
   "cell_type": "code",
   "execution_count": 19,
   "metadata": {
    "id": "6sHvxFpspMKh"
   },
   "outputs": [
    {
     "name": "stdout",
     "output_type": "stream",
     "text": [
      "Optimization terminated successfully.\n",
      "         Current function value: 0.454948\n",
      "         Iterations 6\n",
      "                           Logit Regression Results                           \n",
      "==============================================================================\n",
      "Dep. Variable:                   Spam   No. Observations:                  350\n",
      "Model:                          Logit   Df Residuals:                      346\n",
      "Method:                           MLE   Df Model:                            3\n",
      "Date:                Tue, 18 Jun 2024   Pseudo R-squ.:                  0.3431\n",
      "Time:                        10:34:59   Log-Likelihood:                -159.23\n",
      "converged:                       True   LL-Null:                       -242.40\n",
      "Covariance Type:            nonrobust   LLR p-value:                 7.894e-36\n",
      "==============================================================================\n",
      "                 coef    std err          z      P>|z|      [0.025      0.975]\n",
      "------------------------------------------------------------------------------\n",
      "const         -4.3891      0.856     -5.129      0.000      -6.066      -2.712\n",
      "Recipients     0.1408      0.045      3.129      0.002       0.053       0.229\n",
      "Hyperlinks     0.5195      0.054      9.652      0.000       0.414       0.625\n",
      "Characters    -0.0125      0.006     -2.159      0.031      -0.024      -0.001\n",
      "==============================================================================\n"
     ]
    }
   ],
   "source": [
    "spamBasedOnRecipientsHyperlinksCharactersLogitModel = sm.Logit(\n",
    "  yTrain,\n",
    "  sm.add_constant(xTrain)\n",
    ")\n",
    "spamBasedOnRecipientsHyperlinksCharactersLogitModelFit = spamBasedOnRecipientsHyperlinksCharactersLogitModel.fit()\n",
    "print(spamBasedOnRecipientsHyperlinksCharactersLogitModelFit.summary())"
   ]
  },
  {
   "cell_type": "code",
   "execution_count": 20,
   "metadata": {
    "id": "5YbGrnLcp4EK"
   },
   "outputs": [],
   "source": [
    "predict1 = spamBasedOnRecipientsHyperlinksCharactersLogitModelFit.predict(sm.add_constant(testSet[features]))\n",
    "testSet['predict1'] = predict1\n",
    "sumTable = pd.DataFrame({'A': testSet['Spam'], 'Prob': testSet['predict1']})\n",
    "sumTable.to_csv(\"ROC.csv\", index=True)\n"
   ]
  },
  {
   "cell_type": "code",
   "execution_count": 21,
   "metadata": {},
   "outputs": [
    {
     "data": {
      "text/html": [
       "<div>\n",
       "<style scoped>\n",
       "    .dataframe tbody tr th:only-of-type {\n",
       "        vertical-align: middle;\n",
       "    }\n",
       "\n",
       "    .dataframe tbody tr th {\n",
       "        vertical-align: top;\n",
       "    }\n",
       "\n",
       "    .dataframe thead th {\n",
       "        text-align: right;\n",
       "    }\n",
       "</style>\n",
       "<table border=\"1\" class=\"dataframe\">\n",
       "  <thead>\n",
       "    <tr style=\"text-align: right;\">\n",
       "      <th></th>\n",
       "      <th>A</th>\n",
       "      <th>Prob</th>\n",
       "    </tr>\n",
       "  </thead>\n",
       "  <tbody>\n",
       "    <tr>\n",
       "      <th>387</th>\n",
       "      <td>0</td>\n",
       "      <td>0.910903</td>\n",
       "    </tr>\n",
       "    <tr>\n",
       "      <th>219</th>\n",
       "      <td>1</td>\n",
       "      <td>0.739589</td>\n",
       "    </tr>\n",
       "    <tr>\n",
       "      <th>298</th>\n",
       "      <td>1</td>\n",
       "      <td>0.793527</td>\n",
       "    </tr>\n",
       "    <tr>\n",
       "      <th>325</th>\n",
       "      <td>0</td>\n",
       "      <td>0.851853</td>\n",
       "    </tr>\n",
       "    <tr>\n",
       "      <th>357</th>\n",
       "      <td>0</td>\n",
       "      <td>0.076918</td>\n",
       "    </tr>\n",
       "    <tr>\n",
       "      <th>...</th>\n",
       "      <td>...</td>\n",
       "      <td>...</td>\n",
       "    </tr>\n",
       "    <tr>\n",
       "      <th>97</th>\n",
       "      <td>0</td>\n",
       "      <td>0.141878</td>\n",
       "    </tr>\n",
       "    <tr>\n",
       "      <th>115</th>\n",
       "      <td>1</td>\n",
       "      <td>0.932888</td>\n",
       "    </tr>\n",
       "    <tr>\n",
       "      <th>169</th>\n",
       "      <td>1</td>\n",
       "      <td>0.829097</td>\n",
       "    </tr>\n",
       "    <tr>\n",
       "      <th>413</th>\n",
       "      <td>1</td>\n",
       "      <td>0.345374</td>\n",
       "    </tr>\n",
       "    <tr>\n",
       "      <th>177</th>\n",
       "      <td>0</td>\n",
       "      <td>0.143404</td>\n",
       "    </tr>\n",
       "  </tbody>\n",
       "</table>\n",
       "<p>150 rows × 2 columns</p>\n",
       "</div>"
      ],
      "text/plain": [
       "     A      Prob\n",
       "387  0  0.910903\n",
       "219  1  0.739589\n",
       "298  1  0.793527\n",
       "325  0  0.851853\n",
       "357  0  0.076918\n",
       "..  ..       ...\n",
       "97   0  0.141878\n",
       "115  1  0.932888\n",
       "169  1  0.829097\n",
       "413  1  0.345374\n",
       "177  0  0.143404\n",
       "\n",
       "[150 rows x 2 columns]"
      ]
     },
     "execution_count": 21,
     "metadata": {},
     "output_type": "execute_result"
    }
   ],
   "source": [
    "sumTable"
   ]
  },
  {
   "cell_type": "code",
   "execution_count": 22,
   "metadata": {
    "id": "nnM895bnYFuU"
   },
   "outputs": [],
   "source": [
    "sumTable1 = pd.DataFrame({'A': testSet['Spam'], 'Prob': testSet['predict1']})"
   ]
  },
  {
   "cell_type": "code",
   "execution_count": 23,
   "metadata": {
    "id": "N0GKRfOerVZk"
   },
   "outputs": [
    {
     "data": {
      "text/html": [
       "<div>\n",
       "<style scoped>\n",
       "    .dataframe tbody tr th:only-of-type {\n",
       "        vertical-align: middle;\n",
       "    }\n",
       "\n",
       "    .dataframe tbody tr th {\n",
       "        vertical-align: top;\n",
       "    }\n",
       "\n",
       "    .dataframe thead th {\n",
       "        text-align: right;\n",
       "    }\n",
       "</style>\n",
       "<table border=\"1\" class=\"dataframe\">\n",
       "  <thead>\n",
       "    <tr style=\"text-align: right;\">\n",
       "      <th></th>\n",
       "      <th>A</th>\n",
       "      <th>Prob</th>\n",
       "      <th>P</th>\n",
       "    </tr>\n",
       "  </thead>\n",
       "  <tbody>\n",
       "    <tr>\n",
       "      <th>387</th>\n",
       "      <td>0</td>\n",
       "      <td>0.910903</td>\n",
       "      <td>1</td>\n",
       "    </tr>\n",
       "    <tr>\n",
       "      <th>219</th>\n",
       "      <td>1</td>\n",
       "      <td>0.739589</td>\n",
       "      <td>1</td>\n",
       "    </tr>\n",
       "    <tr>\n",
       "      <th>298</th>\n",
       "      <td>1</td>\n",
       "      <td>0.793527</td>\n",
       "      <td>1</td>\n",
       "    </tr>\n",
       "    <tr>\n",
       "      <th>325</th>\n",
       "      <td>0</td>\n",
       "      <td>0.851853</td>\n",
       "      <td>1</td>\n",
       "    </tr>\n",
       "    <tr>\n",
       "      <th>357</th>\n",
       "      <td>0</td>\n",
       "      <td>0.076918</td>\n",
       "      <td>0</td>\n",
       "    </tr>\n",
       "    <tr>\n",
       "      <th>...</th>\n",
       "      <td>...</td>\n",
       "      <td>...</td>\n",
       "      <td>...</td>\n",
       "    </tr>\n",
       "    <tr>\n",
       "      <th>97</th>\n",
       "      <td>0</td>\n",
       "      <td>0.141878</td>\n",
       "      <td>0</td>\n",
       "    </tr>\n",
       "    <tr>\n",
       "      <th>115</th>\n",
       "      <td>1</td>\n",
       "      <td>0.932888</td>\n",
       "      <td>1</td>\n",
       "    </tr>\n",
       "    <tr>\n",
       "      <th>169</th>\n",
       "      <td>1</td>\n",
       "      <td>0.829097</td>\n",
       "      <td>1</td>\n",
       "    </tr>\n",
       "    <tr>\n",
       "      <th>413</th>\n",
       "      <td>1</td>\n",
       "      <td>0.345374</td>\n",
       "      <td>0</td>\n",
       "    </tr>\n",
       "    <tr>\n",
       "      <th>177</th>\n",
       "      <td>0</td>\n",
       "      <td>0.143404</td>\n",
       "      <td>0</td>\n",
       "    </tr>\n",
       "  </tbody>\n",
       "</table>\n",
       "<p>150 rows × 3 columns</p>\n",
       "</div>"
      ],
      "text/plain": [
       "     A      Prob  P\n",
       "387  0  0.910903  1\n",
       "219  1  0.739589  1\n",
       "298  1  0.793527  1\n",
       "325  0  0.851853  1\n",
       "357  0  0.076918  0\n",
       "..  ..       ... ..\n",
       "97   0  0.141878  0\n",
       "115  1  0.932888  1\n",
       "169  1  0.829097  1\n",
       "413  1  0.345374  0\n",
       "177  0  0.143404  0\n",
       "\n",
       "[150 rows x 3 columns]"
      ]
     },
     "execution_count": 23,
     "metadata": {},
     "output_type": "execute_result"
    }
   ],
   "source": [
    "# Make predictions based on probability threshold of 0.5\n",
    "testSet['predictions'] = (testSet['predict1'] > 0.5).astype(int)\n",
    "sumTable1['P'] = testSet['predictions']\n",
    "sumTable1"
   ]
  },
  {
   "cell_type": "code",
   "execution_count": 25,
   "metadata": {
    "id": "xlQk7hqYsHwL"
   },
   "outputs": [],
   "source": [
    "from sklearn.metrics import accuracy_score, recall_score, precision_score, roc_auc_score, roc_curve"
   ]
  },
  {
   "cell_type": "code",
   "execution_count": 27,
   "metadata": {
    "id": "7FS8w-2ysIlk"
   },
   "outputs": [
    {
     "name": "stdout",
     "output_type": "stream",
     "text": [
      "Accuracy: 0.7933333333333333\n"
     ]
    }
   ],
   "source": [
    "# Calculate accuracy\n",
    "accuracy = accuracy_score(sumTable1['A'], sumTable1['P'])\n",
    "print(f'Accuracy: {accuracy}')"
   ]
  },
  {
   "cell_type": "code",
   "execution_count": 28,
   "metadata": {
    "id": "yuSL_r7AsYT3"
   },
   "outputs": [
    {
     "name": "stdout",
     "output_type": "stream",
     "text": [
      "Recall: 0.8181818181818182\n"
     ]
    }
   ],
   "source": [
    "# Calculate recall\n",
    "recall = recall_score(sumTable1['A'], sumTable1['P'])\n",
    "print(f'Recall: {recall}')"
   ]
  },
  {
   "cell_type": "code",
   "execution_count": 29,
   "metadata": {
    "id": "NicDWx4esa9G"
   },
   "outputs": [
    {
     "name": "stdout",
     "output_type": "stream",
     "text": [
      "Precision: 0.7875\n"
     ]
    }
   ],
   "source": [
    "# Calculate precision\n",
    "precision = precision_score(sumTable1['A'], sumTable1['P'])\n",
    "print(f'Precision: {precision}')"
   ]
  },
  {
   "cell_type": "code",
   "execution_count": 30,
   "metadata": {
    "id": "SgxhSyW-spz7"
   },
   "outputs": [
    {
     "name": "stdout",
     "output_type": "stream",
     "text": [
      "Sensitivity: 0.8181818181818182\n",
      "Secificity: 0.7671232876712328\n"
     ]
    }
   ],
   "source": [
    "# Sensitivity and Specificity (Sensitivity is same as recall)\n",
    "sensitivity = recall\n",
    "specificity = sum((sumTable1['A'] == 0) & (sumTable1['P'] == 0)) / sum(sumTable1['A'] == 0)\n",
    "print(f'Sensitivity: {sensitivity}')\n",
    "print(f'Secificity: {specificity}')"
   ]
  },
  {
   "cell_type": "code",
   "execution_count": 31,
   "metadata": {
    "id": "Y4Bufrh8tPIp"
   },
   "outputs": [
    {
     "name": "stdout",
     "output_type": "stream",
     "text": [
      "F1 Score: 0.8025477707006369\n"
     ]
    }
   ],
   "source": [
    "# Calculate F1 Score\n",
    "f1Score = 2 * (precision * recall) / (precision + recall)\n",
    "print(f'F1 Score: {f1Score}')"
   ]
  },
  {
   "cell_type": "code",
   "execution_count": 32,
   "metadata": {
    "id": "7NS_N1R_tcf9"
   },
   "outputs": [
    {
     "name": "stdout",
     "output_type": "stream",
     "text": [
      "AUC: 0.8624799857676569\n"
     ]
    }
   ],
   "source": [
    "# Plot ROC curve\n",
    "fpr, tpr, _ = roc_curve(testSet['Spam'], testSet['predict1'])\n",
    "roc_auc = roc_auc_score(testSet['Spam'], testSet['predict1'])\n",
    "# Calculate AUC\n",
    "print(f'AUC: {roc_auc}')\n"
   ]
  },
  {
   "cell_type": "code",
   "execution_count": 33,
   "metadata": {
    "id": "OZLGYNGpuGWY"
   },
   "outputs": [],
   "source": [
    "import matplotlib.pyplot as plt"
   ]
  },
  {
   "cell_type": "code",
   "execution_count": 34,
   "metadata": {
    "id": "1K-2SMbUt90Z"
   },
   "outputs": [
    {
     "data": {
      "image/png": "[encoded data removed]",
      "text/plain": [
       "<Figure size 640x480 with 1 Axes>"
      ]
     },
     "metadata": {},
     "output_type": "display_data"
    }
   ],
   "source": [
    "\n",
    "plt.figure()\n",
    "plt.plot(fpr, tpr, color='darkorange', lw=2, label=f'ROC curve (area = {roc_auc:.2f})')\n",
    "plt.plot([0, 1], [0, 1], color='navy', lw=2, linestyle='--')\n",
    "plt.xlim([0.0, 1.0])\n",
    "plt.ylim([0.0, 1.05])\n",
    "plt.xlabel('False Positive Rate')\n",
    "plt.ylabel('True Positive Rate')\n",
    "plt.title('Receiver Operating Characteristic')\n",
    "plt.legend(loc=\"lower right\")\n",
    "plt.show()\n"
   ]
  },
  {
   "cell_type": "code",
   "execution_count": 35,
   "metadata": {},
   "outputs": [
    {
     "data": {
      "text/html": [
       "<div>\n",
       "<style scoped>\n",
       "    .dataframe tbody tr th:only-of-type {\n",
       "        vertical-align: middle;\n",
       "    }\n",
       "\n",
       "    .dataframe tbody tr th {\n",
       "        vertical-align: top;\n",
       "    }\n",
       "\n",
       "    .dataframe thead th {\n",
       "        text-align: right;\n",
       "    }\n",
       "</style>\n",
       "<table border=\"1\" class=\"dataframe\">\n",
       "  <thead>\n",
       "    <tr style=\"text-align: right;\">\n",
       "      <th></th>\n",
       "      <th>Record</th>\n",
       "      <th>Spam</th>\n",
       "      <th>Recipients</th>\n",
       "      <th>Hyperlinks</th>\n",
       "      <th>Characters</th>\n",
       "    </tr>\n",
       "  </thead>\n",
       "  <tbody>\n",
       "    <tr>\n",
       "      <th>0</th>\n",
       "      <td>1</td>\n",
       "      <td>0</td>\n",
       "      <td>19</td>\n",
       "      <td>1</td>\n",
       "      <td>47</td>\n",
       "    </tr>\n",
       "    <tr>\n",
       "      <th>1</th>\n",
       "      <td>2</td>\n",
       "      <td>0</td>\n",
       "      <td>15</td>\n",
       "      <td>1</td>\n",
       "      <td>58</td>\n",
       "    </tr>\n",
       "    <tr>\n",
       "      <th>2</th>\n",
       "      <td>3</td>\n",
       "      <td>1</td>\n",
       "      <td>13</td>\n",
       "      <td>11</td>\n",
       "      <td>88</td>\n",
       "    </tr>\n",
       "    <tr>\n",
       "      <th>3</th>\n",
       "      <td>4</td>\n",
       "      <td>1</td>\n",
       "      <td>17</td>\n",
       "      <td>11</td>\n",
       "      <td>68</td>\n",
       "    </tr>\n",
       "    <tr>\n",
       "      <th>4</th>\n",
       "      <td>5</td>\n",
       "      <td>0</td>\n",
       "      <td>15</td>\n",
       "      <td>1</td>\n",
       "      <td>87</td>\n",
       "    </tr>\n",
       "  </tbody>\n",
       "</table>\n",
       "</div>"
      ],
      "text/plain": [
       "   Record  Spam  Recipients  Hyperlinks  Characters\n",
       "0       1     0          19           1          47\n",
       "1       2     0          15           1          58\n",
       "2       3     1          13          11          88\n",
       "3       4     1          17          11          68\n",
       "4       5     0          15           1          87"
      ]
     },
     "execution_count": 35,
     "metadata": {},
     "output_type": "execute_result"
    }
   ],
   "source": [
    "# KFold\n",
    "from sklearn.model_selection import KFold\n",
    "# Initialize KFold\n",
    "# k=2\n",
    "# k=5\n",
    "k=10\n",
    "kf = KFold(n_splits=k, shuffle=True, random_state=555)\n",
    "spamDf.head()"
   ]
  },
  {
   "cell_type": "code",
   "execution_count": 37,
   "metadata": {},
   "outputs": [
    {
     "name": "stdout",
     "output_type": "stream",
     "text": [
      "Optimization terminated successfully.\n",
      "         Current function value: 0.455772\n",
      "         Iterations 6\n",
      "expr=1\n",
      "                           Logit Regression Results                           \n",
      "==============================================================================\n",
      "Dep. Variable:                   Spam   No. Observations:                  450\n",
      "Model:                          Logit   Df Residuals:                      446\n",
      "Method:                           MLE   Df Model:                            3\n",
      "Date:                Tue, 18 Jun 2024   Pseudo R-squ.:                  0.3419\n",
      "Time:                        10:51:30   Log-Likelihood:                -205.10\n",
      "converged:                       True   LL-Null:                       -311.63\n",
      "Covariance Type:            nonrobust   LLR p-value:                 6.322e-46\n",
      "==============================================================================\n",
      "                 coef    std err          z      P>|z|      [0.025      0.975]\n",
      "------------------------------------------------------------------------------\n",
      "const         -3.7227      0.657     -5.663      0.000      -5.011      -2.434\n",
      "Recipients     0.1091      0.033      3.275      0.001       0.044       0.174\n",
      "Hyperlinks     0.5108      0.047     10.911      0.000       0.419       0.603\n",
      "Characters    -0.0159      0.005     -3.079      0.002      -0.026      -0.006\n",
      "==============================================================================\n",
      "Optimization terminated successfully.\n",
      "         Current function value: 0.451652\n",
      "         Iterations 6\n",
      "expr=2\n",
      "                           Logit Regression Results                           \n",
      "==============================================================================\n",
      "Dep. Variable:                   Spam   No. Observations:                  450\n",
      "Model:                          Logit   Df Residuals:                      446\n",
      "Method:                           MLE   Df Model:                            3\n",
      "Date:                Tue, 18 Jun 2024   Pseudo R-squ.:                  0.3481\n",
      "Time:                        10:51:30   Log-Likelihood:                -203.24\n",
      "converged:                       True   LL-Null:                       -311.76\n",
      "Covariance Type:            nonrobust   LLR p-value:                 8.824e-47\n",
      "==============================================================================\n",
      "                 coef    std err          z      P>|z|      [0.025      0.975]\n",
      "------------------------------------------------------------------------------\n",
      "const         -4.0241      0.701     -5.739      0.000      -5.398      -2.650\n",
      "Recipients     0.1046      0.036      2.889      0.004       0.034       0.176\n",
      "Hyperlinks     0.5235      0.047     11.071      0.000       0.431       0.616\n",
      "Characters    -0.0114      0.005     -2.207      0.027      -0.022      -0.001\n",
      "==============================================================================\n",
      "Optimization terminated successfully.\n",
      "         Current function value: 0.453339\n",
      "         Iterations 6\n",
      "expr=3\n",
      "                           Logit Regression Results                           \n",
      "==============================================================================\n",
      "Dep. Variable:                   Spam   No. Observations:                  450\n",
      "Model:                          Logit   Df Residuals:                      446\n",
      "Method:                           MLE   Df Model:                            3\n",
      "Date:                Tue, 18 Jun 2024   Pseudo R-squ.:                  0.3454\n",
      "Time:                        10:51:30   Log-Likelihood:                -204.00\n",
      "converged:                       True   LL-Null:                       -311.63\n",
      "Covariance Type:            nonrobust   LLR p-value:                 2.127e-46\n",
      "==============================================================================\n",
      "                 coef    std err          z      P>|z|      [0.025      0.975]\n",
      "------------------------------------------------------------------------------\n",
      "const         -4.0180      0.681     -5.902      0.000      -5.352      -2.684\n",
      "Recipients     0.1134      0.033      3.389      0.001       0.048       0.179\n",
      "Hyperlinks     0.5212      0.047     10.990      0.000       0.428       0.614\n",
      "Characters    -0.0133      0.005     -2.554      0.011      -0.023      -0.003\n",
      "==============================================================================\n",
      "Optimization terminated successfully.\n",
      "         Current function value: 0.457048\n",
      "         Iterations 6\n",
      "expr=4\n",
      "                           Logit Regression Results                           \n",
      "==============================================================================\n",
      "Dep. Variable:                   Spam   No. Observations:                  450\n",
      "Model:                          Logit   Df Residuals:                      446\n",
      "Method:                           MLE   Df Model:                            3\n",
      "Date:                Tue, 18 Jun 2024   Pseudo R-squ.:                  0.3405\n",
      "Time:                        10:51:30   Log-Likelihood:                -205.67\n",
      "converged:                       True   LL-Null:                       -311.85\n",
      "Covariance Type:            nonrobust   LLR p-value:                 9.055e-46\n",
      "==============================================================================\n",
      "                 coef    std err          z      P>|z|      [0.025      0.975]\n",
      "------------------------------------------------------------------------------\n",
      "const         -3.5367      0.654     -5.409      0.000      -4.818      -2.255\n",
      "Recipients     0.0993      0.032      3.055      0.002       0.036       0.163\n",
      "Hyperlinks     0.5120      0.047     10.909      0.000       0.420       0.604\n",
      "Characters    -0.0170      0.005     -3.256      0.001      -0.027      -0.007\n",
      "==============================================================================\n",
      "Optimization terminated successfully.\n",
      "         Current function value: 0.447361\n",
      "         Iterations 6\n",
      "expr=5\n",
      "                           Logit Regression Results                           \n",
      "==============================================================================\n",
      "Dep. Variable:                   Spam   No. Observations:                  450\n",
      "Model:                          Logit   Df Residuals:                      446\n",
      "Method:                           MLE   Df Model:                            3\n",
      "Date:                Tue, 18 Jun 2024   Pseudo R-squ.:                  0.3546\n",
      "Time:                        10:51:30   Log-Likelihood:                -201.31\n",
      "converged:                       True   LL-Null:                       -311.90\n",
      "Covariance Type:            nonrobust   LLR p-value:                 1.120e-47\n",
      "==============================================================================\n",
      "                 coef    std err          z      P>|z|      [0.025      0.975]\n",
      "------------------------------------------------------------------------------\n",
      "const         -4.2773      0.700     -6.114      0.000      -5.648      -2.906\n",
      "Recipients     0.1170      0.035      3.315      0.001       0.048       0.186\n",
      "Hyperlinks     0.5347      0.049     11.002      0.000       0.439       0.630\n",
      "Characters    -0.0118      0.005     -2.252      0.024      -0.022      -0.002\n",
      "==============================================================================\n",
      "Optimization terminated successfully.\n",
      "         Current function value: 0.463532\n",
      "         Iterations 6\n",
      "expr=6\n",
      "                           Logit Regression Results                           \n",
      "==============================================================================\n",
      "Dep. Variable:                   Spam   No. Observations:                  450\n",
      "Model:                          Logit   Df Residuals:                      446\n",
      "Method:                           MLE   Df Model:                            3\n",
      "Date:                Tue, 18 Jun 2024   Pseudo R-squ.:                  0.3301\n",
      "Time:                        10:51:30   Log-Likelihood:                -208.59\n",
      "converged:                       True   LL-Null:                       -311.38\n",
      "Covariance Type:            nonrobust   LLR p-value:                 2.630e-44\n",
      "==============================================================================\n",
      "                 coef    std err          z      P>|z|      [0.025      0.975]\n",
      "------------------------------------------------------------------------------\n",
      "const         -3.6552      0.649     -5.628      0.000      -4.928      -2.382\n",
      "Recipients     0.1065      0.033      3.226      0.001       0.042       0.171\n",
      "Hyperlinks     0.4956      0.045     10.900      0.000       0.406       0.585\n",
      "Characters    -0.0138      0.005     -2.700      0.007      -0.024      -0.004\n",
      "==============================================================================\n",
      "Optimization terminated successfully.\n",
      "         Current function value: 0.460819\n",
      "         Iterations 6\n",
      "expr=7\n",
      "                           Logit Regression Results                           \n",
      "==============================================================================\n",
      "Dep. Variable:                   Spam   No. Observations:                  450\n",
      "Model:                          Logit   Df Residuals:                      446\n",
      "Method:                           MLE   Df Model:                            3\n",
      "Date:                Tue, 18 Jun 2024   Pseudo R-squ.:                  0.3338\n",
      "Time:                        10:51:30   Log-Likelihood:                -207.37\n",
      "converged:                       True   LL-Null:                       -311.28\n",
      "Covariance Type:            nonrobust   LLR p-value:                 8.639e-45\n",
      "==============================================================================\n",
      "                 coef    std err          z      P>|z|      [0.025      0.975]\n",
      "------------------------------------------------------------------------------\n",
      "const         -3.7161      0.664     -5.599      0.000      -5.017      -2.415\n",
      "Recipients     0.1099      0.034      3.196      0.001       0.043       0.177\n",
      "Hyperlinks     0.5048      0.046     10.877      0.000       0.414       0.596\n",
      "Characters    -0.0152      0.005     -2.894      0.004      -0.025      -0.005\n",
      "==============================================================================\n",
      "Optimization terminated successfully.\n",
      "         Current function value: 0.458109\n",
      "         Iterations 6\n",
      "expr=8\n",
      "                           Logit Regression Results                           \n",
      "==============================================================================\n",
      "Dep. Variable:                   Spam   No. Observations:                  450\n",
      "Model:                          Logit   Df Residuals:                      446\n",
      "Method:                           MLE   Df Model:                            3\n",
      "Date:                Tue, 18 Jun 2024   Pseudo R-squ.:                  0.3387\n",
      "Time:                        10:51:30   Log-Likelihood:                -206.15\n",
      "converged:                       True   LL-Null:                       -311.76\n",
      "Covariance Type:            nonrobust   LLR p-value:                 1.591e-45\n",
      "==============================================================================\n",
      "                 coef    std err          z      P>|z|      [0.025      0.975]\n",
      "------------------------------------------------------------------------------\n",
      "const         -3.6182      0.681     -5.312      0.000      -4.953      -2.283\n",
      "Recipients     0.0953      0.036      2.661      0.008       0.025       0.165\n",
      "Hyperlinks     0.5145      0.047     10.842      0.000       0.421       0.607\n",
      "Characters    -0.0149      0.005     -2.886      0.004      -0.025      -0.005\n",
      "==============================================================================\n",
      "Optimization terminated successfully.\n",
      "         Current function value: 0.456503\n",
      "         Iterations 6\n",
      "expr=9\n",
      "                           Logit Regression Results                           \n",
      "==============================================================================\n",
      "Dep. Variable:                   Spam   No. Observations:                  450\n",
      "Model:                          Logit   Df Residuals:                      446\n",
      "Method:                           MLE   Df Model:                            3\n",
      "Date:                Tue, 18 Jun 2024   Pseudo R-squ.:                  0.3409\n",
      "Time:                        10:51:30   Log-Likelihood:                -205.43\n",
      "converged:                       True   LL-Null:                       -311.70\n",
      "Covariance Type:            nonrobust   LLR p-value:                 8.209e-46\n",
      "==============================================================================\n",
      "                 coef    std err          z      P>|z|      [0.025      0.975]\n",
      "------------------------------------------------------------------------------\n",
      "const         -3.8774      0.669     -5.795      0.000      -5.189      -2.566\n",
      "Recipients     0.1114      0.034      3.265      0.001       0.045       0.178\n",
      "Hyperlinks     0.5148      0.047     10.968      0.000       0.423       0.607\n",
      "Characters    -0.0140      0.005     -2.710      0.007      -0.024      -0.004\n",
      "==============================================================================\n",
      "Optimization terminated successfully.\n",
      "         Current function value: 0.462480\n",
      "         Iterations 6\n",
      "expr=10\n",
      "                           Logit Regression Results                           \n",
      "==============================================================================\n",
      "Dep. Variable:                   Spam   No. Observations:                  450\n",
      "Model:                          Logit   Df Residuals:                      446\n",
      "Method:                           MLE   Df Model:                            3\n",
      "Date:                Tue, 18 Jun 2024   Pseudo R-squ.:                  0.3322\n",
      "Time:                        10:51:30   Log-Likelihood:                -208.12\n",
      "converged:                       True   LL-Null:                       -311.63\n",
      "Covariance Type:            nonrobust   LLR p-value:                 1.276e-44\n",
      "==============================================================================\n",
      "                 coef    std err          z      P>|z|      [0.025      0.975]\n",
      "------------------------------------------------------------------------------\n",
      "const         -3.8155      0.663     -5.758      0.000      -5.114      -2.517\n",
      "Recipients     0.1073      0.033      3.274      0.001       0.043       0.172\n",
      "Hyperlinks     0.5045      0.046     10.892      0.000       0.414       0.595\n",
      "Characters    -0.0136      0.005     -2.609      0.009      -0.024      -0.003\n",
      "==============================================================================\n"
     ]
    },
    {
     "name": "stderr",
     "output_type": "stream",
     "text": [
      "/var/folders/kk/xx0ydj0576xgclh1nd3hdlbr0000gn/T/ipykernel_61311/1702950247.py:22: SettingWithCopyWarning: \n",
      "A value is trying to be set on a copy of a slice from a DataFrame.\n",
      "Try using .loc[row_indexer,col_indexer] = value instead\n",
      "\n",
      "See the caveats in the documentation: https://pandas.pydata.org/pandas-docs/stable/user_guide/indexing.html#returning-a-view-versus-a-copy\n",
      "  valSet['val_predictions'] = val_predictions\n",
      "/var/folders/kk/xx0ydj0576xgclh1nd3hdlbr0000gn/T/ipykernel_61311/1702950247.py:23: SettingWithCopyWarning: \n",
      "A value is trying to be set on a copy of a slice from a DataFrame.\n",
      "Try using .loc[row_indexer,col_indexer] = value instead\n",
      "\n",
      "See the caveats in the documentation: https://pandas.pydata.org/pandas-docs/stable/user_guide/indexing.html#returning-a-view-versus-a-copy\n",
      "  valSet['yHatCross'] = valSet['val_predictions'].apply(lambda x: 1 if x > 0.5 else 0)\n",
      "/var/folders/kk/xx0ydj0576xgclh1nd3hdlbr0000gn/T/ipykernel_61311/1702950247.py:24: SettingWithCopyWarning: \n",
      "A value is trying to be set on a copy of a slice from a DataFrame.\n",
      "Try using .loc[row_indexer,col_indexer] = value instead\n",
      "\n",
      "See the caveats in the documentation: https://pandas.pydata.org/pandas-docs/stable/user_guide/indexing.html#returning-a-view-versus-a-copy\n",
      "  valSet['isCrossCorrect'] = valSet.apply(lambda row: 1 if row['Spam'] == row['yHatCross'] else 0, axis=1)\n",
      "/var/folders/kk/xx0ydj0576xgclh1nd3hdlbr0000gn/T/ipykernel_61311/1702950247.py:22: SettingWithCopyWarning: \n",
      "A value is trying to be set on a copy of a slice from a DataFrame.\n",
      "Try using .loc[row_indexer,col_indexer] = value instead\n",
      "\n",
      "See the caveats in the documentation: https://pandas.pydata.org/pandas-docs/stable/user_guide/indexing.html#returning-a-view-versus-a-copy\n",
      "  valSet['val_predictions'] = val_predictions\n",
      "/var/folders/kk/xx0ydj0576xgclh1nd3hdlbr0000gn/T/ipykernel_61311/1702950247.py:23: SettingWithCopyWarning: \n",
      "A value is trying to be set on a copy of a slice from a DataFrame.\n",
      "Try using .loc[row_indexer,col_indexer] = value instead\n",
      "\n",
      "See the caveats in the documentation: https://pandas.pydata.org/pandas-docs/stable/user_guide/indexing.html#returning-a-view-versus-a-copy\n",
      "  valSet['yHatCross'] = valSet['val_predictions'].apply(lambda x: 1 if x > 0.5 else 0)\n",
      "/var/folders/kk/xx0ydj0576xgclh1nd3hdlbr0000gn/T/ipykernel_61311/1702950247.py:24: SettingWithCopyWarning: \n",
      "A value is trying to be set on a copy of a slice from a DataFrame.\n",
      "Try using .loc[row_indexer,col_indexer] = value instead\n",
      "\n",
      "See the caveats in the documentation: https://pandas.pydata.org/pandas-docs/stable/user_guide/indexing.html#returning-a-view-versus-a-copy\n",
      "  valSet['isCrossCorrect'] = valSet.apply(lambda row: 1 if row['Spam'] == row['yHatCross'] else 0, axis=1)\n",
      "/var/folders/kk/xx0ydj0576xgclh1nd3hdlbr0000gn/T/ipykernel_61311/1702950247.py:22: SettingWithCopyWarning: \n",
      "A value is trying to be set on a copy of a slice from a DataFrame.\n",
      "Try using .loc[row_indexer,col_indexer] = value instead\n",
      "\n",
      "See the caveats in the documentation: https://pandas.pydata.org/pandas-docs/stable/user_guide/indexing.html#returning-a-view-versus-a-copy\n",
      "  valSet['val_predictions'] = val_predictions\n",
      "/var/folders/kk/xx0ydj0576xgclh1nd3hdlbr0000gn/T/ipykernel_61311/1702950247.py:23: SettingWithCopyWarning: \n",
      "A value is trying to be set on a copy of a slice from a DataFrame.\n",
      "Try using .loc[row_indexer,col_indexer] = value instead\n",
      "\n",
      "See the caveats in the documentation: https://pandas.pydata.org/pandas-docs/stable/user_guide/indexing.html#returning-a-view-versus-a-copy\n",
      "  valSet['yHatCross'] = valSet['val_predictions'].apply(lambda x: 1 if x > 0.5 else 0)\n",
      "/var/folders/kk/xx0ydj0576xgclh1nd3hdlbr0000gn/T/ipykernel_61311/1702950247.py:24: SettingWithCopyWarning: \n",
      "A value is trying to be set on a copy of a slice from a DataFrame.\n",
      "Try using .loc[row_indexer,col_indexer] = value instead\n",
      "\n",
      "See the caveats in the documentation: https://pandas.pydata.org/pandas-docs/stable/user_guide/indexing.html#returning-a-view-versus-a-copy\n",
      "  valSet['isCrossCorrect'] = valSet.apply(lambda row: 1 if row['Spam'] == row['yHatCross'] else 0, axis=1)\n",
      "/var/folders/kk/xx0ydj0576xgclh1nd3hdlbr0000gn/T/ipykernel_61311/1702950247.py:22: SettingWithCopyWarning: \n",
      "A value is trying to be set on a copy of a slice from a DataFrame.\n",
      "Try using .loc[row_indexer,col_indexer] = value instead\n",
      "\n",
      "See the caveats in the documentation: https://pandas.pydata.org/pandas-docs/stable/user_guide/indexing.html#returning-a-view-versus-a-copy\n",
      "  valSet['val_predictions'] = val_predictions\n",
      "/var/folders/kk/xx0ydj0576xgclh1nd3hdlbr0000gn/T/ipykernel_61311/1702950247.py:23: SettingWithCopyWarning: \n",
      "A value is trying to be set on a copy of a slice from a DataFrame.\n",
      "Try using .loc[row_indexer,col_indexer] = value instead\n",
      "\n",
      "See the caveats in the documentation: https://pandas.pydata.org/pandas-docs/stable/user_guide/indexing.html#returning-a-view-versus-a-copy\n",
      "  valSet['yHatCross'] = valSet['val_predictions'].apply(lambda x: 1 if x > 0.5 else 0)\n",
      "/var/folders/kk/xx0ydj0576xgclh1nd3hdlbr0000gn/T/ipykernel_61311/1702950247.py:24: SettingWithCopyWarning: \n",
      "A value is trying to be set on a copy of a slice from a DataFrame.\n",
      "Try using .loc[row_indexer,col_indexer] = value instead\n",
      "\n",
      "See the caveats in the documentation: https://pandas.pydata.org/pandas-docs/stable/user_guide/indexing.html#returning-a-view-versus-a-copy\n",
      "  valSet['isCrossCorrect'] = valSet.apply(lambda row: 1 if row['Spam'] == row['yHatCross'] else 0, axis=1)\n",
      "/var/folders/kk/xx0ydj0576xgclh1nd3hdlbr0000gn/T/ipykernel_61311/1702950247.py:22: SettingWithCopyWarning: \n",
      "A value is trying to be set on a copy of a slice from a DataFrame.\n",
      "Try using .loc[row_indexer,col_indexer] = value instead\n",
      "\n",
      "See the caveats in the documentation: https://pandas.pydata.org/pandas-docs/stable/user_guide/indexing.html#returning-a-view-versus-a-copy\n",
      "  valSet['val_predictions'] = val_predictions\n",
      "/var/folders/kk/xx0ydj0576xgclh1nd3hdlbr0000gn/T/ipykernel_61311/1702950247.py:23: SettingWithCopyWarning: \n",
      "A value is trying to be set on a copy of a slice from a DataFrame.\n",
      "Try using .loc[row_indexer,col_indexer] = value instead\n",
      "\n",
      "See the caveats in the documentation: https://pandas.pydata.org/pandas-docs/stable/user_guide/indexing.html#returning-a-view-versus-a-copy\n",
      "  valSet['yHatCross'] = valSet['val_predictions'].apply(lambda x: 1 if x > 0.5 else 0)\n",
      "/var/folders/kk/xx0ydj0576xgclh1nd3hdlbr0000gn/T/ipykernel_61311/1702950247.py:24: SettingWithCopyWarning: \n",
      "A value is trying to be set on a copy of a slice from a DataFrame.\n",
      "Try using .loc[row_indexer,col_indexer] = value instead\n",
      "\n",
      "See the caveats in the documentation: https://pandas.pydata.org/pandas-docs/stable/user_guide/indexing.html#returning-a-view-versus-a-copy\n",
      "  valSet['isCrossCorrect'] = valSet.apply(lambda row: 1 if row['Spam'] == row['yHatCross'] else 0, axis=1)\n",
      "/var/folders/kk/xx0ydj0576xgclh1nd3hdlbr0000gn/T/ipykernel_61311/1702950247.py:22: SettingWithCopyWarning: \n",
      "A value is trying to be set on a copy of a slice from a DataFrame.\n",
      "Try using .loc[row_indexer,col_indexer] = value instead\n",
      "\n",
      "See the caveats in the documentation: https://pandas.pydata.org/pandas-docs/stable/user_guide/indexing.html#returning-a-view-versus-a-copy\n",
      "  valSet['val_predictions'] = val_predictions\n",
      "/var/folders/kk/xx0ydj0576xgclh1nd3hdlbr0000gn/T/ipykernel_61311/1702950247.py:23: SettingWithCopyWarning: \n",
      "A value is trying to be set on a copy of a slice from a DataFrame.\n",
      "Try using .loc[row_indexer,col_indexer] = value instead\n",
      "\n",
      "See the caveats in the documentation: https://pandas.pydata.org/pandas-docs/stable/user_guide/indexing.html#returning-a-view-versus-a-copy\n",
      "  valSet['yHatCross'] = valSet['val_predictions'].apply(lambda x: 1 if x > 0.5 else 0)\n",
      "/var/folders/kk/xx0ydj0576xgclh1nd3hdlbr0000gn/T/ipykernel_61311/1702950247.py:24: SettingWithCopyWarning: \n",
      "A value is trying to be set on a copy of a slice from a DataFrame.\n",
      "Try using .loc[row_indexer,col_indexer] = value instead\n",
      "\n",
      "See the caveats in the documentation: https://pandas.pydata.org/pandas-docs/stable/user_guide/indexing.html#returning-a-view-versus-a-copy\n",
      "  valSet['isCrossCorrect'] = valSet.apply(lambda row: 1 if row['Spam'] == row['yHatCross'] else 0, axis=1)\n",
      "/var/folders/kk/xx0ydj0576xgclh1nd3hdlbr0000gn/T/ipykernel_61311/1702950247.py:22: SettingWithCopyWarning: \n",
      "A value is trying to be set on a copy of a slice from a DataFrame.\n",
      "Try using .loc[row_indexer,col_indexer] = value instead\n",
      "\n",
      "See the caveats in the documentation: https://pandas.pydata.org/pandas-docs/stable/user_guide/indexing.html#returning-a-view-versus-a-copy\n",
      "  valSet['val_predictions'] = val_predictions\n",
      "/var/folders/kk/xx0ydj0576xgclh1nd3hdlbr0000gn/T/ipykernel_61311/1702950247.py:23: SettingWithCopyWarning: \n",
      "A value is trying to be set on a copy of a slice from a DataFrame.\n",
      "Try using .loc[row_indexer,col_indexer] = value instead\n",
      "\n",
      "See the caveats in the documentation: https://pandas.pydata.org/pandas-docs/stable/user_guide/indexing.html#returning-a-view-versus-a-copy\n",
      "  valSet['yHatCross'] = valSet['val_predictions'].apply(lambda x: 1 if x > 0.5 else 0)\n",
      "/var/folders/kk/xx0ydj0576xgclh1nd3hdlbr0000gn/T/ipykernel_61311/1702950247.py:24: SettingWithCopyWarning: \n",
      "A value is trying to be set on a copy of a slice from a DataFrame.\n",
      "Try using .loc[row_indexer,col_indexer] = value instead\n",
      "\n",
      "See the caveats in the documentation: https://pandas.pydata.org/pandas-docs/stable/user_guide/indexing.html#returning-a-view-versus-a-copy\n",
      "  valSet['isCrossCorrect'] = valSet.apply(lambda row: 1 if row['Spam'] == row['yHatCross'] else 0, axis=1)\n",
      "/var/folders/kk/xx0ydj0576xgclh1nd3hdlbr0000gn/T/ipykernel_61311/1702950247.py:22: SettingWithCopyWarning: \n",
      "A value is trying to be set on a copy of a slice from a DataFrame.\n",
      "Try using .loc[row_indexer,col_indexer] = value instead\n",
      "\n",
      "See the caveats in the documentation: https://pandas.pydata.org/pandas-docs/stable/user_guide/indexing.html#returning-a-view-versus-a-copy\n",
      "  valSet['val_predictions'] = val_predictions\n",
      "/var/folders/kk/xx0ydj0576xgclh1nd3hdlbr0000gn/T/ipykernel_61311/1702950247.py:23: SettingWithCopyWarning: \n",
      "A value is trying to be set on a copy of a slice from a DataFrame.\n",
      "Try using .loc[row_indexer,col_indexer] = value instead\n",
      "\n",
      "See the caveats in the documentation: https://pandas.pydata.org/pandas-docs/stable/user_guide/indexing.html#returning-a-view-versus-a-copy\n",
      "  valSet['yHatCross'] = valSet['val_predictions'].apply(lambda x: 1 if x > 0.5 else 0)\n",
      "/var/folders/kk/xx0ydj0576xgclh1nd3hdlbr0000gn/T/ipykernel_61311/1702950247.py:24: SettingWithCopyWarning: \n",
      "A value is trying to be set on a copy of a slice from a DataFrame.\n",
      "Try using .loc[row_indexer,col_indexer] = value instead\n",
      "\n",
      "See the caveats in the documentation: https://pandas.pydata.org/pandas-docs/stable/user_guide/indexing.html#returning-a-view-versus-a-copy\n",
      "  valSet['isCrossCorrect'] = valSet.apply(lambda row: 1 if row['Spam'] == row['yHatCross'] else 0, axis=1)\n",
      "/var/folders/kk/xx0ydj0576xgclh1nd3hdlbr0000gn/T/ipykernel_61311/1702950247.py:22: SettingWithCopyWarning: \n",
      "A value is trying to be set on a copy of a slice from a DataFrame.\n",
      "Try using .loc[row_indexer,col_indexer] = value instead\n",
      "\n",
      "See the caveats in the documentation: https://pandas.pydata.org/pandas-docs/stable/user_guide/indexing.html#returning-a-view-versus-a-copy\n",
      "  valSet['val_predictions'] = val_predictions\n",
      "/var/folders/kk/xx0ydj0576xgclh1nd3hdlbr0000gn/T/ipykernel_61311/1702950247.py:23: SettingWithCopyWarning: \n",
      "A value is trying to be set on a copy of a slice from a DataFrame.\n",
      "Try using .loc[row_indexer,col_indexer] = value instead\n",
      "\n",
      "See the caveats in the documentation: https://pandas.pydata.org/pandas-docs/stable/user_guide/indexing.html#returning-a-view-versus-a-copy\n",
      "  valSet['yHatCross'] = valSet['val_predictions'].apply(lambda x: 1 if x > 0.5 else 0)\n",
      "/var/folders/kk/xx0ydj0576xgclh1nd3hdlbr0000gn/T/ipykernel_61311/1702950247.py:24: SettingWithCopyWarning: \n",
      "A value is trying to be set on a copy of a slice from a DataFrame.\n",
      "Try using .loc[row_indexer,col_indexer] = value instead\n",
      "\n",
      "See the caveats in the documentation: https://pandas.pydata.org/pandas-docs/stable/user_guide/indexing.html#returning-a-view-versus-a-copy\n",
      "  valSet['isCrossCorrect'] = valSet.apply(lambda row: 1 if row['Spam'] == row['yHatCross'] else 0, axis=1)\n",
      "/var/folders/kk/xx0ydj0576xgclh1nd3hdlbr0000gn/T/ipykernel_61311/1702950247.py:22: SettingWithCopyWarning: \n",
      "A value is trying to be set on a copy of a slice from a DataFrame.\n",
      "Try using .loc[row_indexer,col_indexer] = value instead\n",
      "\n",
      "See the caveats in the documentation: https://pandas.pydata.org/pandas-docs/stable/user_guide/indexing.html#returning-a-view-versus-a-copy\n",
      "  valSet['val_predictions'] = val_predictions\n",
      "/var/folders/kk/xx0ydj0576xgclh1nd3hdlbr0000gn/T/ipykernel_61311/1702950247.py:23: SettingWithCopyWarning: \n",
      "A value is trying to be set on a copy of a slice from a DataFrame.\n",
      "Try using .loc[row_indexer,col_indexer] = value instead\n",
      "\n",
      "See the caveats in the documentation: https://pandas.pydata.org/pandas-docs/stable/user_guide/indexing.html#returning-a-view-versus-a-copy\n",
      "  valSet['yHatCross'] = valSet['val_predictions'].apply(lambda x: 1 if x > 0.5 else 0)\n",
      "/var/folders/kk/xx0ydj0576xgclh1nd3hdlbr0000gn/T/ipykernel_61311/1702950247.py:24: SettingWithCopyWarning: \n",
      "A value is trying to be set on a copy of a slice from a DataFrame.\n",
      "Try using .loc[row_indexer,col_indexer] = value instead\n",
      "\n",
      "See the caveats in the documentation: https://pandas.pydata.org/pandas-docs/stable/user_guide/indexing.html#returning-a-view-versus-a-copy\n",
      "  valSet['isCrossCorrect'] = valSet.apply(lambda row: 1 if row['Spam'] == row['yHatCross'] else 0, axis=1)\n"
     ]
    }
   ],
   "source": [
    "check = kf.split(spamDf)\n",
    "check\n",
    "experiment = 1\n",
    "# Loop through each fold\n",
    "# Initialize variables to store results\n",
    "accuracies = []\n",
    "\n",
    "for train_index, val_index in check:\n",
    "    # Split the data\n",
    "    trainSet, valSet = spamDf.iloc[train_index], spamDf.iloc[val_index]\n",
    "\n",
    "    # Fit the model\n",
    "\n",
    "    trainModel = sm.Logit(\n",
    "      trainSet[\"Spam\"],\n",
    "      sm.add_constant(trainSet[['Recipients', 'Hyperlinks', 'Characters']])\n",
    "    )\n",
    "    trainModelFit = trainModel.fit()\n",
    "\n",
    "    # Predict on the validation set\n",
    "    val_predictions = trainModelFit.predict(sm.add_constant(valSet[['Recipients', 'Hyperlinks', 'Characters']]))\n",
    "    valSet['val_predictions'] = val_predictions\n",
    "    valSet['yHatCross'] = valSet['val_predictions'].apply(lambda x: 1 if x > 0.5 else 0)\n",
    "    valSet['isCrossCorrect'] = valSet.apply(lambda row: 1 if row['Spam'] == row['yHatCross'] else 0, axis=1)\n",
    "    accuracy = (np.sum(valSet['isCrossCorrect']) / len(valSet['yHatCross'])) * 100\n",
    "    accuracies.append(accuracy)\n",
    "\n",
    "\n",
    "    # Print summary for each fold (optional)\n",
    "    print(f'expr={experiment}')\n",
    "    experiment = experiment +1\n",
    "    print(trainModelFit.summary())"
   ]
  },
  {
   "cell_type": "code",
   "execution_count": 39,
   "metadata": {},
   "outputs": [
    {
     "name": "stdout",
     "output_type": "stream",
     "text": [
      "Average accuracies across all folds: 79.6\n"
     ]
    },
    {
     "data": {
      "text/plain": [
       "([82.0, 78.0, 74.0, 80.0, 76.0, 84.0, 78.0, 82.0, 80.0, 82.0], None)"
      ]
     },
     "execution_count": 39,
     "metadata": {},
     "output_type": "execute_result"
    }
   ],
   "source": [
    "accuracies, print(f\"Average accuracies across all folds: {sum(accuracies) /len(accuracies)}\")"
   ]
  },
  {
   "cell_type": "code",
   "execution_count": 38,
   "metadata": {},
   "outputs": [
    {
     "data": {
      "text/plain": [
       "[82.0, 78.0, 74.0, 80.0, 76.0, 84.0, 78.0, 82.0, 80.0, 82.0]"
      ]
     },
     "execution_count": 38,
     "metadata": {},
     "output_type": "execute_result"
    }
   ],
   "source": [
    "accuracies"
   ]
  },
  {
   "cell_type": "markdown",
   "metadata": {},
   "source": [
    "## Expoprt model"
   ]
  },
  {
   "cell_type": "code",
   "execution_count": 40,
   "metadata": {},
   "outputs": [],
   "source": [
    "def transformer(df):\n",
    "    df = df.copy()\n",
    "    df.insert(0, 'const', 1)\n",
    "    \n",
    "    return df"
   ]
  },
  {
   "cell_type": "code",
   "execution_count": 41,
   "metadata": {},
   "outputs": [
    {
     "data": {
      "text/plain": [
       "<statsmodels.discrete.discrete_model.BinaryResultsWrapper at 0x364978440>"
      ]
     },
     "execution_count": 41,
     "metadata": {},
     "output_type": "execute_result"
    }
   ],
   "source": [
    "from mlModelSaver import MlModelSaver\n",
    "mlModelSaverInstance = MlModelSaver({\n",
    "    \"baseRelativePath\": \"../..\",\n",
    "    \"modelsFolder\": \"models\"\n",
    "})\n",
    "\n",
    "loadedModel = mlModelSaverInstance.exportModel(\n",
    "    spamBasedOnRecipientsHyperlinksCharactersLogitModelFit,\n",
    "    {\n",
    "        \"modelName\": \"spamBasedOnRecipientsHyperlinksCharactersLogitModelFit\",\n",
    "        \"description\": \"spamBasedOnRecipientsHyperlinksCharactersLogitModelFit\",\n",
    "        \"modelType\": \"sm.Logit\",\n",
    "        \"inputs\": [\n",
    "            {\n",
    "                \"name\": \"Recipients\",\n",
    "                \"type\": \"int\",\n",
    "            },\n",
    "            {\n",
    "                \"name\": \"Hyperlinks\",\n",
    "                \"type\": \"int\"\n",
    "            },\n",
    "            \n",
    "            {\n",
    "                \"name\": \"Characters\",\n",
    "                \"type\": \"int\"\n",
    "            }\n",
    "        ],\n",
    "        \"transformer\": transformer,\n",
    "        \"outputs\": [\n",
    "            {\n",
    "                \"name\": \"Spam\",\n",
    "                \"type\": \"probebility\"\n",
    "            }\n",
    "        ]\n",
    "    }\n",
    ")\n",
    "loadedModel"
   ]
  },
  {
   "cell_type": "code",
   "execution_count": 42,
   "metadata": {},
   "outputs": [],
   "source": [
    "testSet['predict2'] = spamBasedOnRecipientsHyperlinksCharactersLogitModelFit.predict(transformer(testSet[features]))\n",
    "testSet['predict3'] = spamBasedOnRecipientsHyperlinksCharactersLogitModelFit.predict(sm.add_constant(testSet[features]))"
   ]
  },
  {
   "cell_type": "code",
   "execution_count": 43,
   "metadata": {},
   "outputs": [
    {
     "data": {
      "text/html": [
       "<div>\n",
       "<style scoped>\n",
       "    .dataframe tbody tr th:only-of-type {\n",
       "        vertical-align: middle;\n",
       "    }\n",
       "\n",
       "    .dataframe tbody tr th {\n",
       "        vertical-align: top;\n",
       "    }\n",
       "\n",
       "    .dataframe thead th {\n",
       "        text-align: right;\n",
       "    }\n",
       "</style>\n",
       "<table border=\"1\" class=\"dataframe\">\n",
       "  <thead>\n",
       "    <tr style=\"text-align: right;\">\n",
       "      <th></th>\n",
       "      <th>Record</th>\n",
       "      <th>Spam</th>\n",
       "      <th>Recipients</th>\n",
       "      <th>Hyperlinks</th>\n",
       "      <th>Characters</th>\n",
       "      <th>predict1</th>\n",
       "      <th>predictions</th>\n",
       "      <th>predict2</th>\n",
       "      <th>predict3</th>\n",
       "    </tr>\n",
       "  </thead>\n",
       "  <tbody>\n",
       "    <tr>\n",
       "      <th>387</th>\n",
       "      <td>388</td>\n",
       "      <td>0</td>\n",
       "      <td>17</td>\n",
       "      <td>10</td>\n",
       "      <td>70</td>\n",
       "      <td>0.910903</td>\n",
       "      <td>1</td>\n",
       "      <td>0.910903</td>\n",
       "      <td>0.910903</td>\n",
       "    </tr>\n",
       "    <tr>\n",
       "      <th>219</th>\n",
       "      <td>220</td>\n",
       "      <td>1</td>\n",
       "      <td>12</td>\n",
       "      <td>8</td>\n",
       "      <td>33</td>\n",
       "      <td>0.739589</td>\n",
       "      <td>1</td>\n",
       "      <td>0.739589</td>\n",
       "      <td>0.739589</td>\n",
       "    </tr>\n",
       "    <tr>\n",
       "      <th>298</th>\n",
       "      <td>299</td>\n",
       "      <td>1</td>\n",
       "      <td>12</td>\n",
       "      <td>10</td>\n",
       "      <td>92</td>\n",
       "      <td>0.793527</td>\n",
       "      <td>1</td>\n",
       "      <td>0.793527</td>\n",
       "      <td>0.793527</td>\n",
       "    </tr>\n",
       "    <tr>\n",
       "      <th>325</th>\n",
       "      <td>326</td>\n",
       "      <td>0</td>\n",
       "      <td>13</td>\n",
       "      <td>10</td>\n",
       "      <td>71</td>\n",
       "      <td>0.851853</td>\n",
       "      <td>1</td>\n",
       "      <td>0.851853</td>\n",
       "      <td>0.851853</td>\n",
       "    </tr>\n",
       "    <tr>\n",
       "      <th>357</th>\n",
       "      <td>358</td>\n",
       "      <td>0</td>\n",
       "      <td>12</td>\n",
       "      <td>2</td>\n",
       "      <td>66</td>\n",
       "      <td>0.076918</td>\n",
       "      <td>0</td>\n",
       "      <td>0.076918</td>\n",
       "      <td>0.076918</td>\n",
       "    </tr>\n",
       "  </tbody>\n",
       "</table>\n",
       "</div>"
      ],
      "text/plain": [
       "     Record  Spam  Recipients  Hyperlinks  Characters  predict1  predictions  \\\n",
       "387     388     0          17          10          70  0.910903            1   \n",
       "219     220     1          12           8          33  0.739589            1   \n",
       "298     299     1          12          10          92  0.793527            1   \n",
       "325     326     0          13          10          71  0.851853            1   \n",
       "357     358     0          12           2          66  0.076918            0   \n",
       "\n",
       "     predict2  predict3  \n",
       "387  0.910903  0.910903  \n",
       "219  0.739589  0.739589  \n",
       "298  0.793527  0.793527  \n",
       "325  0.851853  0.851853  \n",
       "357  0.076918  0.076918  "
      ]
     },
     "execution_count": 43,
     "metadata": {},
     "output_type": "execute_result"
    }
   ],
   "source": [
    "testSet.head(5)"
   ]
  },
  {
   "cell_type": "code",
   "execution_count": 44,
   "metadata": {},
   "outputs": [],
   "source": [
    "testData = [\n",
    "    {\n",
    "        \"Recipients\": 12,\n",
    "        \"Hyperlinks\": 8,\n",
    "        \"Characters\": 33\n",
    "    },\n",
    "    {\n",
    "        \"Recipients\": 12,\n",
    "        \"Hyperlinks\": 10,\n",
    "        \"Characters\": 92\n",
    "    },\n",
    "    {\n",
    "        \"Recipients\": 13,\n",
    "        \"Hyperlinks\": 10,\n",
    "        \"Characters\": 71\n",
    "    },\n",
    "]\n",
    "\n",
    "# Create a DataFrame from the dictionary\n",
    "testDf = pd.DataFrame(testData)"
   ]
  },
  {
   "cell_type": "code",
   "execution_count": 45,
   "metadata": {},
   "outputs": [
    {
     "data": {
      "text/plain": [
       "0    0.739589\n",
       "1    0.793527\n",
       "2    0.851853\n",
       "dtype: float64"
      ]
     },
     "execution_count": 45,
     "metadata": {},
     "output_type": "execute_result"
    }
   ],
   "source": [
    "spamBasedOnRecipientsHyperlinksCharactersLogitModelFit.predict( transformer(testDf))"
   ]
  },
  {
   "cell_type": "code",
   "execution_count": 46,
   "metadata": {},
   "outputs": [
    {
     "data": {
      "text/plain": [
       "[{'Spam': 0.7395890361085591},\n",
       " {'Spam': 0.7935274978219301},\n",
       " {'Spam': 0.85185328295266}]"
      ]
     },
     "execution_count": 46,
     "metadata": {},
     "output_type": "execute_result"
    }
   ],
   "source": [
    "loadedModel.mlModelSavePredict(testDf)"
   ]
  },
  {
   "cell_type": "code",
   "execution_count": null,
   "metadata": {},
   "outputs": [],
   "source": []
  }
 ],
 "metadata": {
  "colab": {
   "provenance": []
  },
  "kernelspec": {
   "display_name": "Python 3 (ipykernel)",
   "language": "python",
   "name": "python3"
  },
  "language_info": {
   "codemirror_mode": {
    "name": "ipython",
    "version": 3
   },
   "file_extension": ".py",
   "mimetype": "text/x-python",
   "name": "python",
   "nbconvert_exporter": "python",
   "pygments_lexer": "ipython3",
   "version": "3.12.3"
  }
 },
 "nbformat": 4,
 "nbformat_minor": 4
}
