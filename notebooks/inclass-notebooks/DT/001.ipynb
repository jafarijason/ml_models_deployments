{
 "cells": [
  {
   "cell_type": "code",
   "execution_count": null,
   "id": "4aecd0cc-825c-4f36-9ab1-167447cd8e40",
   "metadata": {},
   "outputs": [],
   "source": [
    "import pandas as pd\n",
    "from sklearn.tree import DecisionTreeClassifier\n",
    "from sklearn.tree import plot_tree\n",
    "import matplotlib.pyplot as plt"
   ]
  },
  {
   "cell_type": "code",
   "execution_count": null,
   "id": "d53933d1-8a67-4d9e-8089-15727ca2d399",
   "metadata": {},
   "outputs": [],
   "source": [
    "# Reading the Excel file\n",
    "df = pd.read_excel('Loan.xlsx')\n",
    "df"
   ]
  },
  {
   "cell_type": "code",
   "execution_count": null,
   "id": "bd300373-2b0e-4813-bfeb-bb2cc9bd3f84",
   "metadata": {},
   "outputs": [],
   "source": [
    "# Converting the 'Paid' column to a categorical type\n",
    "df['Paid'] = df['Paid'].astype('category')\n",
    "df"
   ]
  },
  {
   "cell_type": "code",
   "execution_count": null,
   "id": "c9c0fbdd-5aa0-4600-96cd-c3261576f4f7",
   "metadata": {},
   "outputs": [],
   "source": [
    "# Mapping Education to numerical values\n",
    "education_map = {'High School': 1, 'Bachelor': 2, 'Masters': 3}\n",
    "df['Education_ordinal'] = df['Education'].map(education_map)\n",
    "df"
   ]
  },
  {
   "cell_type": "code",
   "execution_count": null,
   "id": "91d0658f-d132-4528-a59a-a8af6f971bbf",
   "metadata": {},
   "outputs": [],
   "source": [
    "# Splitting features and target\n",
    "X = df.drop(columns=['Paid', 'Education'])  # Dropping 'Paid' as target\n",
    "y = df['Paid']  # Target variable"
   ]
  },
  {
   "cell_type": "code",
   "execution_count": null,
   "id": "054fda7b-ff7a-4dd7-92d5-f7f283d15310",
   "metadata": {},
   "outputs": [],
   "source": [
    "# Creating the decision tree model\n",
    "dt = DecisionTreeClassifier(criterion='gini')\n",
    "dt.fit(X, y)"
   ]
  },
  {
   "cell_type": "code",
   "execution_count": null,
   "id": "40ab20cf-5657-4475-81ce-92f3d8df6833",
   "metadata": {},
   "outputs": [],
   "source": [
    "# Plotting the decision tree\n",
    "plt.figure(figsize=(20,10))\n",
    "plot_tree(dt, filled=True, feature_names=X.columns, class_names=df['Paid'].cat.categories.astype(str))\n",
    "plt.show()"
   ]
  },
  {
   "cell_type": "code",
   "execution_count": null,
   "id": "307a6808-9174-455e-a725-971c2c2cbbd2",
   "metadata": {},
   "outputs": [],
   "source": [
    "# Plotting the decision tree\n",
    "plt.figure(figsize=(20,10))\n",
    "plot_tree(dt_minbucket, filled=True, feature_names=X.columns, class_names=df['Paid'].cat.categories.astype(str))\n",
    "plt.show()\n"
   ]
  },
  {
   "cell_type": "code",
   "execution_count": null,
   "id": "955cbef7-b0b6-46b1-bbdd-fe0c10f4b689",
   "metadata": {},
   "outputs": [],
   "source": [
    "def transformer(df):\n",
    "    transformed_df= df.copy()\n",
    "    # Mapping Education to numerical values\n",
    "    education_map = {'High School': 1, 'Bachelor': 2, 'Masters': 3}\n",
    "    transformed_df['Education_ordinal'] = transformed_df['Education'].map(education_map)\n",
    "    transformed_df = transformed_df.drop(columns=['Education'])\n",
    "            \n",
    "    return transformed_df"
   ]
  },
  {
   "cell_type": "code",
   "execution_count": null,
   "id": "97aac79e-32a4-49ec-ac04-fb18c4c4f269",
   "metadata": {},
   "outputs": [],
   "source": [
    "testData =  [\n",
    "    {\n",
    "        \"Income\": 51,\n",
    "        \"YearsCurrntJob\": 2,\n",
    "        \"Education\": \"High School\"\n",
    "        \n",
    "    }\n",
    "]\n",
    "testDf = pd.DataFrame(testData)\n",
    "# answerListSampl1\n",
    "transformer(testDf)"
   ]
  },
  {
   "cell_type": "code",
   "execution_count": null,
   "id": "e461c3d1-df06-423d-9a9b-cab4a9f0ce17",
   "metadata": {},
   "outputs": [],
   "source": [
    "newDf = df.copy()"
   ]
  },
  {
   "cell_type": "code",
   "execution_count": null,
   "id": "c45f4d1d-1b58-42ef-9ffd-e271fc7c442a",
   "metadata": {},
   "outputs": [],
   "source": [
    "newDf['predict'] = dt.predict(newDf.drop(columns=['Paid', 'Education']))\n",
    "newDf"
   ]
  },
  {
   "cell_type": "code",
   "execution_count": null,
   "id": "ff555db3-4f8e-48a4-b729-6c0eaf285dec",
   "metadata": {},
   "outputs": [],
   "source": [
    "dt.predict(transformer(testDf))"
   ]
  },
  {
   "cell_type": "code",
   "execution_count": null,
   "id": "3df87f57-36d1-4ae7-b65a-e67435f57af5",
   "metadata": {},
   "outputs": [],
   "source": [
    "dt.predict_proba(transformer(testDf))"
   ]
  },
  {
   "cell_type": "code",
   "execution_count": null,
   "id": "9acaed76-6cd2-4a15-a4e4-e54006fcbeee",
   "metadata": {},
   "outputs": [],
   "source": [
    "from mlModelSaver import MlModelSaver\n",
    "mlModelSaverInstance = MlModelSaver({\n",
    "    \"baseRelativePath\": \"../../..\",\n",
    "    \"modelsFolder\": \"models\"\n",
    "})\n",
    "\n",
    "loadedModel = mlModelSaverInstance.exportModel(\n",
    "    dt,\n",
    "    {\n",
    "        \"modelName\": \"001_inclass_decision_tree\",\n",
    "        \"description\": \"001_inclass_decision_tree\",\n",
    "        \"modelType\": \"sklearn.tree.DecisionTreeClassifier\",\n",
    "        \"inputs\": [\n",
    "            {\n",
    "                \"name\": \"Income\",\n",
    "                \"type\": \"int\"\n",
    "            },\n",
    "            {\n",
    "                \"name\": \"YearsCurrntJob\",\n",
    "                \"type\": \"int\"\n",
    "            },\n",
    "            {\n",
    "                \"name\": \"Education\",\n",
    "                \"type\": \"type\",\n",
    "                \"possibleTypes\": [\n",
    "                    \"High School\",\n",
    "                    \"Bachelor\",\n",
    "                    \"Masters\"\n",
    "                ]\n",
    "            },\n",
    "        ],\n",
    "        \"transformer\": transformer,\n",
    "        \"outputs\": [\n",
    "            {\n",
    "                \"name\": \"Paid_probibility1\",\n",
    "                \"type\": \"probebility\",\n",
    "            },\n",
    "            {\n",
    "                \"name\": \"Paid_probibility2\",\n",
    "                \"type\": \"probebility\"\n",
    "            },\n",
    "        ]\n",
    "    }\n",
    ")\n",
    "loadedModel"
   ]
  },
  {
   "cell_type": "code",
   "execution_count": null,
   "id": "12d69787-6cc9-448b-8bae-eabf1f19c289",
   "metadata": {},
   "outputs": [],
   "source": [
    "dt.predict_proba(transformer(testDf))"
   ]
  },
  {
   "cell_type": "code",
   "execution_count": null,
   "id": "d3a16751-c597-4253-ad1a-0268a57b0a36",
   "metadata": {},
   "outputs": [],
   "source": [
    "loadedModel.mlModelSavePredict(testDf)"
   ]
  },
  {
   "cell_type": "code",
   "execution_count": null,
   "id": "7b0eed3f-9561-45ca-a018-e5a6f7f6fc42",
   "metadata": {},
   "outputs": [],
   "source": []
  }
 ],
 "metadata": {
  "kernelspec": {
   "display_name": "Python 3 (ipykernel)",
   "language": "python",
   "name": "python3"
  },
  "language_info": {
   "codemirror_mode": {
    "name": "ipython",
    "version": 3
   },
   "file_extension": ".py",
   "mimetype": "text/x-python",
   "name": "python",
   "nbconvert_exporter": "python",
   "pygments_lexer": "ipython3",
   "version": "3.12.3"
  }
 },
 "nbformat": 4,
 "nbformat_minor": 5
}
