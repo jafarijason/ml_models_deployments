{
 "cells": [
  {
   "cell_type": "code",
   "execution_count": 1,
   "metadata": {
    "id": "xwFyEsosINqT"
   },
   "outputs": [],
   "source": [
    "import numpy as np\n",
    "import pandas as pd"
   ]
  },
  {
   "cell_type": "code",
   "execution_count": 2,
   "metadata": {
    "id": "pKewSQysItJ-"
   },
   "outputs": [],
   "source": [
    "# https://www.statsmodels.org/stable/index.html\n",
    "import statsmodels.api as sm"
   ]
  },
  {
   "cell_type": "code",
   "execution_count": 3,
   "metadata": {
    "id": "Lz-DyAtNWsJR"
   },
   "outputs": [],
   "source": [
    "# Download Dataset from https://www.dropbox.com/scl/fi/32vgpt3jvtztu86avdnwg/Mortgage.xlsx?rlkey=qx1d46hzgn4h67zrcyajdyl3e&dl=1\n",
    "# and add it to colab"
   ]
  },
  {
   "cell_type": "code",
   "execution_count": 4,
   "metadata": {
    "id": "0zM8FGMJXJ70"
   },
   "outputs": [],
   "source": [
    "# mortgageDf = pd.read_excel(\"./Mortgage.xlsx\")\n",
    "mortgageDf = pd.read_excel(\"https://www.dropbox.com/scl/fi/32vgpt3jvtztu86avdnwg/Mortgage.xlsx?rlkey=qx1d46hzgn4h67zrcyajdyl3e&dl=1\")"
   ]
  },
  {
   "cell_type": "code",
   "execution_count": 5,
   "metadata": {
    "colab": {
     "base_uri": "https://localhost:8080/",
     "height": 990
    },
    "id": "t0LUca0Myqw5",
    "outputId": "4d635fe3-6bb5-4417-f511-3bd87a662ae3"
   },
   "outputs": [
    {
     "data": {
      "text/html": [
       "<div>\n",
       "<style scoped>\n",
       "    .dataframe tbody tr th:only-of-type {\n",
       "        vertical-align: middle;\n",
       "    }\n",
       "\n",
       "    .dataframe tbody tr th {\n",
       "        vertical-align: top;\n",
       "    }\n",
       "\n",
       "    .dataframe thead th {\n",
       "        text-align: right;\n",
       "    }\n",
       "</style>\n",
       "<table border=\"1\" class=\"dataframe\">\n",
       "  <thead>\n",
       "    <tr style=\"text-align: right;\">\n",
       "      <th></th>\n",
       "      <th>y</th>\n",
       "      <th>x1</th>\n",
       "      <th>x2</th>\n",
       "    </tr>\n",
       "  </thead>\n",
       "  <tbody>\n",
       "    <tr>\n",
       "      <th>0</th>\n",
       "      <td>1</td>\n",
       "      <td>16.35</td>\n",
       "      <td>49.94</td>\n",
       "    </tr>\n",
       "    <tr>\n",
       "      <th>1</th>\n",
       "      <td>1</td>\n",
       "      <td>34.43</td>\n",
       "      <td>56.16</td>\n",
       "    </tr>\n",
       "    <tr>\n",
       "      <th>2</th>\n",
       "      <td>1</td>\n",
       "      <td>39.19</td>\n",
       "      <td>36.89</td>\n",
       "    </tr>\n",
       "    <tr>\n",
       "      <th>3</th>\n",
       "      <td>1</td>\n",
       "      <td>23.58</td>\n",
       "      <td>56.88</td>\n",
       "    </tr>\n",
       "    <tr>\n",
       "      <th>4</th>\n",
       "      <td>0</td>\n",
       "      <td>29.92</td>\n",
       "      <td>27.05</td>\n",
       "    </tr>\n",
       "    <tr>\n",
       "      <th>5</th>\n",
       "      <td>1</td>\n",
       "      <td>25.26</td>\n",
       "      <td>44.38</td>\n",
       "    </tr>\n",
       "    <tr>\n",
       "      <th>6</th>\n",
       "      <td>1</td>\n",
       "      <td>36.51</td>\n",
       "      <td>48.98</td>\n",
       "    </tr>\n",
       "    <tr>\n",
       "      <th>7</th>\n",
       "      <td>1</td>\n",
       "      <td>11.70</td>\n",
       "      <td>55.55</td>\n",
       "    </tr>\n",
       "    <tr>\n",
       "      <th>8</th>\n",
       "      <td>0</td>\n",
       "      <td>32.21</td>\n",
       "      <td>31.28</td>\n",
       "    </tr>\n",
       "    <tr>\n",
       "      <th>9</th>\n",
       "      <td>1</td>\n",
       "      <td>28.74</td>\n",
       "      <td>35.63</td>\n",
       "    </tr>\n",
       "    <tr>\n",
       "      <th>10</th>\n",
       "      <td>1</td>\n",
       "      <td>18.28</td>\n",
       "      <td>39.50</td>\n",
       "    </tr>\n",
       "    <tr>\n",
       "      <th>11</th>\n",
       "      <td>0</td>\n",
       "      <td>10.12</td>\n",
       "      <td>31.39</td>\n",
       "    </tr>\n",
       "    <tr>\n",
       "      <th>12</th>\n",
       "      <td>0</td>\n",
       "      <td>10.39</td>\n",
       "      <td>29.47</td>\n",
       "    </tr>\n",
       "    <tr>\n",
       "      <th>13</th>\n",
       "      <td>0</td>\n",
       "      <td>21.46</td>\n",
       "      <td>29.34</td>\n",
       "    </tr>\n",
       "    <tr>\n",
       "      <th>14</th>\n",
       "      <td>1</td>\n",
       "      <td>33.56</td>\n",
       "      <td>40.37</td>\n",
       "    </tr>\n",
       "    <tr>\n",
       "      <th>15</th>\n",
       "      <td>1</td>\n",
       "      <td>37.91</td>\n",
       "      <td>22.92</td>\n",
       "    </tr>\n",
       "    <tr>\n",
       "      <th>16</th>\n",
       "      <td>1</td>\n",
       "      <td>31.81</td>\n",
       "      <td>47.56</td>\n",
       "    </tr>\n",
       "    <tr>\n",
       "      <th>17</th>\n",
       "      <td>0</td>\n",
       "      <td>25.88</td>\n",
       "      <td>44.58</td>\n",
       "    </tr>\n",
       "    <tr>\n",
       "      <th>18</th>\n",
       "      <td>1</td>\n",
       "      <td>38.40</td>\n",
       "      <td>47.85</td>\n",
       "    </tr>\n",
       "    <tr>\n",
       "      <th>19</th>\n",
       "      <td>0</td>\n",
       "      <td>26.62</td>\n",
       "      <td>25.50</td>\n",
       "    </tr>\n",
       "    <tr>\n",
       "      <th>20</th>\n",
       "      <td>0</td>\n",
       "      <td>14.36</td>\n",
       "      <td>21.87</td>\n",
       "    </tr>\n",
       "    <tr>\n",
       "      <th>21</th>\n",
       "      <td>1</td>\n",
       "      <td>22.22</td>\n",
       "      <td>20.79</td>\n",
       "    </tr>\n",
       "    <tr>\n",
       "      <th>22</th>\n",
       "      <td>1</td>\n",
       "      <td>32.10</td>\n",
       "      <td>51.56</td>\n",
       "    </tr>\n",
       "    <tr>\n",
       "      <th>23</th>\n",
       "      <td>0</td>\n",
       "      <td>11.75</td>\n",
       "      <td>32.96</td>\n",
       "    </tr>\n",
       "    <tr>\n",
       "      <th>24</th>\n",
       "      <td>1</td>\n",
       "      <td>10.32</td>\n",
       "      <td>48.59</td>\n",
       "    </tr>\n",
       "    <tr>\n",
       "      <th>25</th>\n",
       "      <td>0</td>\n",
       "      <td>11.43</td>\n",
       "      <td>34.78</td>\n",
       "    </tr>\n",
       "    <tr>\n",
       "      <th>26</th>\n",
       "      <td>0</td>\n",
       "      <td>12.58</td>\n",
       "      <td>33.27</td>\n",
       "    </tr>\n",
       "    <tr>\n",
       "      <th>27</th>\n",
       "      <td>0</td>\n",
       "      <td>27.53</td>\n",
       "      <td>25.63</td>\n",
       "    </tr>\n",
       "    <tr>\n",
       "      <th>28</th>\n",
       "      <td>1</td>\n",
       "      <td>36.71</td>\n",
       "      <td>37.05</td>\n",
       "    </tr>\n",
       "    <tr>\n",
       "      <th>29</th>\n",
       "      <td>0</td>\n",
       "      <td>17.85</td>\n",
       "      <td>26.86</td>\n",
       "    </tr>\n",
       "  </tbody>\n",
       "</table>\n",
       "</div>"
      ],
      "text/plain": [
       "    y     x1     x2\n",
       "0   1  16.35  49.94\n",
       "1   1  34.43  56.16\n",
       "2   1  39.19  36.89\n",
       "3   1  23.58  56.88\n",
       "4   0  29.92  27.05\n",
       "5   1  25.26  44.38\n",
       "6   1  36.51  48.98\n",
       "7   1  11.70  55.55\n",
       "8   0  32.21  31.28\n",
       "9   1  28.74  35.63\n",
       "10  1  18.28  39.50\n",
       "11  0  10.12  31.39\n",
       "12  0  10.39  29.47\n",
       "13  0  21.46  29.34\n",
       "14  1  33.56  40.37\n",
       "15  1  37.91  22.92\n",
       "16  1  31.81  47.56\n",
       "17  0  25.88  44.58\n",
       "18  1  38.40  47.85\n",
       "19  0  26.62  25.50\n",
       "20  0  14.36  21.87\n",
       "21  1  22.22  20.79\n",
       "22  1  32.10  51.56\n",
       "23  0  11.75  32.96\n",
       "24  1  10.32  48.59\n",
       "25  0  11.43  34.78\n",
       "26  0  12.58  33.27\n",
       "27  0  27.53  25.63\n",
       "28  1  36.71  37.05\n",
       "29  0  17.85  26.86"
      ]
     },
     "execution_count": 5,
     "metadata": {},
     "output_type": "execute_result"
    }
   ],
   "source": [
    "mortgageDf"
   ]
  },
  {
   "cell_type": "code",
   "execution_count": 6,
   "metadata": {
    "id": "GQRNPIeyy6ub"
   },
   "outputs": [
    {
     "data": {
      "text/plain": [
       "90"
      ]
     },
     "execution_count": 6,
     "metadata": {},
     "output_type": "execute_result"
    }
   ],
   "source": [
    "mortgageDf.size"
   ]
  },
  {
   "cell_type": "code",
   "execution_count": 7,
   "metadata": {
    "id": "yumMybniy85d"
   },
   "outputs": [
    {
     "data": {
      "text/html": [
       "<div>\n",
       "<style scoped>\n",
       "    .dataframe tbody tr th:only-of-type {\n",
       "        vertical-align: middle;\n",
       "    }\n",
       "\n",
       "    .dataframe tbody tr th {\n",
       "        vertical-align: top;\n",
       "    }\n",
       "\n",
       "    .dataframe thead th {\n",
       "        text-align: right;\n",
       "    }\n",
       "</style>\n",
       "<table border=\"1\" class=\"dataframe\">\n",
       "  <thead>\n",
       "    <tr style=\"text-align: right;\">\n",
       "      <th></th>\n",
       "      <th>y</th>\n",
       "      <th>x1</th>\n",
       "      <th>x2</th>\n",
       "    </tr>\n",
       "  </thead>\n",
       "  <tbody>\n",
       "    <tr>\n",
       "      <th>count</th>\n",
       "      <td>30.000000</td>\n",
       "      <td>30.000000</td>\n",
       "      <td>30.000000</td>\n",
       "    </tr>\n",
       "    <tr>\n",
       "      <th>mean</th>\n",
       "      <td>0.566667</td>\n",
       "      <td>24.305667</td>\n",
       "      <td>37.819333</td>\n",
       "    </tr>\n",
       "    <tr>\n",
       "      <th>std</th>\n",
       "      <td>0.504007</td>\n",
       "      <td>9.842847</td>\n",
       "      <td>10.942216</td>\n",
       "    </tr>\n",
       "    <tr>\n",
       "      <th>min</th>\n",
       "      <td>0.000000</td>\n",
       "      <td>10.120000</td>\n",
       "      <td>20.790000</td>\n",
       "    </tr>\n",
       "    <tr>\n",
       "      <th>25%</th>\n",
       "      <td>0.000000</td>\n",
       "      <td>14.857500</td>\n",
       "      <td>29.372500</td>\n",
       "    </tr>\n",
       "    <tr>\n",
       "      <th>50%</th>\n",
       "      <td>1.000000</td>\n",
       "      <td>25.570000</td>\n",
       "      <td>36.260000</td>\n",
       "    </tr>\n",
       "    <tr>\n",
       "      <th>75%</th>\n",
       "      <td>1.000000</td>\n",
       "      <td>32.182500</td>\n",
       "      <td>47.777500</td>\n",
       "    </tr>\n",
       "    <tr>\n",
       "      <th>max</th>\n",
       "      <td>1.000000</td>\n",
       "      <td>39.190000</td>\n",
       "      <td>56.880000</td>\n",
       "    </tr>\n",
       "  </tbody>\n",
       "</table>\n",
       "</div>"
      ],
      "text/plain": [
       "               y         x1         x2\n",
       "count  30.000000  30.000000  30.000000\n",
       "mean    0.566667  24.305667  37.819333\n",
       "std     0.504007   9.842847  10.942216\n",
       "min     0.000000  10.120000  20.790000\n",
       "25%     0.000000  14.857500  29.372500\n",
       "50%     1.000000  25.570000  36.260000\n",
       "75%     1.000000  32.182500  47.777500\n",
       "max     1.000000  39.190000  56.880000"
      ]
     },
     "execution_count": 7,
     "metadata": {},
     "output_type": "execute_result"
    }
   ],
   "source": [
    "mortgageDf.describe()"
   ]
  },
  {
   "cell_type": "code",
   "execution_count": 8,
   "metadata": {
    "colab": {
     "base_uri": "https://localhost:8080/"
    },
    "id": "aspq6hoPy_xZ",
    "outputId": "87b2268e-26fd-4432-e306-66e2d1a8492f"
   },
   "outputs": [
    {
     "data": {
      "text/plain": [
       "(30, 3)"
      ]
     },
     "execution_count": 8,
     "metadata": {},
     "output_type": "execute_result"
    }
   ],
   "source": [
    "mortgageDf.shape"
   ]
  },
  {
   "cell_type": "code",
   "execution_count": 9,
   "metadata": {
    "id": "z_hVTvPrzYJr"
   },
   "outputs": [],
   "source": [
    "import matplotlib.pyplot as plt"
   ]
  },
  {
   "cell_type": "code",
   "execution_count": 10,
   "metadata": {
    "colab": {
     "base_uri": "https://localhost:8080/",
     "height": 34
    },
    "id": "pIniVuaIzaaZ",
    "outputId": "06201dcc-cc86-4530-e507-1b19f4ff689f"
   },
   "outputs": [
    {
     "data": {
      "text/plain": [
       "<Figure size 800x800 with 0 Axes>"
      ]
     },
     "metadata": {},
     "output_type": "display_data"
    }
   ],
   "source": [
    "# Plotting\n",
    "fig1 = plt.figure(\n",
    "  figsize=(8, 8)\n",
    ")"
   ]
  },
  {
   "cell_type": "code",
   "execution_count": 11,
   "metadata": {
    "colab": {
     "base_uri": "https://localhost:8080/",
     "height": 449
    },
    "id": "VHdpDE7o42Pf",
    "outputId": "5e6f4cb2-ac18-4aec-b0d2-7074dfb4db85"
   },
   "outputs": [
    {
     "data": {
      "image/png": "[encoded data removed]",
      "text/plain": [
       "<Figure size 640x480 with 1 Axes>"
      ]
     },
     "metadata": {},
     "output_type": "display_data"
    }
   ],
   "source": [
    "plt.scatter(\n",
    "  mortgageDf[\"x1\"],\n",
    "  mortgageDf[\"y\"],\n",
    "  color='blue',\n",
    "  alpha=0.9,\n",
    "  label='Data Points - scatter',\n",
    ")\n",
    "\n",
    "plt.xlabel('x1')\n",
    "plt.ylabel('y')\n",
    "plt.legend()\n",
    "plt.grid(True)\n",
    "\n",
    "\n",
    "\n",
    "plt.show()"
   ]
  },
  {
   "cell_type": "code",
   "execution_count": null,
   "metadata": {
    "id": "ean6vMxkWfHF"
   },
   "outputs": [],
   "source": []
  },
  {
   "cell_type": "code",
   "execution_count": 12,
   "metadata": {
    "colab": {
     "base_uri": "https://localhost:8080/",
     "height": 449
    },
    "id": "knAa4W9R47rZ",
    "outputId": "ca740df8-0e62-4012-8479-87ca155eb604"
   },
   "outputs": [
    {
     "data": {
      "image/png": "[encoded data removed]",
      "text/plain": [
       "<Figure size 640x480 with 1 Axes>"
      ]
     },
     "metadata": {},
     "output_type": "display_data"
    }
   ],
   "source": [
    "plt.scatter(\n",
    "  mortgageDf[\"x2\"],\n",
    "  mortgageDf[\"y\"],\n",
    "  color='blue',\n",
    "  alpha=0.9,\n",
    "  label='Data Points - scatter',\n",
    ")\n",
    "\n",
    "plt.xlabel('x2')\n",
    "plt.ylabel('y')\n",
    "plt.legend()\n",
    "plt.grid(True)\n",
    "\n",
    "\n",
    "\n",
    "plt.show()"
   ]
  },
  {
   "cell_type": "code",
   "execution_count": 13,
   "metadata": {
    "colab": {
     "base_uri": "https://localhost:8080/"
    },
    "id": "alIhUPPUzvli",
    "outputId": "b111f786-d897-4e69-f5c7-0f90f579f9f5"
   },
   "outputs": [
    {
     "name": "stdout",
     "output_type": "stream",
     "text": [
      "                            OLS Regression Results                            \n",
      "==============================================================================\n",
      "Dep. Variable:                      y   R-squared:                       0.506\n",
      "Model:                            OLS   Adj. R-squared:                  0.469\n",
      "Method:                 Least Squares   F-statistic:                     13.82\n",
      "Date:                Mon, 17 Jun 2024   Prob (F-statistic):           7.37e-05\n",
      "Time:                        22:44:33   Log-Likelihood:                -10.931\n",
      "No. Observations:                  30   AIC:                             27.86\n",
      "Df Residuals:                      27   BIC:                             32.07\n",
      "Df Model:                           2                                         \n",
      "Covariance Type:            nonrobust                                         \n",
      "==============================================================================\n",
      "                 coef    std err          t      P>|t|      [0.025      0.975]\n",
      "------------------------------------------------------------------------------\n",
      "const         -0.8682      0.281     -3.089      0.005      -1.445      -0.291\n",
      "x1             0.0188      0.007      2.694      0.012       0.004       0.033\n",
      "x2             0.0258      0.006      4.107      0.000       0.013       0.039\n",
      "==============================================================================\n",
      "Omnibus:                        1.526   Durbin-Watson:                   2.217\n",
      "Prob(Omnibus):                  0.466   Jarque-Bera (JB):                0.712\n",
      "Skew:                           0.357   Prob(JB):                        0.700\n",
      "Kurtosis:                       3.247   Cond. No.                         194.\n",
      "==============================================================================\n",
      "\n",
      "Notes:\n",
      "[1] Standard Errors assume that the covariance matrix of the errors is correctly specified.\n"
     ]
    }
   ],
   "source": [
    "model1 = sm.OLS(\n",
    "  mortgageDf[\"y\"],\n",
    "  sm.add_constant(mortgageDf[[\"x1\", \"x2\"]])\n",
    ")\n",
    "model1Fit = model1.fit()\n",
    "print(model1Fit.summary())"
   ]
  },
  {
   "cell_type": "code",
   "execution_count": 14,
   "metadata": {
    "colab": {
     "base_uri": "https://localhost:8080/",
     "height": 990
    },
    "id": "S-AyfiLN0Due",
    "outputId": "4759147c-0b56-48b4-9058-76ad422e55de"
   },
   "outputs": [
    {
     "data": {
      "text/html": [
       "<div>\n",
       "<style scoped>\n",
       "    .dataframe tbody tr th:only-of-type {\n",
       "        vertical-align: middle;\n",
       "    }\n",
       "\n",
       "    .dataframe tbody tr th {\n",
       "        vertical-align: top;\n",
       "    }\n",
       "\n",
       "    .dataframe thead th {\n",
       "        text-align: right;\n",
       "    }\n",
       "</style>\n",
       "<table border=\"1\" class=\"dataframe\">\n",
       "  <thead>\n",
       "    <tr style=\"text-align: right;\">\n",
       "      <th></th>\n",
       "      <th>y</th>\n",
       "      <th>x1</th>\n",
       "      <th>x2</th>\n",
       "      <th>predict1</th>\n",
       "    </tr>\n",
       "  </thead>\n",
       "  <tbody>\n",
       "    <tr>\n",
       "      <th>0</th>\n",
       "      <td>1</td>\n",
       "      <td>16.35</td>\n",
       "      <td>49.94</td>\n",
       "      <td>0.729871</td>\n",
       "    </tr>\n",
       "    <tr>\n",
       "      <th>1</th>\n",
       "      <td>1</td>\n",
       "      <td>34.43</td>\n",
       "      <td>56.16</td>\n",
       "      <td>1.231162</td>\n",
       "    </tr>\n",
       "    <tr>\n",
       "      <th>2</th>\n",
       "      <td>1</td>\n",
       "      <td>39.19</td>\n",
       "      <td>36.89</td>\n",
       "      <td>0.823078</td>\n",
       "    </tr>\n",
       "    <tr>\n",
       "      <th>3</th>\n",
       "      <td>1</td>\n",
       "      <td>23.58</td>\n",
       "      <td>56.88</td>\n",
       "      <td>1.045349</td>\n",
       "    </tr>\n",
       "    <tr>\n",
       "      <th>4</th>\n",
       "      <td>0</td>\n",
       "      <td>29.92</td>\n",
       "      <td>27.05</td>\n",
       "      <td>0.394258</td>\n",
       "    </tr>\n",
       "    <tr>\n",
       "      <th>5</th>\n",
       "      <td>1</td>\n",
       "      <td>25.26</td>\n",
       "      <td>44.38</td>\n",
       "      <td>0.754114</td>\n",
       "    </tr>\n",
       "    <tr>\n",
       "      <th>6</th>\n",
       "      <td>1</td>\n",
       "      <td>36.51</td>\n",
       "      <td>48.98</td>\n",
       "      <td>1.084883</td>\n",
       "    </tr>\n",
       "    <tr>\n",
       "      <th>7</th>\n",
       "      <td>1</td>\n",
       "      <td>11.70</td>\n",
       "      <td>55.55</td>\n",
       "      <td>0.787177</td>\n",
       "    </tr>\n",
       "    <tr>\n",
       "      <th>8</th>\n",
       "      <td>0</td>\n",
       "      <td>32.21</td>\n",
       "      <td>31.28</td>\n",
       "      <td>0.546666</td>\n",
       "    </tr>\n",
       "    <tr>\n",
       "      <th>9</th>\n",
       "      <td>1</td>\n",
       "      <td>28.74</td>\n",
       "      <td>35.63</td>\n",
       "      <td>0.593656</td>\n",
       "    </tr>\n",
       "    <tr>\n",
       "      <th>10</th>\n",
       "      <td>1</td>\n",
       "      <td>18.28</td>\n",
       "      <td>39.50</td>\n",
       "      <td>0.496558</td>\n",
       "    </tr>\n",
       "    <tr>\n",
       "      <th>11</th>\n",
       "      <td>0</td>\n",
       "      <td>10.12</td>\n",
       "      <td>31.39</td>\n",
       "      <td>0.133337</td>\n",
       "    </tr>\n",
       "    <tr>\n",
       "      <th>12</th>\n",
       "      <td>0</td>\n",
       "      <td>10.39</td>\n",
       "      <td>29.47</td>\n",
       "      <td>0.088829</td>\n",
       "    </tr>\n",
       "    <tr>\n",
       "      <th>13</th>\n",
       "      <td>0</td>\n",
       "      <td>21.46</td>\n",
       "      <td>29.34</td>\n",
       "      <td>0.294027</td>\n",
       "    </tr>\n",
       "    <tr>\n",
       "      <th>14</th>\n",
       "      <td>1</td>\n",
       "      <td>33.56</td>\n",
       "      <td>40.37</td>\n",
       "      <td>0.806902</td>\n",
       "    </tr>\n",
       "    <tr>\n",
       "      <th>15</th>\n",
       "      <td>1</td>\n",
       "      <td>37.91</td>\n",
       "      <td>22.92</td>\n",
       "      <td>0.438106</td>\n",
       "    </tr>\n",
       "    <tr>\n",
       "      <th>16</th>\n",
       "      <td>1</td>\n",
       "      <td>31.81</td>\n",
       "      <td>47.56</td>\n",
       "      <td>0.959656</td>\n",
       "    </tr>\n",
       "    <tr>\n",
       "      <th>17</th>\n",
       "      <td>0</td>\n",
       "      <td>25.88</td>\n",
       "      <td>44.58</td>\n",
       "      <td>0.770960</td>\n",
       "    </tr>\n",
       "    <tr>\n",
       "      <th>18</th>\n",
       "      <td>1</td>\n",
       "      <td>38.40</td>\n",
       "      <td>47.85</td>\n",
       "      <td>1.091301</td>\n",
       "    </tr>\n",
       "    <tr>\n",
       "      <th>19</th>\n",
       "      <td>0</td>\n",
       "      <td>26.62</td>\n",
       "      <td>25.50</td>\n",
       "      <td>0.292049</td>\n",
       "    </tr>\n",
       "    <tr>\n",
       "      <th>20</th>\n",
       "      <td>0</td>\n",
       "      <td>14.36</td>\n",
       "      <td>21.87</td>\n",
       "      <td>-0.032692</td>\n",
       "    </tr>\n",
       "    <tr>\n",
       "      <th>21</th>\n",
       "      <td>1</td>\n",
       "      <td>22.22</td>\n",
       "      <td>20.79</td>\n",
       "      <td>0.087491</td>\n",
       "    </tr>\n",
       "    <tr>\n",
       "      <th>22</th>\n",
       "      <td>1</td>\n",
       "      <td>32.10</td>\n",
       "      <td>51.56</td>\n",
       "      <td>1.068443</td>\n",
       "    </tr>\n",
       "    <tr>\n",
       "      <th>23</th>\n",
       "      <td>0</td>\n",
       "      <td>11.75</td>\n",
       "      <td>32.96</td>\n",
       "      <td>0.204600</td>\n",
       "    </tr>\n",
       "    <tr>\n",
       "      <th>24</th>\n",
       "      <td>1</td>\n",
       "      <td>10.32</td>\n",
       "      <td>48.59</td>\n",
       "      <td>0.581396</td>\n",
       "    </tr>\n",
       "    <tr>\n",
       "      <th>25</th>\n",
       "      <td>0</td>\n",
       "      <td>11.43</td>\n",
       "      <td>34.78</td>\n",
       "      <td>0.245584</td>\n",
       "    </tr>\n",
       "    <tr>\n",
       "      <th>26</th>\n",
       "      <td>0</td>\n",
       "      <td>12.58</td>\n",
       "      <td>33.27</td>\n",
       "      <td>0.228245</td>\n",
       "    </tr>\n",
       "    <tr>\n",
       "      <th>27</th>\n",
       "      <td>0</td>\n",
       "      <td>27.53</td>\n",
       "      <td>25.63</td>\n",
       "      <td>0.312551</td>\n",
       "    </tr>\n",
       "    <tr>\n",
       "      <th>28</th>\n",
       "      <td>1</td>\n",
       "      <td>36.71</td>\n",
       "      <td>37.05</td>\n",
       "      <td>0.780489</td>\n",
       "    </tr>\n",
       "    <tr>\n",
       "      <th>29</th>\n",
       "      <td>0</td>\n",
       "      <td>17.85</td>\n",
       "      <td>26.86</td>\n",
       "      <td>0.161955</td>\n",
       "    </tr>\n",
       "  </tbody>\n",
       "</table>\n",
       "</div>"
      ],
      "text/plain": [
       "    y     x1     x2  predict1\n",
       "0   1  16.35  49.94  0.729871\n",
       "1   1  34.43  56.16  1.231162\n",
       "2   1  39.19  36.89  0.823078\n",
       "3   1  23.58  56.88  1.045349\n",
       "4   0  29.92  27.05  0.394258\n",
       "5   1  25.26  44.38  0.754114\n",
       "6   1  36.51  48.98  1.084883\n",
       "7   1  11.70  55.55  0.787177\n",
       "8   0  32.21  31.28  0.546666\n",
       "9   1  28.74  35.63  0.593656\n",
       "10  1  18.28  39.50  0.496558\n",
       "11  0  10.12  31.39  0.133337\n",
       "12  0  10.39  29.47  0.088829\n",
       "13  0  21.46  29.34  0.294027\n",
       "14  1  33.56  40.37  0.806902\n",
       "15  1  37.91  22.92  0.438106\n",
       "16  1  31.81  47.56  0.959656\n",
       "17  0  25.88  44.58  0.770960\n",
       "18  1  38.40  47.85  1.091301\n",
       "19  0  26.62  25.50  0.292049\n",
       "20  0  14.36  21.87 -0.032692\n",
       "21  1  22.22  20.79  0.087491\n",
       "22  1  32.10  51.56  1.068443\n",
       "23  0  11.75  32.96  0.204600\n",
       "24  1  10.32  48.59  0.581396\n",
       "25  0  11.43  34.78  0.245584\n",
       "26  0  12.58  33.27  0.228245\n",
       "27  0  27.53  25.63  0.312551\n",
       "28  1  36.71  37.05  0.780489\n",
       "29  0  17.85  26.86  0.161955"
      ]
     },
     "execution_count": 14,
     "metadata": {},
     "output_type": "execute_result"
    }
   ],
   "source": [
    "predict1 = model1Fit.predict(sm.add_constant(mortgageDf[[\"x1\", \"x2\"]]))\n",
    "mortgageDf['predict1'] = predict1\n",
    "mortgageDf"
   ]
  },
  {
   "cell_type": "code",
   "execution_count": 15,
   "metadata": {
    "colab": {
     "base_uri": "https://localhost:8080/"
    },
    "id": "9ouX-mzz4sl-",
    "outputId": "4f669fe5-a841-4e26-e487-90d2480e94b8"
   },
   "outputs": [
    {
     "data": {
      "text/plain": [
       "array([0.28356899])"
      ]
     },
     "execution_count": 15,
     "metadata": {},
     "output_type": "execute_result"
    }
   ],
   "source": [
    "model1Fit.predict([[1, 20, 30]])"
   ]
  },
  {
   "cell_type": "code",
   "execution_count": 16,
   "metadata": {
    "colab": {
     "base_uri": "https://localhost:8080/"
    },
    "id": "ujSQIAwa8DRG",
    "outputId": "97600e44-d792-4b0d-d47b-05c561a3d9a9"
   },
   "outputs": [
    {
     "data": {
      "text/plain": [
       "array([-0.10389379])"
      ]
     },
     "execution_count": 16,
     "metadata": {},
     "output_type": "execute_result"
    }
   ],
   "source": [
    "model1Fit.predict([[1, 20, 15]])"
   ]
  },
  {
   "cell_type": "code",
   "execution_count": 17,
   "metadata": {
    "colab": {
     "base_uri": "https://localhost:8080/"
    },
    "id": "yQ8XuYfr8Fs6",
    "outputId": "5d629786-b70c-4aa8-e5d3-b4dda6255567"
   },
   "outputs": [
    {
     "data": {
      "text/plain": [
       "array([1.17698081])"
      ]
     },
     "execution_count": 17,
     "metadata": {},
     "output_type": "execute_result"
    }
   ],
   "source": [
    "model1Fit.predict([[1, 40, 50]])"
   ]
  },
  {
   "cell_type": "code",
   "execution_count": 19,
   "metadata": {
    "colab": {
     "base_uri": "https://localhost:8080/"
    },
    "id": "l_wGiUmL9Xta",
    "outputId": "13825eaa-f1b2-4256-c42b-25cf40345311"
   },
   "outputs": [
    {
     "name": "stdout",
     "output_type": "stream",
     "text": [
      "Optimization terminated successfully.\n",
      "         Current function value: 0.363910\n",
      "         Iterations 7\n",
      "                           Logit Regression Results                           \n",
      "==============================================================================\n",
      "Dep. Variable:                      y   No. Observations:                   30\n",
      "Model:                          Logit   Df Residuals:                       27\n",
      "Method:                           MLE   Df Model:                            2\n",
      "Date:                Mon, 17 Jun 2024   Pseudo R-squ.:                  0.4681\n",
      "Time:                        22:44:43   Log-Likelihood:                -10.917\n",
      "converged:                       True   LL-Null:                       -20.527\n",
      "Covariance Type:            nonrobust   LLR p-value:                 6.708e-05\n",
      "==============================================================================\n",
      "                 coef    std err          z      P>|z|      [0.025      0.975]\n",
      "------------------------------------------------------------------------------\n",
      "const         -9.3671      3.196     -2.931      0.003     -15.631      -3.103\n",
      "x1             0.1349      0.064      2.107      0.035       0.009       0.260\n",
      "x2             0.1782      0.065      2.758      0.006       0.052       0.305\n",
      "==============================================================================\n"
     ]
    }
   ],
   "source": [
    "logisticRegYFromX1AndX2Model = sm.Logit(\n",
    "  mortgageDf[\"y\"],\n",
    "  sm.add_constant(mortgageDf[[\"x1\", \"x2\"]])\n",
    ")\n",
    "logisticRegYFromX1AndX2ModelFit = logisticRegYFromX1AndX2Model.fit()\n",
    "print(logisticRegYFromX1AndX2ModelFit.summary())"
   ]
  },
  {
   "cell_type": "code",
   "execution_count": 20,
   "metadata": {
    "colab": {
     "base_uri": "https://localhost:8080/",
     "height": 990
    },
    "id": "hICJCcTx9gKy",
    "outputId": "cfea633a-e79c-45ac-845f-636b78a3f38d"
   },
   "outputs": [
    {
     "data": {
      "text/html": [
       "<div>\n",
       "<style scoped>\n",
       "    .dataframe tbody tr th:only-of-type {\n",
       "        vertical-align: middle;\n",
       "    }\n",
       "\n",
       "    .dataframe tbody tr th {\n",
       "        vertical-align: top;\n",
       "    }\n",
       "\n",
       "    .dataframe thead th {\n",
       "        text-align: right;\n",
       "    }\n",
       "</style>\n",
       "<table border=\"1\" class=\"dataframe\">\n",
       "  <thead>\n",
       "    <tr style=\"text-align: right;\">\n",
       "      <th></th>\n",
       "      <th>y</th>\n",
       "      <th>x1</th>\n",
       "      <th>x2</th>\n",
       "      <th>predict1</th>\n",
       "      <th>predict2</th>\n",
       "    </tr>\n",
       "  </thead>\n",
       "  <tbody>\n",
       "    <tr>\n",
       "      <th>0</th>\n",
       "      <td>1</td>\n",
       "      <td>16.35</td>\n",
       "      <td>49.94</td>\n",
       "      <td>0.729871</td>\n",
       "      <td>0.850564</td>\n",
       "    </tr>\n",
       "    <tr>\n",
       "      <th>1</th>\n",
       "      <td>1</td>\n",
       "      <td>34.43</td>\n",
       "      <td>56.16</td>\n",
       "      <td>1.231162</td>\n",
       "      <td>0.994966</td>\n",
       "    </tr>\n",
       "    <tr>\n",
       "      <th>2</th>\n",
       "      <td>1</td>\n",
       "      <td>39.19</td>\n",
       "      <td>36.89</td>\n",
       "      <td>0.823078</td>\n",
       "      <td>0.923739</td>\n",
       "    </tr>\n",
       "    <tr>\n",
       "      <th>3</th>\n",
       "      <td>1</td>\n",
       "      <td>23.58</td>\n",
       "      <td>56.88</td>\n",
       "      <td>1.045349</td>\n",
       "      <td>0.981132</td>\n",
       "    </tr>\n",
       "    <tr>\n",
       "      <th>4</th>\n",
       "      <td>0</td>\n",
       "      <td>29.92</td>\n",
       "      <td>27.05</td>\n",
       "      <td>0.394258</td>\n",
       "      <td>0.375201</td>\n",
       "    </tr>\n",
       "    <tr>\n",
       "      <th>5</th>\n",
       "      <td>1</td>\n",
       "      <td>25.26</td>\n",
       "      <td>44.38</td>\n",
       "      <td>0.754114</td>\n",
       "      <td>0.875451</td>\n",
       "    </tr>\n",
       "    <tr>\n",
       "      <th>6</th>\n",
       "      <td>1</td>\n",
       "      <td>36.51</td>\n",
       "      <td>48.98</td>\n",
       "      <td>1.084883</td>\n",
       "      <td>0.986447</td>\n",
       "    </tr>\n",
       "    <tr>\n",
       "      <th>7</th>\n",
       "      <td>1</td>\n",
       "      <td>11.70</td>\n",
       "      <td>55.55</td>\n",
       "      <td>0.787177</td>\n",
       "      <td>0.892025</td>\n",
       "    </tr>\n",
       "    <tr>\n",
       "      <th>8</th>\n",
       "      <td>0</td>\n",
       "      <td>32.21</td>\n",
       "      <td>31.28</td>\n",
       "      <td>0.546666</td>\n",
       "      <td>0.634794</td>\n",
       "    </tr>\n",
       "    <tr>\n",
       "      <th>9</th>\n",
       "      <td>1</td>\n",
       "      <td>28.74</td>\n",
       "      <td>35.63</td>\n",
       "      <td>0.593656</td>\n",
       "      <td>0.702665</td>\n",
       "    </tr>\n",
       "    <tr>\n",
       "      <th>10</th>\n",
       "      <td>1</td>\n",
       "      <td>18.28</td>\n",
       "      <td>39.50</td>\n",
       "      <td>0.496558</td>\n",
       "      <td>0.534624</td>\n",
       "    </tr>\n",
       "    <tr>\n",
       "      <th>11</th>\n",
       "      <td>0</td>\n",
       "      <td>10.12</td>\n",
       "      <td>31.39</td>\n",
       "      <td>0.133337</td>\n",
       "      <td>0.082606</td>\n",
       "    </tr>\n",
       "    <tr>\n",
       "      <th>12</th>\n",
       "      <td>0</td>\n",
       "      <td>10.39</td>\n",
       "      <td>29.47</td>\n",
       "      <td>0.088829</td>\n",
       "      <td>0.062198</td>\n",
       "    </tr>\n",
       "    <tr>\n",
       "      <th>13</th>\n",
       "      <td>0</td>\n",
       "      <td>21.46</td>\n",
       "      <td>29.34</td>\n",
       "      <td>0.294027</td>\n",
       "      <td>0.223902</td>\n",
       "    </tr>\n",
       "    <tr>\n",
       "      <th>14</th>\n",
       "      <td>1</td>\n",
       "      <td>33.56</td>\n",
       "      <td>40.37</td>\n",
       "      <td>0.806902</td>\n",
       "      <td>0.913332</td>\n",
       "    </tr>\n",
       "    <tr>\n",
       "      <th>15</th>\n",
       "      <td>1</td>\n",
       "      <td>37.91</td>\n",
       "      <td>22.92</td>\n",
       "      <td>0.438106</td>\n",
       "      <td>0.458048</td>\n",
       "    </tr>\n",
       "    <tr>\n",
       "      <th>16</th>\n",
       "      <td>1</td>\n",
       "      <td>31.81</td>\n",
       "      <td>47.56</td>\n",
       "      <td>0.959656</td>\n",
       "      <td>0.967716</td>\n",
       "    </tr>\n",
       "    <tr>\n",
       "      <th>17</th>\n",
       "      <td>0</td>\n",
       "      <td>25.88</td>\n",
       "      <td>44.58</td>\n",
       "      <td>0.770960</td>\n",
       "      <td>0.887885</td>\n",
       "    </tr>\n",
       "    <tr>\n",
       "      <th>18</th>\n",
       "      <td>1</td>\n",
       "      <td>38.40</td>\n",
       "      <td>47.85</td>\n",
       "      <td>1.091301</td>\n",
       "      <td>0.987144</td>\n",
       "    </tr>\n",
       "    <tr>\n",
       "      <th>19</th>\n",
       "      <td>0</td>\n",
       "      <td>26.62</td>\n",
       "      <td>25.50</td>\n",
       "      <td>0.292049</td>\n",
       "      <td>0.225940</td>\n",
       "    </tr>\n",
       "    <tr>\n",
       "      <th>20</th>\n",
       "      <td>0</td>\n",
       "      <td>14.36</td>\n",
       "      <td>21.87</td>\n",
       "      <td>-0.032692</td>\n",
       "      <td>0.028410</td>\n",
       "    </tr>\n",
       "    <tr>\n",
       "      <th>21</th>\n",
       "      <td>1</td>\n",
       "      <td>22.22</td>\n",
       "      <td>20.79</td>\n",
       "      <td>0.087491</td>\n",
       "      <td>0.065109</td>\n",
       "    </tr>\n",
       "    <tr>\n",
       "      <th>22</th>\n",
       "      <td>1</td>\n",
       "      <td>32.10</td>\n",
       "      <td>51.56</td>\n",
       "      <td>1.068443</td>\n",
       "      <td>0.984517</td>\n",
       "    </tr>\n",
       "    <tr>\n",
       "      <th>23</th>\n",
       "      <td>0</td>\n",
       "      <td>11.75</td>\n",
       "      <td>32.96</td>\n",
       "      <td>0.204600</td>\n",
       "      <td>0.129233</td>\n",
       "    </tr>\n",
       "    <tr>\n",
       "      <th>24</th>\n",
       "      <td>1</td>\n",
       "      <td>10.32</td>\n",
       "      <td>48.59</td>\n",
       "      <td>0.581396</td>\n",
       "      <td>0.664852</td>\n",
       "    </tr>\n",
       "    <tr>\n",
       "      <th>25</th>\n",
       "      <td>0</td>\n",
       "      <td>11.43</td>\n",
       "      <td>34.78</td>\n",
       "      <td>0.245584</td>\n",
       "      <td>0.164303</td>\n",
       "    </tr>\n",
       "    <tr>\n",
       "      <th>26</th>\n",
       "      <td>0</td>\n",
       "      <td>12.58</td>\n",
       "      <td>33.27</td>\n",
       "      <td>0.228245</td>\n",
       "      <td>0.149244</td>\n",
       "    </tr>\n",
       "    <tr>\n",
       "      <th>27</th>\n",
       "      <td>0</td>\n",
       "      <td>27.53</td>\n",
       "      <td>25.63</td>\n",
       "      <td>0.312551</td>\n",
       "      <td>0.252476</td>\n",
       "    </tr>\n",
       "    <tr>\n",
       "      <th>28</th>\n",
       "      <td>1</td>\n",
       "      <td>36.71</td>\n",
       "      <td>37.05</td>\n",
       "      <td>0.780489</td>\n",
       "      <td>0.899188</td>\n",
       "    </tr>\n",
       "    <tr>\n",
       "      <th>29</th>\n",
       "      <td>0</td>\n",
       "      <td>17.85</td>\n",
       "      <td>26.86</td>\n",
       "      <td>0.161955</td>\n",
       "      <td>0.102289</td>\n",
       "    </tr>\n",
       "  </tbody>\n",
       "</table>\n",
       "</div>"
      ],
      "text/plain": [
       "    y     x1     x2  predict1  predict2\n",
       "0   1  16.35  49.94  0.729871  0.850564\n",
       "1   1  34.43  56.16  1.231162  0.994966\n",
       "2   1  39.19  36.89  0.823078  0.923739\n",
       "3   1  23.58  56.88  1.045349  0.981132\n",
       "4   0  29.92  27.05  0.394258  0.375201\n",
       "5   1  25.26  44.38  0.754114  0.875451\n",
       "6   1  36.51  48.98  1.084883  0.986447\n",
       "7   1  11.70  55.55  0.787177  0.892025\n",
       "8   0  32.21  31.28  0.546666  0.634794\n",
       "9   1  28.74  35.63  0.593656  0.702665\n",
       "10  1  18.28  39.50  0.496558  0.534624\n",
       "11  0  10.12  31.39  0.133337  0.082606\n",
       "12  0  10.39  29.47  0.088829  0.062198\n",
       "13  0  21.46  29.34  0.294027  0.223902\n",
       "14  1  33.56  40.37  0.806902  0.913332\n",
       "15  1  37.91  22.92  0.438106  0.458048\n",
       "16  1  31.81  47.56  0.959656  0.967716\n",
       "17  0  25.88  44.58  0.770960  0.887885\n",
       "18  1  38.40  47.85  1.091301  0.987144\n",
       "19  0  26.62  25.50  0.292049  0.225940\n",
       "20  0  14.36  21.87 -0.032692  0.028410\n",
       "21  1  22.22  20.79  0.087491  0.065109\n",
       "22  1  32.10  51.56  1.068443  0.984517\n",
       "23  0  11.75  32.96  0.204600  0.129233\n",
       "24  1  10.32  48.59  0.581396  0.664852\n",
       "25  0  11.43  34.78  0.245584  0.164303\n",
       "26  0  12.58  33.27  0.228245  0.149244\n",
       "27  0  27.53  25.63  0.312551  0.252476\n",
       "28  1  36.71  37.05  0.780489  0.899188\n",
       "29  0  17.85  26.86  0.161955  0.102289"
      ]
     },
     "execution_count": 20,
     "metadata": {},
     "output_type": "execute_result"
    }
   ],
   "source": [
    "predict2 = logisticRegYFromX1AndX2ModelFit.predict(sm.add_constant(mortgageDf[[\"x1\", \"x2\"]]))\n",
    "mortgageDf['predict2'] = predict2\n",
    "mortgageDf"
   ]
  },
  {
   "cell_type": "code",
   "execution_count": 23,
   "metadata": {
    "colab": {
     "base_uri": "https://localhost:8080/"
    },
    "id": "tBfMgF0Y9usy",
    "outputId": "5d06c271-8f99-48b1-bdeb-a1a4539bf6c9"
   },
   "outputs": [
    {
     "data": {
      "text/plain": [
       "(array([0.21042055]), array([0.01806123]), array([0.99289663]))"
      ]
     },
     "execution_count": 23,
     "metadata": {},
     "output_type": "execute_result"
    }
   ],
   "source": [
    "logisticRegYFromX1AndX2ModelFit.predict([[1, 20, 30]]), logisticRegYFromX1AndX2ModelFit.predict([[1, 20, 15]]), logisticRegYFromX1AndX2ModelFit.predict([[1, 40, 50]])"
   ]
  },
  {
   "cell_type": "code",
   "execution_count": 24,
   "metadata": {
    "colab": {
     "base_uri": "https://localhost:8080/"
    },
    "id": "iLB_t1-lWjAn",
    "outputId": "c70ee1d3-96ac-4f8e-c888-53b93d95097e"
   },
   "outputs": [
    {
     "name": "stdout",
     "output_type": "stream",
     "text": [
      "                            OLS Regression Results                            \n",
      "==============================================================================\n",
      "Dep. Variable:                      y   R-squared:                       0.197\n",
      "Model:                            OLS   Adj. R-squared:                  0.168\n",
      "Method:                 Least Squares   F-statistic:                     6.875\n",
      "Date:                Mon, 17 Jun 2024   Prob (F-statistic):             0.0140\n",
      "Time:                        22:44:46   Log-Likelihood:                -18.211\n",
      "No. Observations:                  30   AIC:                             40.42\n",
      "Df Residuals:                      28   BIC:                             43.23\n",
      "Df Model:                           1                                         \n",
      "Covariance Type:            nonrobust                                         \n",
      "==============================================================================\n",
      "                 coef    std err          t      P>|t|      [0.025      0.975]\n",
      "------------------------------------------------------------------------------\n",
      "const          0.0141      0.227      0.062      0.951      -0.451       0.479\n",
      "x1             0.0227      0.009      2.622      0.014       0.005       0.040\n",
      "==============================================================================\n",
      "Omnibus:                        5.223   Durbin-Watson:                   2.358\n",
      "Prob(Omnibus):                  0.073   Jarque-Bera (JB):                1.806\n",
      "Skew:                          -0.084   Prob(JB):                        0.405\n",
      "Kurtosis:                       1.810   Cond. No.                         70.8\n",
      "==============================================================================\n",
      "\n",
      "Notes:\n",
      "[1] Standard Errors assume that the covariance matrix of the errors is correctly specified.\n"
     ]
    }
   ],
   "source": [
    "model3 = sm.OLS(\n",
    "  mortgageDf[\"y\"],\n",
    "  sm.add_constant(mortgageDf[[\"x1\"]])\n",
    ")\n",
    "model3Fit = model3.fit()\n",
    "print(model3Fit.summary())"
   ]
  },
  {
   "cell_type": "code",
   "execution_count": 25,
   "metadata": {
    "colab": {
     "base_uri": "https://localhost:8080/"
    },
    "id": "PuixWL0hWw1e",
    "outputId": "59957621-cba1-4317-83a5-9fcc264f00b8"
   },
   "outputs": [
    {
     "name": "stdout",
     "output_type": "stream",
     "text": [
      "Optimization terminated successfully.\n",
      "         Current function value: 0.579907\n",
      "         Iterations 5\n",
      "                           Logit Regression Results                           \n",
      "==============================================================================\n",
      "Dep. Variable:                      y   No. Observations:                   30\n",
      "Model:                          Logit   Df Residuals:                       28\n",
      "Method:                           MLE   Df Model:                            1\n",
      "Date:                Mon, 17 Jun 2024   Pseudo R-squ.:                  0.1525\n",
      "Time:                        22:44:46   Log-Likelihood:                -17.397\n",
      "converged:                       True   LL-Null:                       -20.527\n",
      "Covariance Type:            nonrobust   LLR p-value:                   0.01235\n",
      "==============================================================================\n",
      "                 coef    std err          z      P>|z|      [0.025      0.975]\n",
      "------------------------------------------------------------------------------\n",
      "const         -2.2077      1.140     -1.936      0.053      -4.442       0.027\n",
      "x1             0.1043      0.046      2.282      0.022       0.015       0.194\n",
      "==============================================================================\n"
     ]
    }
   ],
   "source": [
    "model4 = sm.Logit(\n",
    "  mortgageDf[\"y\"],\n",
    "  sm.add_constant(mortgageDf[[\"x1\"]])\n",
    ")\n",
    "model4Fit = model4.fit()\n",
    "print(model4Fit.summary())"
   ]
  },
  {
   "cell_type": "code",
   "execution_count": 26,
   "metadata": {
    "colab": {
     "base_uri": "https://localhost:8080/"
    },
    "id": "YLIrig6rXKhw",
    "outputId": "7f663d14-7f38-4131-928e-1bf212b2dc32"
   },
   "outputs": [
    {
     "data": {
      "text/plain": [
       "0"
      ]
     },
     "execution_count": 26,
     "metadata": {},
     "output_type": "execute_result"
    }
   ],
   "source": [
    "min = 0\n",
    "min"
   ]
  },
  {
   "cell_type": "code",
   "execution_count": 27,
   "metadata": {
    "colab": {
     "base_uri": "https://localhost:8080/"
    },
    "id": "w5OmNUfaXNsk",
    "outputId": "ba3a9d1f-76a0-40b7-fc25-322c48facf01"
   },
   "outputs": [
    {
     "data": {
      "text/plain": [
       "(49.19, 30)"
      ]
     },
     "execution_count": 27,
     "metadata": {},
     "output_type": "execute_result"
    }
   ],
   "source": [
    "max = mortgageDf[\"x1\"].max() + 10\n",
    "max, len(mortgageDf[\"x1\"])"
   ]
  },
  {
   "cell_type": "code",
   "execution_count": 28,
   "metadata": {
    "id": "sBBshZgnXQzO"
   },
   "outputs": [],
   "source": [
    "x = np.linspace(min - 5, max + 5, 500)\n",
    "# x"
   ]
  },
  {
   "cell_type": "code",
   "execution_count": 29,
   "metadata": {
    "id": "2zxAZeT5XwgE"
   },
   "outputs": [],
   "source": [
    "import math"
   ]
  },
  {
   "cell_type": "code",
   "execution_count": 30,
   "metadata": {
    "id": "X2BmYiiDXgbw"
   },
   "outputs": [],
   "source": [
    "lREq = 0.0141 + x *  0.0227\n",
    "logREq = pow(math.e, (-2.2077  + 0.1043 * x))/ (1+ pow(math.e, (-2.2077  + 0.1043 * x)))"
   ]
  },
  {
   "cell_type": "code",
   "execution_count": 31,
   "metadata": {
    "colab": {
     "base_uri": "https://localhost:8080/"
    },
    "id": "C_8MU1W7YgR8",
    "outputId": "322b707d-cf36-4a26-fd69-60ca2664f9c3"
   },
   "outputs": [
    {
     "data": {
      "text/plain": [
       "500"
      ]
     },
     "execution_count": 31,
     "metadata": {},
     "output_type": "execute_result"
    }
   ],
   "source": [
    "len(lREq)"
   ]
  },
  {
   "cell_type": "code",
   "execution_count": 32,
   "metadata": {
    "colab": {
     "base_uri": "https://localhost:8080/",
     "height": 449
    },
    "id": "VZ6BxMqpXCOH",
    "outputId": "196f43f9-0a5d-4747-d188-29cb66c80c9e"
   },
   "outputs": [
    {
     "data": {
      "image/png": "[encoded data removed]",
      "text/plain": [
       "<Figure size 640x480 with 1 Axes>"
      ]
     },
     "metadata": {},
     "output_type": "display_data"
    }
   ],
   "source": [
    "\n",
    "plt.scatter(\n",
    "  mortgageDf[\"x1\"],\n",
    "  mortgageDf[\"y\"],\n",
    "  color='blue',\n",
    "  alpha=0.9,\n",
    "  label='Data Points - scatter',\n",
    ")\n",
    "\n",
    "plt.plot(\n",
    "  x,\n",
    "  lREq,\n",
    "  color='red',\n",
    "  alpha=0.9,\n",
    "  label='lREq',\n",
    ")\n",
    "\n",
    "plt.plot(\n",
    "  x,\n",
    "  logREq,\n",
    "  color='green',\n",
    "  alpha=0.9,\n",
    "  label='logREq',\n",
    ")\n",
    "\n",
    "plt.xlabel('x1')\n",
    "plt.ylabel('y')\n",
    "plt.legend()\n",
    "plt.grid(True)\n",
    "\n",
    "\n",
    "\n",
    "plt.show()"
   ]
  },
  {
   "cell_type": "code",
   "execution_count": null,
   "metadata": {},
   "outputs": [],
   "source": []
  },
  {
   "cell_type": "code",
   "execution_count": null,
   "metadata": {},
   "outputs": [],
   "source": []
  }
 ],
 "metadata": {
  "colab": {
   "provenance": []
  },
  "kernelspec": {
   "display_name": "Python 3 (ipykernel)",
   "language": "python",
   "name": "python3"
  },
  "language_info": {
   "codemirror_mode": {
    "name": "ipython",
    "version": 3
   },
   "file_extension": ".py",
   "mimetype": "text/x-python",
   "name": "python",
   "nbconvert_exporter": "python",
   "pygments_lexer": "ipython3",
   "version": "3.12.3"
  }
 },
 "nbformat": 4,
 "nbformat_minor": 4
}
