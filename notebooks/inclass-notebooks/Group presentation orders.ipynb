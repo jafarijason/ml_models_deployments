{
 "cells": [
  {
   "cell_type": "code",
   "execution_count": null,
   "id": "4bcf6602-1959-4ba0-9a13-6029f788a2f5",
   "metadata": {},
   "outputs": [],
   "source": [
    "import pandas as pd\n",
    "import random"
   ]
  },
  {
   "cell_type": "code",
   "execution_count": null,
   "id": "323500c1-886b-4c80-91db-66510ebdffe3",
   "metadata": {},
   "outputs": [],
   "source": [
    "# Function to shuffle and split groups with a specified random state\n",
    "def shuffle_and_split_groups(groups, random_state=None):\n",
    "    rng = random.Random(random_state)\n",
    "    shuffled_groups = groups[:]\n",
    "    rng.shuffle(shuffled_groups)\n",
    "    \n",
    "    # Split into two days\n",
    "    day1_groups = shuffled_groups[:len(groups)//2]\n",
    "    day2_groups = shuffled_groups[len(groups)//2:]\n",
    "    \n",
    "    return day1_groups, day2_groups\n"
   ]
  },
  {
   "cell_type": "code",
   "execution_count": null,
   "id": "46ab77b7-df47-42e3-b0f3-22425ebde597",
   "metadata": {},
   "outputs": [],
   "source": [
    "\n",
    "# Define the random state\n",
    "random_state = 1\n",
    "\n",
    "# Shuffle and split the groups\n",
    "day1_groups, day2_groups = shuffle_and_split_groups(groups, random_state=random_state)\n",
    "\n",
    "# Create a DataFrame to store the results\n",
    "schedule = pd.DataFrame({\n",
    "    'Day 1': day1_groups,\n",
    "    'Day 2': day2_groups\n",
    "})\n"
   ]
  },
  {
   "cell_type": "code",
   "execution_count": null,
   "id": "0989d00d-e415-468f-b884-fad7dd792f92",
   "metadata": {},
   "outputs": [],
   "source": [
    "schedule"
   ]
  },
  {
   "cell_type": "code",
   "execution_count": null,
   "id": "fcc1cd3d-0bc1-426b-b7c8-79c8cf0bfbda",
   "metadata": {},
   "outputs": [],
   "source": []
  }
 ],
 "metadata": {
  "kernelspec": {
   "display_name": "Python 3 (ipykernel)",
   "language": "python",
   "name": "python3"
  },
  "language_info": {
   "codemirror_mode": {
    "name": "ipython",
    "version": 3
   },
   "file_extension": ".py",
   "mimetype": "text/x-python",
   "name": "python",
   "nbconvert_exporter": "python",
   "pygments_lexer": "ipython3",
   "version": "3.12.3"
  }
 },
 "nbformat": 4,
 "nbformat_minor": 5
}
