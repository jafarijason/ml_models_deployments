{
 "cells": [
  {
   "cell_type": "code",
   "execution_count": 14,
   "id": "4bcf6602-1959-4ba0-9a13-6029f788a2f5",
   "metadata": {},
   "outputs": [],
   "source": [
    "import pandas as pd\n",
    "import random"
   ]
  },
  {
   "cell_type": "code",
   "execution_count": 15,
   "id": "40380039-abe7-4f5a-a354-c3497ae38fbb",
   "metadata": {},
   "outputs": [],
   "source": [
    "groups = [1,2 ,3,4,5,6,7,8,9,10]"
   ]
  },
  {
   "cell_type": "code",
   "execution_count": 16,
   "id": "323500c1-886b-4c80-91db-66510ebdffe3",
   "metadata": {},
   "outputs": [],
   "source": [
    "# Function to shuffle and split groups with a specified random state\n",
    "def shuffle_and_split_groups(groups, random_state=None):\n",
    "    rng = random.Random(random_state)\n",
    "    shuffled_groups = groups[:]\n",
    "    rng.shuffle(shuffled_groups)\n",
    "    \n",
    "    # Split into two days\n",
    "    day1_groups = shuffled_groups[:len(groups)//2]\n",
    "    day2_groups = shuffled_groups[len(groups)//2:]\n",
    "    \n",
    "    return day1_groups, day2_groups\n"
   ]
  },
  {
   "cell_type": "code",
   "execution_count": 17,
   "id": "46ab77b7-df47-42e3-b0f3-22425ebde597",
   "metadata": {},
   "outputs": [],
   "source": [
    "\n",
    "# Define the random state\n",
    "random_state = 2\n",
    "\n",
    "# Shuffle and split the groups\n",
    "day1_groups, day2_groups = shuffle_and_split_groups(groups, random_state=random_state)\n",
    "\n",
    "# Create a DataFrame to store the results\n",
    "schedule = pd.DataFrame({\n",
    "    'Day 1': day1_groups,\n",
    "    'Day 2': day2_groups\n",
    "})\n"
   ]
  },
  {
   "cell_type": "code",
   "execution_count": 18,
   "id": "0989d00d-e415-468f-b884-fad7dd792f92",
   "metadata": {},
   "outputs": [
    {
     "data": {
      "text/html": [
       "<div>\n",
       "<style scoped>\n",
       "    .dataframe tbody tr th:only-of-type {\n",
       "        vertical-align: middle;\n",
       "    }\n",
       "\n",
       "    .dataframe tbody tr th {\n",
       "        vertical-align: top;\n",
       "    }\n",
       "\n",
       "    .dataframe thead th {\n",
       "        text-align: right;\n",
       "    }\n",
       "</style>\n",
       "<table border=\"1\" class=\"dataframe\">\n",
       "  <thead>\n",
       "    <tr style=\"text-align: right;\">\n",
       "      <th></th>\n",
       "      <th>Day 1</th>\n",
       "      <th>Day 2</th>\n",
       "    </tr>\n",
       "  </thead>\n",
       "  <tbody>\n",
       "    <tr>\n",
       "      <th>0</th>\n",
       "      <td>6</td>\n",
       "      <td>8</td>\n",
       "    </tr>\n",
       "    <tr>\n",
       "      <th>1</th>\n",
       "      <td>10</td>\n",
       "      <td>3</td>\n",
       "    </tr>\n",
       "    <tr>\n",
       "      <th>2</th>\n",
       "      <td>4</td>\n",
       "      <td>9</td>\n",
       "    </tr>\n",
       "    <tr>\n",
       "      <th>3</th>\n",
       "      <td>5</td>\n",
       "      <td>2</td>\n",
       "    </tr>\n",
       "    <tr>\n",
       "      <th>4</th>\n",
       "      <td>7</td>\n",
       "      <td>1</td>\n",
       "    </tr>\n",
       "  </tbody>\n",
       "</table>\n",
       "</div>"
      ],
      "text/plain": [
       "   Day 1  Day 2\n",
       "0      6      8\n",
       "1     10      3\n",
       "2      4      9\n",
       "3      5      2\n",
       "4      7      1"
      ]
     },
     "execution_count": 18,
     "metadata": {},
     "output_type": "execute_result"
    }
   ],
   "source": [
    "schedule"
   ]
  },
  {
   "cell_type": "code",
   "execution_count": null,
   "id": "fcc1cd3d-0bc1-426b-b7c8-79c8cf0bfbda",
   "metadata": {},
   "outputs": [],
   "source": []
  }
 ],
 "metadata": {
  "kernelspec": {
   "display_name": "Python 3 (ipykernel)",
   "language": "python",
   "name": "python3"
  },
  "language_info": {
   "codemirror_mode": {
    "name": "ipython",
    "version": 3
   },
   "file_extension": ".py",
   "mimetype": "text/x-python",
   "name": "python",
   "nbconvert_exporter": "python",
   "pygments_lexer": "ipython3",
   "version": "3.12.3"
  }
 },
 "nbformat": 4,
 "nbformat_minor": 5
}
