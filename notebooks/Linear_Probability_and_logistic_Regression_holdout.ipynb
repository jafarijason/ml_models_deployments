{
 "cells": [
  {
   "cell_type": "code",
   "execution_count": null,
   "metadata": {
    "id": "xwFyEsosINqT"
   },
   "outputs": [],
   "source": [
    "import numpy as np\n",
    "import pandas as pd"
   ]
  },
  {
   "cell_type": "code",
   "execution_count": null,
   "metadata": {
    "id": "pKewSQysItJ-"
   },
   "outputs": [],
   "source": [
    "# https://www.statsmodels.org/stable/index.html\n",
    "import statsmodels.api as sm"
   ]
  },
  {
   "cell_type": "code",
   "execution_count": null,
   "metadata": {
    "id": "Lz-DyAtNWsJR"
   },
   "outputs": [],
   "source": [
    "# Download Dataset from https://www.dropbox.com/scl/fi/32vgpt3jvtztu86avdnwg/Mortgage.xlsx?rlkey=qx1d46hzgn4h67zrcyajdyl3e&dl=1\n",
    "# and add it to colab"
   ]
  },
  {
   "cell_type": "code",
   "execution_count": null,
   "metadata": {
    "id": "0zM8FGMJXJ70"
   },
   "outputs": [],
   "source": [
    "# mortgageDf = pd.read_excel(\"./Mortgage.xlsx\")\n",
    "mortgageDf = pd.read_excel(\"https://www.dropbox.com/scl/fi/32vgpt3jvtztu86avdnwg/Mortgage.xlsx?rlkey=qx1d46hzgn4h67zrcyajdyl3e&dl=1\")"
   ]
  },
  {
   "cell_type": "code",
   "execution_count": null,
   "metadata": {
    "colab": {
     "base_uri": "https://localhost:8080/",
     "height": 990
    },
    "id": "t0LUca0Myqw5",
    "outputId": "527eb991-fb2c-420a-e8fe-9b983e793560"
   },
   "outputs": [],
   "source": [
    "mortgageDf"
   ]
  },
  {
   "cell_type": "code",
   "execution_count": null,
   "metadata": {
    "colab": {
     "base_uri": "https://localhost:8080/"
    },
    "id": "GQRNPIeyy6ub",
    "outputId": "af3a1828-5bfb-4458-ee99-ecebf88ab76e"
   },
   "outputs": [],
   "source": [
    "mortgageDf.size"
   ]
  },
  {
   "cell_type": "code",
   "execution_count": null,
   "metadata": {
    "colab": {
     "base_uri": "https://localhost:8080/",
     "height": 300
    },
    "id": "yumMybniy85d",
    "outputId": "e85c111d-108b-4a30-e3f1-cbcb8b515223"
   },
   "outputs": [],
   "source": [
    "mortgageDf.describe()"
   ]
  },
  {
   "cell_type": "code",
   "execution_count": null,
   "metadata": {
    "colab": {
     "base_uri": "https://localhost:8080/"
    },
    "id": "aspq6hoPy_xZ",
    "outputId": "6fa553af-188e-40f6-bf37-3a61224c5b0c"
   },
   "outputs": [],
   "source": [
    "mortgageDf.shape"
   ]
  },
  {
   "cell_type": "code",
   "execution_count": null,
   "metadata": {
    "id": "z_hVTvPrzYJr"
   },
   "outputs": [],
   "source": [
    "import matplotlib.pyplot as plt"
   ]
  },
  {
   "cell_type": "code",
   "execution_count": null,
   "metadata": {
    "colab": {
     "base_uri": "https://localhost:8080/",
     "height": 34
    },
    "id": "pIniVuaIzaaZ",
    "outputId": "34e78f06-e2c7-4701-c78f-5aae99a9deb0"
   },
   "outputs": [],
   "source": [
    "# Plotting\n",
    "fig1 = plt.figure(\n",
    "  figsize=(8, 8)\n",
    ")"
   ]
  },
  {
   "cell_type": "code",
   "execution_count": null,
   "metadata": {
    "colab": {
     "base_uri": "https://localhost:8080/",
     "height": 449
    },
    "id": "VHdpDE7o42Pf",
    "outputId": "e2532b62-f91f-4497-e2da-540c54f34f2f"
   },
   "outputs": [],
   "source": [
    "plt.scatter(\n",
    "  mortgageDf[\"x1\"],\n",
    "  mortgageDf[\"y\"],\n",
    "  color='blue',\n",
    "  alpha=0.9,\n",
    "  label='Data Points - scatter',\n",
    ")\n",
    "\n",
    "plt.xlabel('x1')\n",
    "plt.ylabel('y')\n",
    "plt.legend()\n",
    "plt.grid(True)\n",
    "\n",
    "\n",
    "\n",
    "plt.show()"
   ]
  },
  {
   "cell_type": "code",
   "execution_count": null,
   "metadata": {
    "id": "ean6vMxkWfHF"
   },
   "outputs": [],
   "source": []
  },
  {
   "cell_type": "code",
   "execution_count": null,
   "metadata": {
    "colab": {
     "base_uri": "https://localhost:8080/",
     "height": 449
    },
    "id": "knAa4W9R47rZ",
    "outputId": "cb8121da-a185-417f-fa26-a0e9ad2b8faa"
   },
   "outputs": [],
   "source": [
    "plt.scatter(\n",
    "  mortgageDf[\"x2\"],\n",
    "  mortgageDf[\"y\"],\n",
    "  color='blue',\n",
    "  alpha=0.9,\n",
    "  label='Data Points - scatter',\n",
    ")\n",
    "\n",
    "plt.xlabel('x2')\n",
    "plt.ylabel('y')\n",
    "plt.legend()\n",
    "plt.grid(True)\n",
    "\n",
    "\n",
    "\n",
    "plt.show()"
   ]
  },
  {
   "cell_type": "code",
   "execution_count": null,
   "metadata": {
    "colab": {
     "base_uri": "https://localhost:8080/"
    },
    "id": "alIhUPPUzvli",
    "outputId": "8f9061b4-09dd-4525-f39e-797b603cfd53"
   },
   "outputs": [],
   "source": [
    "model1 = sm.OLS(\n",
    "  mortgageDf[\"y\"],\n",
    "  sm.add_constant(mortgageDf[[\"x1\", \"x2\"]])\n",
    ")\n",
    "model1Fit = model1.fit()\n",
    "print(model1Fit.summary())"
   ]
  },
  {
   "cell_type": "code",
   "execution_count": null,
   "metadata": {
    "colab": {
     "base_uri": "https://localhost:8080/",
     "height": 990
    },
    "id": "S-AyfiLN0Due",
    "outputId": "827d6090-8431-46a4-fb36-c6e884539662"
   },
   "outputs": [],
   "source": [
    "predict1 = model1Fit.predict(sm.add_constant(mortgageDf[[\"x1\", \"x2\"]]))\n",
    "mortgageDf['predict1'] = predict1\n",
    "mortgageDf"
   ]
  },
  {
   "cell_type": "code",
   "execution_count": null,
   "metadata": {
    "colab": {
     "base_uri": "https://localhost:8080/"
    },
    "id": "9ouX-mzz4sl-",
    "outputId": "6f95fccb-ab1c-4fef-a53f-d744ad00a45b"
   },
   "outputs": [],
   "source": [
    "model1Fit.predict([[1, 20, 30]])"
   ]
  },
  {
   "cell_type": "code",
   "execution_count": null,
   "metadata": {
    "colab": {
     "base_uri": "https://localhost:8080/"
    },
    "id": "ujSQIAwa8DRG",
    "outputId": "ff3d1a58-32f5-4bef-cb57-97ab79bbdd53"
   },
   "outputs": [],
   "source": [
    "model1Fit.predict([[1, 20, 15]])"
   ]
  },
  {
   "cell_type": "code",
   "execution_count": null,
   "metadata": {
    "colab": {
     "base_uri": "https://localhost:8080/"
    },
    "id": "yQ8XuYfr8Fs6",
    "outputId": "06169e06-16e7-44be-c599-ba17fceb48ca"
   },
   "outputs": [],
   "source": [
    "model1Fit.predict([[1, 40, 50]])"
   ]
  },
  {
   "cell_type": "code",
   "execution_count": null,
   "metadata": {
    "colab": {
     "base_uri": "https://localhost:8080/"
    },
    "id": "l_wGiUmL9Xta",
    "outputId": "9beb1054-bd82-4438-b3f7-d115d51a8b88"
   },
   "outputs": [],
   "source": [
    "model2 = sm.Logit(\n",
    "  mortgageDf[\"y\"],\n",
    "  sm.add_constant(mortgageDf[[\"x1\", \"x2\"]])\n",
    ")\n",
    "model2Fit = model2.fit()\n",
    "print(model2Fit.summary())"
   ]
  },
  {
   "cell_type": "code",
   "execution_count": null,
   "metadata": {
    "colab": {
     "base_uri": "https://localhost:8080/",
     "height": 990
    },
    "id": "hICJCcTx9gKy",
    "outputId": "6d072132-6408-4df8-ac73-75bb7a7bd6b2"
   },
   "outputs": [],
   "source": [
    "predict2 = model2Fit.predict(sm.add_constant(mortgageDf[[\"x1\", \"x2\"]]))\n",
    "mortgageDf['predict2'] = predict2\n",
    "mortgageDf"
   ]
  },
  {
   "cell_type": "code",
   "execution_count": null,
   "metadata": {
    "colab": {
     "base_uri": "https://localhost:8080/"
    },
    "id": "tBfMgF0Y9usy",
    "outputId": "29db0b46-acbc-42c5-ab11-4490a2eecc47"
   },
   "outputs": [],
   "source": [
    "model2Fit.predict([[1, 20, 30]]), model2Fit.predict([[1, 20, 15]]), model2Fit.predict([[1, 40, 50]])"
   ]
  },
  {
   "cell_type": "code",
   "execution_count": null,
   "metadata": {
    "colab": {
     "base_uri": "https://localhost:8080/"
    },
    "id": "iLB_t1-lWjAn",
    "outputId": "77dc990d-db61-4e4a-e26e-0593cadeb631"
   },
   "outputs": [],
   "source": [
    "model3 = sm.OLS(\n",
    "  mortgageDf[\"y\"],\n",
    "  sm.add_constant(mortgageDf[[\"x1\"]])\n",
    ")\n",
    "model3Fit = model3.fit()\n",
    "print(model3Fit.summary())"
   ]
  },
  {
   "cell_type": "code",
   "execution_count": null,
   "metadata": {
    "colab": {
     "base_uri": "https://localhost:8080/"
    },
    "id": "PuixWL0hWw1e",
    "outputId": "237434c6-c5eb-4ccd-a39e-d73fb6f1d215"
   },
   "outputs": [],
   "source": [
    "model4 = sm.Logit(\n",
    "  mortgageDf[\"y\"],\n",
    "  sm.add_constant(mortgageDf[[\"x1\"]])\n",
    ")\n",
    "model4Fit = model4.fit()\n",
    "print(model4Fit.summary())"
   ]
  },
  {
   "cell_type": "code",
   "execution_count": null,
   "metadata": {
    "colab": {
     "base_uri": "https://localhost:8080/"
    },
    "id": "YLIrig6rXKhw",
    "outputId": "211239e6-b133-460b-fa77-c68169153bfa"
   },
   "outputs": [],
   "source": [
    "min = 0\n",
    "min"
   ]
  },
  {
   "cell_type": "code",
   "execution_count": null,
   "metadata": {
    "colab": {
     "base_uri": "https://localhost:8080/"
    },
    "id": "w5OmNUfaXNsk",
    "outputId": "14e9ae85-7cd1-47fd-a370-6904d3b170d5"
   },
   "outputs": [],
   "source": [
    "max = mortgageDf[\"x1\"].max() + 10\n",
    "max, len(mortgageDf[\"x1\"])"
   ]
  },
  {
   "cell_type": "code",
   "execution_count": null,
   "metadata": {
    "id": "sBBshZgnXQzO"
   },
   "outputs": [],
   "source": [
    "x = np.linspace(min - 5, max + 5, 500)\n",
    "# x"
   ]
  },
  {
   "cell_type": "code",
   "execution_count": null,
   "metadata": {
    "id": "2zxAZeT5XwgE"
   },
   "outputs": [],
   "source": [
    "import math"
   ]
  },
  {
   "cell_type": "code",
   "execution_count": null,
   "metadata": {
    "id": "X2BmYiiDXgbw"
   },
   "outputs": [],
   "source": [
    "lREq = 0.0141 + x *  0.0227\n",
    "logREq = pow(math.e, (-2.2077  + 0.1043 * x))/ (1+ pow(math.e, (-2.2077  + 0.1043 * x)))"
   ]
  },
  {
   "cell_type": "code",
   "execution_count": null,
   "metadata": {
    "colab": {
     "base_uri": "https://localhost:8080/"
    },
    "id": "C_8MU1W7YgR8",
    "outputId": "33939ed7-8fc1-4813-bb7c-06c6f792c694"
   },
   "outputs": [],
   "source": [
    "len(lREq)"
   ]
  },
  {
   "cell_type": "code",
   "execution_count": null,
   "metadata": {
    "colab": {
     "base_uri": "https://localhost:8080/",
     "height": 449
    },
    "id": "VZ6BxMqpXCOH",
    "outputId": "b11dad1f-c306-46d0-fe8b-afc16e3f91f2"
   },
   "outputs": [],
   "source": [
    "\n",
    "plt.scatter(\n",
    "  mortgageDf[\"x1\"],\n",
    "  mortgageDf[\"y\"],\n",
    "  color='blue',\n",
    "  alpha=0.9,\n",
    "  label='Data Points - scatter',\n",
    ")\n",
    "\n",
    "plt.plot(\n",
    "  x,\n",
    "  lREq,\n",
    "  color='red',\n",
    "  alpha=0.9,\n",
    "  label='lREq',\n",
    ")\n",
    "\n",
    "plt.plot(\n",
    "  x,\n",
    "  logREq,\n",
    "  color='green',\n",
    "  alpha=0.9,\n",
    "  label='logREq',\n",
    ")\n",
    "\n",
    "plt.xlabel('x1')\n",
    "plt.ylabel('y')\n",
    "plt.legend()\n",
    "plt.grid(True)\n",
    "\n",
    "\n",
    "\n",
    "plt.show()"
   ]
  },
  {
   "cell_type": "code",
   "execution_count": null,
   "metadata": {
    "colab": {
     "base_uri": "https://localhost:8080/",
     "height": 990
    },
    "id": "NqT4-52vZyo-",
    "outputId": "96763409-58d1-4435-bc54-afcf8fc9d05f"
   },
   "outputs": [],
   "source": [
    "mortgageDf"
   ]
  },
  {
   "cell_type": "code",
   "execution_count": null,
   "metadata": {
    "colab": {
     "base_uri": "https://localhost:8080/",
     "height": 990
    },
    "id": "jLJD6VGqY1Xc",
    "outputId": "dacd3002-ceb1-4b40-e315-9adba673b28b"
   },
   "outputs": [],
   "source": [
    "mortgageDf['yHat2'] = mortgageDf['predict2'].apply(lambda x: 1 if x > 0.5 else 0)\n",
    "mortgageDf"
   ]
  },
  {
   "cell_type": "markdown",
   "metadata": {
    "id": "HR8tECzUY1NR"
   },
   "source": []
  },
  {
   "cell_type": "markdown",
   "metadata": {
    "id": "FRq8XsHGYvyA"
   },
   "source": [
    "Hold-out"
   ]
  },
  {
   "cell_type": "code",
   "execution_count": null,
   "metadata": {
    "colab": {
     "base_uri": "https://localhost:8080/",
     "height": 206
    },
    "id": "ugSmcm30aIO2",
    "outputId": "d71903ab-b450-476a-b05f-9f5230920e9e"
   },
   "outputs": [],
   "source": [
    "from sklearn.model_selection import train_test_split\n",
    "# Split the data into train and test sets\n",
    "# trainSet, testSet = train_test_split(wagesDf, test_size=0.15, random_state=55)\n",
    "trainSet, testSet = train_test_split(mortgageDf, test_size=0.15)\n",
    "\n",
    "trainSet.head()"
   ]
  },
  {
   "cell_type": "code",
   "execution_count": null,
   "metadata": {
    "colab": {
     "base_uri": "https://localhost:8080/"
    },
    "id": "8gQc9YQqaQ0G",
    "outputId": "6a67b0ce-9f65-4711-8b45-d27929aad16b"
   },
   "outputs": [],
   "source": [
    "mortgageDf.shape, trainSet.shape, testSet.shape"
   ]
  },
  {
   "cell_type": "code",
   "execution_count": null,
   "metadata": {
    "colab": {
     "base_uri": "https://localhost:8080/"
    },
    "id": "4Lz67KCiaQtC",
    "outputId": "4dbed20d-28d4-470a-d898-df6f4cd557d7"
   },
   "outputs": [],
   "source": [
    "modelHoldOut = sm.Logit(\n",
    "  trainSet[\"y\"],\n",
    "  sm.add_constant(trainSet[[\"x1\", \"x2\"]])\n",
    ")\n",
    "modelHoldOutFit = modelHoldOut.fit()\n",
    "print(modelHoldOutFit.summary())"
   ]
  },
  {
   "cell_type": "code",
   "execution_count": null,
   "metadata": {},
   "outputs": [],
   "source": [
    "print(model4Fit.summary())"
   ]
  },
  {
   "cell_type": "code",
   "execution_count": null,
   "metadata": {
    "colab": {
     "base_uri": "https://localhost:8080/",
     "height": 206
    },
    "id": "nRTs2yv9alHP",
    "outputId": "f0305ea5-32c2-45b5-e09e-73dc9b467c1c"
   },
   "outputs": [],
   "source": [
    "predictHoldOut = modelHoldOutFit.predict(sm.add_constant(testSet[[\"x1\", \"x2\"]]))\n",
    "testSet['predictHoldOut'] = predictHoldOut\n",
    "testSet"
   ]
  },
  {
   "cell_type": "code",
   "execution_count": null,
   "metadata": {
    "colab": {
     "base_uri": "https://localhost:8080/",
     "height": 206
    },
    "id": "1SXIG-xRbFc-",
    "outputId": "011931e1-25e3-4261-9103-5aad2b1371ab"
   },
   "outputs": [],
   "source": [
    "testSet['yHatHoldOut'] = testSet['predictHoldOut'].apply(lambda x: 1 if x > 0.5 else 0)\n",
    "testSet['isHoldOutCorrect'] = testSet.apply(lambda row: 1 if row['y'] == row['yHatHoldOut'] else 0, axis=1)\n",
    "testSet"
   ]
  },
  {
   "cell_type": "code",
   "execution_count": null,
   "metadata": {
    "colab": {
     "base_uri": "https://localhost:8080/"
    },
    "id": "bntHtTtwbMYi",
    "outputId": "1bfe2cc6-2034-4f1f-864b-630b19fcc96d"
   },
   "outputs": [],
   "source": [
    "accuracy = (np.sum(testSet['isHoldOutCorrect']) / len(testSet['yHatHoldOut'])) * 100\n",
    "accuracy"
   ]
  },
  {
   "cell_type": "code",
   "execution_count": null,
   "metadata": {
    "id": "z7KjTxz4caDz"
   },
   "outputs": [],
   "source": []
  },
  {
   "cell_type": "markdown",
   "metadata": {
    "id": "OVzr96gecftN"
   },
   "source": [
    "K-Fold Cross validation"
   ]
  },
  {
   "cell_type": "code",
   "execution_count": null,
   "metadata": {
    "id": "x56ASbXkciNv"
   },
   "outputs": [],
   "source": [
    "from sklearn.model_selection import KFold"
   ]
  },
  {
   "cell_type": "code",
   "execution_count": null,
   "metadata": {
    "id": "tjliLeknckTS"
   },
   "outputs": [],
   "source": [
    "# Initialize KFold\n",
    "kf = KFold(n_splits=5, shuffle=True, random_state=55)\n"
   ]
  },
  {
   "cell_type": "code",
   "execution_count": null,
   "metadata": {
    "colab": {
     "base_uri": "https://localhost:8080/"
    },
    "id": "2Inr3vF2cn14",
    "outputId": "a2ac2909-88e6-49a9-8d44-c1c50a44bf0e"
   },
   "outputs": [],
   "source": [
    "check = kf.split(mortgageDf)\n",
    "check\n",
    "experiment = 1\n",
    "# Loop through each fold\n",
    "# Initialize variables to store results\n",
    "accuracies = []\n",
    "\n",
    "for train_index, val_index in check:\n",
    "    # Split the data\n",
    "    trainSet, valSet = mortgageDf.iloc[train_index], mortgageDf.iloc[val_index]\n",
    "\n",
    "    # Fit the model\n",
    "\n",
    "    trainModel = sm.Logit(\n",
    "      trainSet[\"y\"],\n",
    "      sm.add_constant(trainSet[[\"x1\", \"x2\"]])\n",
    "    )\n",
    "    trainModelFit = trainModel.fit()\n",
    "\n",
    "    # Predict on the validation set\n",
    "    val_predictions = trainModelFit.predict(sm.add_constant(valSet[[\"x1\", \"x2\"]]))\n",
    "    valSet['val_predictions'] = val_predictions\n",
    "    valSet['yHatCross'] = valSet['val_predictions'].apply(lambda x: 1 if x > 0.5 else 0)\n",
    "    valSet['isCrossCorrect'] = valSet.apply(lambda row: 1 if row['y'] == row['yHatCross'] else 0, axis=1)\n",
    "    accuracy = (np.sum(valSet['isCrossCorrect']) / len(valSet['yHatCross'])) * 100\n",
    "    accuracies.append(accuracy)\n",
    "\n",
    "\n",
    "    # Print summary for each fold (optional)\n",
    "    print(f'expr={experiment}')\n",
    "    experiment = experiment +1\n",
    "    print(trainModelFit.summary())"
   ]
  },
  {
   "cell_type": "code",
   "execution_count": null,
   "metadata": {
    "colab": {
     "base_uri": "https://localhost:8080/"
    },
    "id": "ZrdsnnRhfE9w",
    "outputId": "78aaab6b-1f66-43cf-c2a7-c18f84430a8e"
   },
   "outputs": [],
   "source": [
    "accuracies"
   ]
  },
  {
   "cell_type": "code",
   "execution_count": null,
   "metadata": {
    "colab": {
     "base_uri": "https://localhost:8080/"
    },
    "id": "ZPFkA9gAfLyJ",
    "outputId": "f90e1a89-2679-4daf-98db-349e5f8ed1db"
   },
   "outputs": [],
   "source": [
    "print(f\"Average accuracies across all folds: {sum(accuracies) /len(accuracies)}\")"
   ]
  },
  {
   "cell_type": "code",
   "execution_count": null,
   "metadata": {},
   "outputs": [],
   "source": []
  }
 ],
 "metadata": {
  "colab": {
   "provenance": []
  },
  "kernelspec": {
   "display_name": "Python 3 (ipykernel)",
   "language": "python",
   "name": "python3"
  },
  "language_info": {
   "codemirror_mode": {
    "name": "ipython",
    "version": 3
   },
   "file_extension": ".py",
   "mimetype": "text/x-python",
   "name": "python",
   "nbconvert_exporter": "python",
   "pygments_lexer": "ipython3",
   "version": "3.12.3"
  }
 },
 "nbformat": 4,
 "nbformat_minor": 4
}
