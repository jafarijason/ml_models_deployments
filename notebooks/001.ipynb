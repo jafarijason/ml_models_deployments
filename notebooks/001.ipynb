{
 "cells": [
  {
   "cell_type": "code",
   "execution_count": 1,
   "metadata": {},
   "outputs": [],
   "source": [
    "def add_constant_column(df):\n",
    "    \"\"\"\n",
    "    Adds a constant column 'const' with value 1 as the first column to the DataFrame.\n",
    "    \n",
    "    Parameters:\n",
    "    df (pd.DataFrame): Input DataFrame.\n",
    "    \n",
    "    Returns:\n",
    "    pd.DataFrame: DataFrame with the added constant column as the first column.\n",
    "    \"\"\"\n",
    "    # Create a new DataFrame to avoid modifying the original DataFrame\n",
    "    df_with_const = df.copy()\n",
    "    \n",
    "    # Add a constant column with value 1\n",
    "    df_with_const.insert(0, 'const', 1)\n",
    "    \n",
    "    return df_with_const"
   ]
  },
  {
   "cell_type": "code",
   "execution_count": 2,
   "metadata": {
    "colab": {
     "base_uri": "https://localhost:8080/",
     "height": 206
    },
    "id": "ZbwpTMgRjUMS",
    "outputId": "7fca63af-b277-4dad-bc59-44ad128cb10a"
   },
   "outputs": [
    {
     "data": {
      "text/html": [
       "<div>\n",
       "<style scoped>\n",
       "    .dataframe tbody tr th:only-of-type {\n",
       "        vertical-align: middle;\n",
       "    }\n",
       "\n",
       "    .dataframe tbody tr th {\n",
       "        vertical-align: top;\n",
       "    }\n",
       "\n",
       "    .dataframe thead th {\n",
       "        text-align: right;\n",
       "    }\n",
       "</style>\n",
       "<table border=\"1\" class=\"dataframe\">\n",
       "  <thead>\n",
       "    <tr style=\"text-align: right;\">\n",
       "      <th></th>\n",
       "      <th>Sales</th>\n",
       "      <th>Temperature</th>\n",
       "      <th>Advertising</th>\n",
       "      <th>Discount</th>\n",
       "    </tr>\n",
       "  </thead>\n",
       "  <tbody>\n",
       "    <tr>\n",
       "      <th>0</th>\n",
       "      <td>17235</td>\n",
       "      <td>33</td>\n",
       "      <td>15</td>\n",
       "      <td>5.0</td>\n",
       "    </tr>\n",
       "    <tr>\n",
       "      <th>1</th>\n",
       "      <td>19854</td>\n",
       "      <td>42</td>\n",
       "      <td>25</td>\n",
       "      <td>5.0</td>\n",
       "    </tr>\n",
       "    <tr>\n",
       "      <th>2</th>\n",
       "      <td>45786</td>\n",
       "      <td>58</td>\n",
       "      <td>40</td>\n",
       "      <td>10.0</td>\n",
       "    </tr>\n",
       "    <tr>\n",
       "      <th>3</th>\n",
       "      <td>49745</td>\n",
       "      <td>67</td>\n",
       "      <td>70</td>\n",
       "      <td>20.0</td>\n",
       "    </tr>\n",
       "    <tr>\n",
       "      <th>4</th>\n",
       "      <td>65894</td>\n",
       "      <td>73</td>\n",
       "      <td>75</td>\n",
       "      <td>20.0</td>\n",
       "    </tr>\n",
       "  </tbody>\n",
       "</table>\n",
       "</div>"
      ],
      "text/plain": [
       "   Sales  Temperature  Advertising  Discount\n",
       "0  17235           33           15       5.0\n",
       "1  19854           42           25       5.0\n",
       "2  45786           58           40      10.0\n",
       "3  49745           67           70      20.0\n",
       "4  65894           73           75      20.0"
      ]
     },
     "execution_count": 2,
     "metadata": {},
     "output_type": "execute_result"
    }
   ],
   "source": [
    "import pandas as pd\n",
    "import matplotlib.pyplot as plt\n",
    "from mlModelSaver import MlModelSaver\n",
    "\n",
    "mowersDf = pd.read_excel('https://www.dropbox.com/scl/fi/y2rktyoqb8rrshrnlpvw1/Mowers.xlsx?rlkey=e5bi1d8sx5hml4ylfkjv7cryh&dl=1')\n",
    "mowersDf.head()"
   ]
  },
  {
   "cell_type": "code",
   "execution_count": 3,
   "metadata": {
    "id": "SPmxr6rde0Od"
   },
   "outputs": [],
   "source": [
    "# https://www.statsmodels.org/stable/index.html\n",
    "import statsmodels.api as sm\n",
    "# Your answer"
   ]
  },
  {
   "cell_type": "code",
   "execution_count": 4,
   "metadata": {
    "colab": {
     "base_uri": "https://localhost:8080/"
    },
    "id": "4jjcJF3SfX-h",
    "outputId": "dac6566b-1320-48ca-db70-712d4a7ff82b"
   },
   "outputs": [
    {
     "name": "stdout",
     "output_type": "stream",
     "text": [
      "                            OLS Regression Results                            \n",
      "==============================================================================\n",
      "Dep. Variable:                  Sales   R-squared:                       0.943\n",
      "Model:                            OLS   Adj. R-squared:                  0.935\n",
      "Method:                 Least Squares   F-statistic:                     110.5\n",
      "Date:                Sun, 16 Jun 2024   Prob (F-statistic):           1.29e-12\n",
      "Time:                        15:57:16   Log-Likelihood:                -233.93\n",
      "No. Observations:                  24   AIC:                             475.9\n",
      "Df Residuals:                      20   BIC:                             480.6\n",
      "Df Model:                           3                                         \n",
      "Covariance Type:            nonrobust                                         \n",
      "===============================================================================\n",
      "                  coef    std err          t      P>|t|      [0.025      0.975]\n",
      "-------------------------------------------------------------------------------\n",
      "const       -1730.0915   5791.339     -0.299      0.768   -1.38e+04    1.04e+04\n",
      "Temperature   302.9945    176.101      1.721      0.101     -64.345     670.334\n",
      "Advertising   505.5782    179.638      2.814      0.011     130.859     880.297\n",
      "Discount      202.2232    320.164      0.632      0.535    -465.627     870.073\n",
      "==============================================================================\n",
      "Omnibus:                        0.679   Durbin-Watson:                   3.369\n",
      "Prob(Omnibus):                  0.712   Jarque-Bera (JB):                0.511\n",
      "Skew:                          -0.335   Prob(JB):                        0.774\n",
      "Kurtosis:                       2.748   Cond. No.                         549.\n",
      "==============================================================================\n",
      "\n",
      "Notes:\n",
      "[1] Standard Errors assume that the covariance matrix of the errors is correctly specified.\n"
     ]
    }
   ],
   "source": [
    "modelPredictSaleByTemperatureAdvertisingDiscount = sm.OLS(\n",
    "  mowersDf[\"Sales\"],\n",
    "  add_constant_column(mowersDf[[\"Temperature\", \"Advertising\", \"Discount\"]])\n",
    ")\n",
    "modelPredictSaleByTemperatureAdvertisingDiscountFit = modelPredictSaleByTemperatureAdvertisingDiscount.fit()\n",
    "print(modelPredictSaleByTemperatureAdvertisingDiscountFit.summary())"
   ]
  },
  {
   "cell_type": "code",
   "execution_count": 5,
   "metadata": {},
   "outputs": [],
   "source": [
    "# add_constant_column(mowersDf[[\"Temperature\", \"Advertising\", \"Discount\"]])"
   ]
  },
  {
   "cell_type": "code",
   "execution_count": 6,
   "metadata": {},
   "outputs": [
    {
     "data": {
      "text/plain": [
       "<statsmodels.regression.linear_model.RegressionResultsWrapper at 0x3268af380>"
      ]
     },
     "execution_count": 6,
     "metadata": {},
     "output_type": "execute_result"
    }
   ],
   "source": [
    "from mlModelSaver import MlModelSaver\n",
    "mlModelSaverInstance = MlModelSaver({\n",
    "    \"baseRelativePath\": \"..\",\n",
    "    \"modelsFolder\": \"models\"\n",
    "})\n",
    "\n",
    "loadedModel = mlModelSaverInstance.exportModel(\n",
    "    modelPredictSaleByTemperatureAdvertisingDiscountFit,\n",
    "    {\n",
    "        \"modelName\": \"modelPredictSaleByTemperatureAdvertisingDiscountFit\",\n",
    "        \"description\": \"\",\n",
    "        \"modelType\": \"sm.OLS\",\n",
    "        \"inputs\": [\n",
    "            {\n",
    "                \"name\": \"Temperature\",\n",
    "                \"type\": \"float\",\n",
    "            },\n",
    "            {\n",
    "                \"name\": \"Advertising\",\n",
    "                \"type\": \"float\"\n",
    "            },\n",
    "            {\n",
    "                \"name\": \"Discount\",\n",
    "                \"type\": \"float\"\n",
    "            }\n",
    "        ],\n",
    "        \"transformer\": add_constant_column,\n",
    "        \"outputs\": [\n",
    "            {\n",
    "                \"name\": \"Sales\",\n",
    "                \"type\": \"float\"\n",
    "            }\n",
    "        ]\n",
    "    }\n",
    ")\n",
    "loadedModel"
   ]
  },
  {
   "cell_type": "code",
   "execution_count": 7,
   "metadata": {},
   "outputs": [],
   "source": [
    "\n",
    "testData = [\n",
    "    {\n",
    "        \"Temperature\": 42,\n",
    "        \"Advertising\": 15,\n",
    "        \"Discount\": 5\n",
    "    }\n",
    "]\n",
    "\n",
    "# Create a DataFrame from the dictionary\n",
    "testDf = pd.DataFrame(testData)\n"
   ]
  },
  {
   "cell_type": "code",
   "execution_count": 8,
   "metadata": {},
   "outputs": [
    {
     "data": {
      "text/plain": [
       "0    19590.46727\n",
       "dtype: float64"
      ]
     },
     "execution_count": 8,
     "metadata": {},
     "output_type": "execute_result"
    }
   ],
   "source": [
    "modelPredictSaleByTemperatureAdvertisingDiscountFit.predict( add_constant_column(testDf))\n"
   ]
  },
  {
   "cell_type": "code",
   "execution_count": 9,
   "metadata": {},
   "outputs": [
    {
     "data": {
      "text/plain": [
       "[{'Sales': 19590.467270313893}]"
      ]
     },
     "execution_count": 9,
     "metadata": {},
     "output_type": "execute_result"
    }
   ],
   "source": [
    "loadedModel.mlModelSavePredict(testDf)"
   ]
  },
  {
   "cell_type": "markdown",
   "metadata": {
    "id": "4YoK17TkeGCw"
   },
   "source": []
  }
 ],
 "metadata": {
  "colab": {
   "provenance": []
  },
  "kernelspec": {
   "display_name": "Python 3 (ipykernel)",
   "language": "python",
   "name": "python3"
  },
  "language_info": {
   "codemirror_mode": {
    "name": "ipython",
    "version": 3
   },
   "file_extension": ".py",
   "mimetype": "text/x-python",
   "name": "python",
   "nbconvert_exporter": "python",
   "pygments_lexer": "ipython3",
   "version": "3.12.3"
  }
 },
 "nbformat": 4,
 "nbformat_minor": 4
}
