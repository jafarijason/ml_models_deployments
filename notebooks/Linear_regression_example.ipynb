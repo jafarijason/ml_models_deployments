{
 "cells": [
  {
   "cell_type": "code",
   "execution_count": 1,
   "metadata": {
    "id": "xwFyEsosINqT"
   },
   "outputs": [],
   "source": [
    "import numpy as np\n",
    "import pandas as pd"
   ]
  },
  {
   "cell_type": "code",
   "execution_count": 2,
   "metadata": {
    "id": "pKewSQysItJ-"
   },
   "outputs": [],
   "source": [
    "# https://www.statsmodels.org/stable/index.html\n",
    "import statsmodels.api as sm"
   ]
  },
  {
   "cell_type": "code",
   "execution_count": 3,
   "metadata": {
    "id": "Lz-DyAtNWsJR"
   },
   "outputs": [],
   "source": [
    "# Download Dataset from https://www.dropbox.com/scl/fo/v71bqw2zowgla028cwdh0/AEfemP4C8qQ2X5tTNXMCqUQ/Session%203?dl=0&preview=educationWage.xlsx&rlkey=rlkgo6o58ex2kjbiv4b7cr9nj&subfolder_nav_tracking=1\n",
    "# and add it to colab"
   ]
  },
  {
   "cell_type": "code",
   "execution_count": 4,
   "metadata": {
    "id": "0zM8FGMJXJ70"
   },
   "outputs": [],
   "source": [
    "educationWageDf = pd.read_excel(\"https://www.dropbox.com/scl/fi/u494o4buy26erbqi1p3xj/educationWage.xlsx?rlkey=7j2bgns66szpuc6xebfhgfha5&dl=1\")\n",
    "# educationWageDf = pd.read_excel(\"./educationWage.xlsx\")"
   ]
  },
  {
   "cell_type": "code",
   "execution_count": 5,
   "metadata": {
    "colab": {
     "base_uri": "https://localhost:8080/",
     "height": 300
    },
    "id": "wsIgDGYcXT_z",
    "outputId": "df04b4a7-5823-4168-e65b-1a539afc94e4"
   },
   "outputs": [
    {
     "data": {
      "text/html": [
       "<div>\n",
       "<style scoped>\n",
       "    .dataframe tbody tr th:only-of-type {\n",
       "        vertical-align: middle;\n",
       "    }\n",
       "\n",
       "    .dataframe tbody tr th {\n",
       "        vertical-align: top;\n",
       "    }\n",
       "\n",
       "    .dataframe thead th {\n",
       "        text-align: right;\n",
       "    }\n",
       "</style>\n",
       "<table border=\"1\" class=\"dataframe\">\n",
       "  <thead>\n",
       "    <tr style=\"text-align: right;\">\n",
       "      <th></th>\n",
       "      <th>Education</th>\n",
       "      <th>Wage</th>\n",
       "    </tr>\n",
       "  </thead>\n",
       "  <tbody>\n",
       "    <tr>\n",
       "      <th>0</th>\n",
       "      <td>20</td>\n",
       "      <td>160</td>\n",
       "    </tr>\n",
       "    <tr>\n",
       "      <th>1</th>\n",
       "      <td>18</td>\n",
       "      <td>120</td>\n",
       "    </tr>\n",
       "    <tr>\n",
       "      <th>2</th>\n",
       "      <td>12</td>\n",
       "      <td>70</td>\n",
       "    </tr>\n",
       "    <tr>\n",
       "      <th>3</th>\n",
       "      <td>16</td>\n",
       "      <td>100</td>\n",
       "    </tr>\n",
       "    <tr>\n",
       "      <th>4</th>\n",
       "      <td>10</td>\n",
       "      <td>65</td>\n",
       "    </tr>\n",
       "    <tr>\n",
       "      <th>5</th>\n",
       "      <td>23</td>\n",
       "      <td>160</td>\n",
       "    </tr>\n",
       "    <tr>\n",
       "      <th>6</th>\n",
       "      <td>2</td>\n",
       "      <td>40</td>\n",
       "    </tr>\n",
       "    <tr>\n",
       "      <th>7</th>\n",
       "      <td>5</td>\n",
       "      <td>55</td>\n",
       "    </tr>\n",
       "  </tbody>\n",
       "</table>\n",
       "</div>"
      ],
      "text/plain": [
       "   Education  Wage\n",
       "0         20   160\n",
       "1         18   120\n",
       "2         12    70\n",
       "3         16   100\n",
       "4         10    65\n",
       "5         23   160\n",
       "6          2    40\n",
       "7          5    55"
      ]
     },
     "execution_count": 5,
     "metadata": {},
     "output_type": "execute_result"
    }
   ],
   "source": [
    "educationWageDf"
   ]
  },
  {
   "cell_type": "code",
   "execution_count": 6,
   "metadata": {
    "colab": {
     "base_uri": "https://localhost:8080/",
     "height": 204
    },
    "id": "mE_jpf50ZSQ3",
    "outputId": "e928191e-8299-4b0d-de74-88905fc4f4b5"
   },
   "outputs": [
    {
     "data": {
      "text/plain": [
       "pandas.core.frame.DataFrame"
      ]
     },
     "execution_count": 6,
     "metadata": {},
     "output_type": "execute_result"
    }
   ],
   "source": [
    "type(educationWageDf)"
   ]
  },
  {
   "cell_type": "code",
   "execution_count": 7,
   "metadata": {
    "colab": {
     "base_uri": "https://localhost:8080/"
    },
    "id": "sPAT8difZamr",
    "outputId": "200cdc13-fdfe-44f0-90cb-9bf0e72fb03c"
   },
   "outputs": [
    {
     "data": {
      "text/plain": [
       "(0    20\n",
       " 1    18\n",
       " 2    12\n",
       " 3    16\n",
       " 4    10\n",
       " 5    23\n",
       " 6     2\n",
       " 7     5\n",
       " Name: Education, dtype: int64,\n",
       " pandas.core.series.Series)"
      ]
     },
     "execution_count": 7,
     "metadata": {},
     "output_type": "execute_result"
    }
   ],
   "source": [
    "educationWageDf[\"Education\"], type(educationWageDf[\"Education\"])"
   ]
  },
  {
   "cell_type": "code",
   "execution_count": 8,
   "metadata": {
    "colab": {
     "base_uri": "https://localhost:8080/",
     "height": 472
    },
    "id": "L0294jIPa23E",
    "outputId": "ac786e84-a4c5-4fdf-d1f8-a9c781f2f6dd"
   },
   "outputs": [
    {
     "data": {
      "text/plain": [
       "<Axes: xlabel='Education', ylabel='Wage'>"
      ]
     },
     "execution_count": 8,
     "metadata": {},
     "output_type": "execute_result"
    },
    {
     "data": {
      "image/png": "[encoded data removed]",
      "text/plain": [
       "<Figure size 640x480 with 1 Axes>"
      ]
     },
     "metadata": {},
     "output_type": "display_data"
    }
   ],
   "source": [
    "educationWageDf.plot.scatter(\n",
    "    x = 'Education',\n",
    "    y = 'Wage',\n",
    "    xlim = (0, 25),\n",
    "    ylim = (0, 180),\n",
    "    grid = True\n",
    ")\n"
   ]
  },
  {
   "cell_type": "markdown",
   "metadata": {
    "id": "70sdSooaXIP6"
   },
   "source": [
    "\n",
    "\n",
    "\n",
    "\n",
    "\n",
    "\n",
    "\n",
    "\n",
    "\n"
   ]
  },
  {
   "cell_type": "markdown",
   "metadata": {
    "id": "5kGS_KvQxDnB"
   },
   "source": []
  },
  {
   "cell_type": "code",
   "execution_count": null,
   "metadata": {
    "id": "CAzIv4nUbLNs"
   },
   "outputs": [],
   "source": []
  },
  {
   "cell_type": "code",
   "execution_count": 9,
   "metadata": {
    "colab": {
     "base_uri": "https://localhost:8080/"
    },
    "id": "izbdCJO6bGgr",
    "outputId": "3afc22ab-f6cd-42a3-f1bc-2ed7d9888438"
   },
   "outputs": [
    {
     "data": {
      "text/plain": [
       "(0    20\n",
       " 1    18\n",
       " 2    12\n",
       " 3    16\n",
       " 4    10\n",
       " 5    23\n",
       " 6     2\n",
       " 7     5\n",
       " Name: Education, dtype: int64,\n",
       " pandas.core.series.Series)"
      ]
     },
     "execution_count": 9,
     "metadata": {},
     "output_type": "execute_result"
    }
   ],
   "source": [
    "educationWageDf[\"Education\"], type(educationWageDf[\"Education\"])"
   ]
  },
  {
   "cell_type": "code",
   "execution_count": 10,
   "metadata": {
    "colab": {
     "base_uri": "https://localhost:8080/"
    },
    "id": "qZTj0erZbNa4",
    "outputId": "dc8383c8-059b-47e1-f8d6-2af3ff19f1b6"
   },
   "outputs": [
    {
     "data": {
      "text/plain": [
       "(   const  Education\n",
       " 0    1.0         20\n",
       " 1    1.0         18\n",
       " 2    1.0         12\n",
       " 3    1.0         16\n",
       " 4    1.0         10\n",
       " 5    1.0         23\n",
       " 6    1.0          2\n",
       " 7    1.0          5,\n",
       " pandas.core.frame.DataFrame)"
      ]
     },
     "execution_count": 10,
     "metadata": {},
     "output_type": "execute_result"
    }
   ],
   "source": [
    "sm.add_constant(educationWageDf[\"Education\"]), type(sm.add_constant(educationWageDf[\"Education\"]))"
   ]
  },
  {
   "cell_type": "code",
   "execution_count": 11,
   "metadata": {
    "id": "3CZ6j-I1XH59"
   },
   "outputs": [],
   "source": [
    "educationWageLiniarRgressionModel = sm.OLS(\n",
    "  educationWageDf[\"Wage\"],\n",
    "  sm.add_constant(educationWageDf[\"Education\"])\n",
    ")\n"
   ]
  },
  {
   "cell_type": "code",
   "execution_count": 12,
   "metadata": {
    "id": "OfbVQb61inFN"
   },
   "outputs": [],
   "source": [
    "educationWageLiniarRgressionModelFit = educationWageLiniarRgressionModel.fit()"
   ]
  },
  {
   "cell_type": "code",
   "execution_count": 13,
   "metadata": {
    "colab": {
     "base_uri": "https://localhost:8080/"
    },
    "id": "QjoNi0wP_MiT",
    "outputId": "0562af9c-3690-46fd-cdd8-24082338010b"
   },
   "outputs": [
    {
     "name": "stdout",
     "output_type": "stream",
     "text": [
      "                            OLS Regression Results                            \n",
      "==============================================================================\n",
      "Dep. Variable:                   Wage   R-squared:                       0.906\n",
      "Model:                            OLS   Adj. R-squared:                  0.890\n",
      "Method:                 Least Squares   F-statistic:                     57.64\n",
      "Date:                Sun, 09 Jun 2024   Prob (F-statistic):           0.000272\n",
      "Time:                        01:23:10   Log-Likelihood:                -32.114\n",
      "No. Observations:                   8   AIC:                             68.23\n",
      "Df Residuals:                       6   BIC:                             68.39\n",
      "Df Model:                           1                                         \n",
      "Covariance Type:            nonrobust                                         \n",
      "==============================================================================\n",
      "                 coef    std err          t      P>|t|      [0.025      0.975]\n",
      "------------------------------------------------------------------------------\n",
      "const         16.1358     11.887      1.357      0.223     -12.950      45.221\n",
      "Education      6.0464      0.796      7.592      0.000       4.098       7.995\n",
      "==============================================================================\n",
      "Omnibus:                        0.619   Durbin-Watson:                   0.926\n",
      "Prob(Omnibus):                  0.734   Jarque-Bera (JB):                0.522\n",
      "Skew:                           0.213   Prob(JB):                        0.770\n",
      "Kurtosis:                       1.823   Cond. No.                         32.5\n",
      "==============================================================================\n",
      "\n",
      "Notes:\n",
      "[1] Standard Errors assume that the covariance matrix of the errors is correctly specified.\n"
     ]
    },
    {
     "name": "stderr",
     "output_type": "stream",
     "text": [
      "/Users/jasonjafari/gitHub/ml_models_deployments/venv/lib/python3.12/site-packages/scipy/stats/_axis_nan_policy.py:531: UserWarning: kurtosistest only valid for n>=20 ... continuing anyway, n=8\n",
      "  res = hypotest_fun_out(*samples, **kwds)\n"
     ]
    }
   ],
   "source": [
    "print(educationWageLiniarRgressionModelFit.summary())"
   ]
  },
  {
   "cell_type": "code",
   "execution_count": 14,
   "metadata": {},
   "outputs": [
    {
     "data": {
      "text/plain": [
       "<statsmodels.regression.linear_model.RegressionResultsWrapper at 0x353978050>"
      ]
     },
     "execution_count": 14,
     "metadata": {},
     "output_type": "execute_result"
    }
   ],
   "source": [
    "from functions.exportModel import exportModel\n",
    "exportModel({\n",
    "    \"modelName\": \"educationWageLiniarRgressionModelFit\",\n",
    "    \"model\": educationWageLiniarRgressionModelFit,\n",
    "    \"description\": \"predict Wage based on Education with linear regression\",\n",
    "    \"modelType\": \"sm.OLS\",\n",
    "    \"baseRelativePath\": \"..\",\n",
    "    \"inputs\": [\n",
    "        {\n",
    "            \"name\": \"const\",\n",
    "            \"type\": \"int\"\n",
    "        },\n",
    "        {\n",
    "            \"name\": \"Education\",\n",
    "            \"type\": \"int\"\n",
    "        }\n",
    "    ],\n",
    "    \"output\": {\n",
    "        \"name\": \"Wage\",\n",
    "        \"type\": \"float\"\n",
    "    }\n",
    "})"
   ]
  },
  {
   "cell_type": "code",
   "execution_count": 15,
   "metadata": {
    "colab": {
     "base_uri": "https://localhost:8080/"
    },
    "id": "TYSiZnRL_tIx",
    "outputId": "bf581098-bd2b-4ee8-eb05-22300b7840dd"
   },
   "outputs": [
    {
     "data": {
      "text/plain": [
       "const        16.135762\n",
       "Education     6.046358\n",
       "dtype: float64"
      ]
     },
     "execution_count": 15,
     "metadata": {},
     "output_type": "execute_result"
    }
   ],
   "source": [
    "educationWageLiniarRgressionModelFit.params"
   ]
  },
  {
   "cell_type": "code",
   "execution_count": 16,
   "metadata": {
    "id": "gCeVAjLWd1zt"
   },
   "outputs": [],
   "source": [
    "# wage = b0 + b1 * Education"
   ]
  },
  {
   "cell_type": "code",
   "execution_count": 17,
   "metadata": {
    "colab": {
     "base_uri": "https://localhost:8080/"
    },
    "id": "rgycwEPzibXT",
    "outputId": "7b8a339e-4337-4cdf-a8c5-152d8041f8f9"
   },
   "outputs": [
    {
     "data": {
      "text/plain": [
       "0    137.062914\n",
       "1    124.970199\n",
       "2     88.692053\n",
       "3    112.877483\n",
       "4     76.599338\n",
       "5    155.201987\n",
       "6     28.228477\n",
       "7     46.367550\n",
       "dtype: float64"
      ]
     },
     "execution_count": 17,
     "metadata": {},
     "output_type": "execute_result"
    }
   ],
   "source": [
    "predictedWage = educationWageLiniarRgressionModelFit.predict(sm.add_constant(educationWageDf[\"Education\"]))\n",
    "predictedWage"
   ]
  },
  {
   "cell_type": "code",
   "execution_count": 18,
   "metadata": {
    "colab": {
     "base_uri": "https://localhost:8080/",
     "height": 300
    },
    "id": "BNQ2w_HAeGGq",
    "outputId": "0c22f719-fd71-44d1-e9ea-3607b59b3f3a"
   },
   "outputs": [
    {
     "data": {
      "text/html": [
       "<div>\n",
       "<style scoped>\n",
       "    .dataframe tbody tr th:only-of-type {\n",
       "        vertical-align: middle;\n",
       "    }\n",
       "\n",
       "    .dataframe tbody tr th {\n",
       "        vertical-align: top;\n",
       "    }\n",
       "\n",
       "    .dataframe thead th {\n",
       "        text-align: right;\n",
       "    }\n",
       "</style>\n",
       "<table border=\"1\" class=\"dataframe\">\n",
       "  <thead>\n",
       "    <tr style=\"text-align: right;\">\n",
       "      <th></th>\n",
       "      <th>Education</th>\n",
       "      <th>Wage</th>\n",
       "      <th>predictedWage</th>\n",
       "    </tr>\n",
       "  </thead>\n",
       "  <tbody>\n",
       "    <tr>\n",
       "      <th>0</th>\n",
       "      <td>20</td>\n",
       "      <td>160</td>\n",
       "      <td>137.062914</td>\n",
       "    </tr>\n",
       "    <tr>\n",
       "      <th>1</th>\n",
       "      <td>18</td>\n",
       "      <td>120</td>\n",
       "      <td>124.970199</td>\n",
       "    </tr>\n",
       "    <tr>\n",
       "      <th>2</th>\n",
       "      <td>12</td>\n",
       "      <td>70</td>\n",
       "      <td>88.692053</td>\n",
       "    </tr>\n",
       "    <tr>\n",
       "      <th>3</th>\n",
       "      <td>16</td>\n",
       "      <td>100</td>\n",
       "      <td>112.877483</td>\n",
       "    </tr>\n",
       "    <tr>\n",
       "      <th>4</th>\n",
       "      <td>10</td>\n",
       "      <td>65</td>\n",
       "      <td>76.599338</td>\n",
       "    </tr>\n",
       "    <tr>\n",
       "      <th>5</th>\n",
       "      <td>23</td>\n",
       "      <td>160</td>\n",
       "      <td>155.201987</td>\n",
       "    </tr>\n",
       "    <tr>\n",
       "      <th>6</th>\n",
       "      <td>2</td>\n",
       "      <td>40</td>\n",
       "      <td>28.228477</td>\n",
       "    </tr>\n",
       "    <tr>\n",
       "      <th>7</th>\n",
       "      <td>5</td>\n",
       "      <td>55</td>\n",
       "      <td>46.367550</td>\n",
       "    </tr>\n",
       "  </tbody>\n",
       "</table>\n",
       "</div>"
      ],
      "text/plain": [
       "   Education  Wage  predictedWage\n",
       "0         20   160     137.062914\n",
       "1         18   120     124.970199\n",
       "2         12    70      88.692053\n",
       "3         16   100     112.877483\n",
       "4         10    65      76.599338\n",
       "5         23   160     155.201987\n",
       "6          2    40      28.228477\n",
       "7          5    55      46.367550"
      ]
     },
     "execution_count": 18,
     "metadata": {},
     "output_type": "execute_result"
    }
   ],
   "source": [
    "educationWageDf['predictedWage'] = predictedWage\n",
    "educationWageDf"
   ]
  },
  {
   "cell_type": "code",
   "execution_count": 19,
   "metadata": {
    "colab": {
     "base_uri": "https://localhost:8080/"
    },
    "id": "ooBEi1bmBE1F",
    "outputId": "53ed63f4-88ec-4b48-e494-782811aa2b71"
   },
   "outputs": [
    {
     "data": {
      "text/plain": [
       "array([106.83112583])"
      ]
     },
     "execution_count": 19,
     "metadata": {},
     "output_type": "execute_result"
    }
   ],
   "source": [
    "testPredict = educationWageLiniarRgressionModelFit.predict([[1,15]])\n",
    "testPredict"
   ]
  },
  {
   "cell_type": "code",
   "execution_count": 20,
   "metadata": {
    "id": "hfmtTSDajJa1"
   },
   "outputs": [],
   "source": [
    "import matplotlib.pyplot as plt\n"
   ]
  },
  {
   "cell_type": "code",
   "execution_count": 21,
   "metadata": {
    "colab": {
     "base_uri": "https://localhost:8080/",
     "height": 718
    },
    "id": "FYmVGYFxjRJg",
    "outputId": "5a08c13d-43b1-4ec7-92b3-cff806da38a0"
   },
   "outputs": [
    {
     "data": {
      "image/png": "[encoded data removed]",
      "text/plain": [
       "<Figure size 800x800 with 1 Axes>"
      ]
     },
     "metadata": {},
     "output_type": "display_data"
    }
   ],
   "source": [
    "# Plotting\n",
    "plt.figure(\n",
    "  figsize=(8, 8)\n",
    ")\n",
    "\n",
    "plt.scatter(\n",
    "  educationWageDf[\"Education\"],\n",
    "  educationWageDf[\"Wage\"],\n",
    "  color='blue',\n",
    "  alpha=0.9,\n",
    "  label='Data Points - scatter',\n",
    ")\n",
    "\n",
    "plt.plot(\n",
    "  educationWageDf[\"Education\"],\n",
    "  educationWageDf[\"predictedWage\"],\n",
    "  color='red',\n",
    "  label='OLS Regression - predictedWage'\n",
    ")\n",
    "plt.title('Education Level vs. Wage with OLS Regression')\n",
    "plt.xlabel('Education Level(yr)')\n",
    "plt.ylabel('Wage K')\n",
    "plt.legend()\n",
    "plt.grid(True)\n",
    "\n",
    "plt.gca().set_xlim([0, 25])\n",
    "plt.gca().set_ylim([0, 180])\n",
    "\n",
    "\n",
    "plt.show()"
   ]
  },
  {
   "cell_type": "markdown",
   "metadata": {
    "id": "trx50k1tBX0s"
   },
   "source": [
    "# Another way"
   ]
  },
  {
   "cell_type": "code",
   "execution_count": 22,
   "metadata": {
    "colab": {
     "base_uri": "https://localhost:8080/"
    },
    "id": "5G0wXkAFIxMd",
    "outputId": "638eddd9-db57-42f7-e702-2d99e4ce18c7"
   },
   "outputs": [
    {
     "data": {
      "text/plain": [
       "(array([20, 18, 12, 16, 10, 23,  2,  5]),\n",
       " array([160, 120,  70, 100,  65, 160,  40,  55]))"
      ]
     },
     "execution_count": 22,
     "metadata": {},
     "output_type": "execute_result"
    }
   ],
   "source": [
    "X = np.array([20, 18, 12, 16, 10, 23, 2, 5])\n",
    "y = np.array([160, 120, 70 , 100, 65, 160, 40, 55])\n",
    "X, y"
   ]
  },
  {
   "cell_type": "code",
   "execution_count": 23,
   "metadata": {
    "id": "YTcd15wbK9AA"
   },
   "outputs": [],
   "source": [
    "X = sm.add_constant(X)"
   ]
  },
  {
   "cell_type": "code",
   "execution_count": 24,
   "metadata": {
    "colab": {
     "base_uri": "https://localhost:8080/"
    },
    "id": "Oksgjk2MKjL_",
    "outputId": "05fff372-2217-40d5-ddae-6ae6f716f54a"
   },
   "outputs": [
    {
     "data": {
      "text/plain": [
       "array([[ 1., 20.],\n",
       "       [ 1., 18.],\n",
       "       [ 1., 12.],\n",
       "       [ 1., 16.],\n",
       "       [ 1., 10.],\n",
       "       [ 1., 23.],\n",
       "       [ 1.,  2.],\n",
       "       [ 1.,  5.]])"
      ]
     },
     "execution_count": 24,
     "metadata": {},
     "output_type": "execute_result"
    }
   ],
   "source": [
    "X"
   ]
  },
  {
   "cell_type": "code",
   "execution_count": 25,
   "metadata": {
    "id": "foBX_PxyJJj8"
   },
   "outputs": [],
   "source": [
    "model = sm.OLS(y, X).fit()\n"
   ]
  },
  {
   "cell_type": "code",
   "execution_count": 26,
   "metadata": {
    "colab": {
     "base_uri": "https://localhost:8080/"
    },
    "id": "Da-TIkZpJMBB",
    "outputId": "d5c347b5-2c1b-49bc-84cf-ecab21cef3f8"
   },
   "outputs": [
    {
     "name": "stdout",
     "output_type": "stream",
     "text": [
      "                            OLS Regression Results                            \n",
      "==============================================================================\n",
      "Dep. Variable:                      y   R-squared:                       0.906\n",
      "Model:                            OLS   Adj. R-squared:                  0.890\n",
      "Method:                 Least Squares   F-statistic:                     57.64\n",
      "Date:                Sun, 09 Jun 2024   Prob (F-statistic):           0.000272\n",
      "Time:                        01:23:11   Log-Likelihood:                -32.114\n",
      "No. Observations:                   8   AIC:                             68.23\n",
      "Df Residuals:                       6   BIC:                             68.39\n",
      "Df Model:                           1                                         \n",
      "Covariance Type:            nonrobust                                         \n",
      "==============================================================================\n",
      "                 coef    std err          t      P>|t|      [0.025      0.975]\n",
      "------------------------------------------------------------------------------\n",
      "const         16.1358     11.887      1.357      0.223     -12.950      45.221\n",
      "x1             6.0464      0.796      7.592      0.000       4.098       7.995\n",
      "==============================================================================\n",
      "Omnibus:                        0.619   Durbin-Watson:                   0.926\n",
      "Prob(Omnibus):                  0.734   Jarque-Bera (JB):                0.522\n",
      "Skew:                           0.213   Prob(JB):                        0.770\n",
      "Kurtosis:                       1.823   Cond. No.                         32.5\n",
      "==============================================================================\n",
      "\n",
      "Notes:\n",
      "[1] Standard Errors assume that the covariance matrix of the errors is correctly specified.\n"
     ]
    },
    {
     "name": "stderr",
     "output_type": "stream",
     "text": [
      "/Users/jasonjafari/gitHub/ml_models_deployments/venv/lib/python3.12/site-packages/scipy/stats/_axis_nan_policy.py:531: UserWarning: kurtosistest only valid for n>=20 ... continuing anyway, n=8\n",
      "  res = hypotest_fun_out(*samples, **kwds)\n"
     ]
    }
   ],
   "source": [
    "print(model.summary())"
   ]
  },
  {
   "cell_type": "code",
   "execution_count": 27,
   "metadata": {
    "colab": {
     "base_uri": "https://localhost:8080/"
    },
    "id": "8Evg53IMJQQD",
    "outputId": "817500b1-4734-4d83-9347-ef1bdcd1ee7c"
   },
   "outputs": [
    {
     "name": "stdout",
     "output_type": "stream",
     "text": [
      "Coefficients: [16.13576159  6.04635762]\n"
     ]
    }
   ],
   "source": [
    "print(\"Coefficients:\", model.params)"
   ]
  },
  {
   "cell_type": "code",
   "execution_count": 28,
   "metadata": {
    "colab": {
     "base_uri": "https://localhost:8080/"
    },
    "id": "Csteg6CiOiSv",
    "outputId": "e3469200-48c1-4c56-8e46-fbdc0aac986b"
   },
   "outputs": [
    {
     "data": {
      "text/plain": [
       "array([ 46.36754967, 106.83112583])"
      ]
     },
     "execution_count": 28,
     "metadata": {},
     "output_type": "execute_result"
    }
   ],
   "source": [
    "predictions = model.predict([[1, 5], [1, 15]])\n",
    "predictions"
   ]
  },
  {
   "cell_type": "code",
   "execution_count": 29,
   "metadata": {
    "id": "xxZNODO1PC1m"
   },
   "outputs": [],
   "source": [
    "def predicWage(intercept, slope, yearsOfExperience):\n",
    "  return intercept + (slope * yearsOfExperience)"
   ]
  },
  {
   "cell_type": "code",
   "execution_count": 30,
   "metadata": {
    "colab": {
     "base_uri": "https://localhost:8080/"
    },
    "id": "8lYfVWyNPdLc",
    "outputId": "7db3e8e0-1425-4179-dfc9-c48c5167cd4e"
   },
   "outputs": [
    {
     "data": {
      "text/plain": [
       "46.367549668874176"
      ]
     },
     "execution_count": 30,
     "metadata": {},
     "output_type": "execute_result"
    }
   ],
   "source": [
    "predicWage(model.params[0], model.params[1], 5)"
   ]
  },
  {
   "cell_type": "code",
   "execution_count": 31,
   "metadata": {
    "colab": {
     "base_uri": "https://localhost:8080/"
    },
    "id": "YnJzK9USPkcC",
    "outputId": "01b40693-ade3-433a-de93-bc848a19506a"
   },
   "outputs": [
    {
     "data": {
      "text/plain": [
       "106.83112582781453"
      ]
     },
     "execution_count": 31,
     "metadata": {},
     "output_type": "execute_result"
    }
   ],
   "source": [
    "predicWage(model.params[0], model.params[1], 15)"
   ]
  },
  {
   "cell_type": "markdown",
   "metadata": {
    "id": "UxR96NeFLG9p"
   },
   "source": [
    "# Another way"
   ]
  },
  {
   "cell_type": "code",
   "execution_count": 32,
   "metadata": {
    "id": "y6-07nV0JoBa"
   },
   "outputs": [],
   "source": [
    "from sklearn.linear_model import LinearRegression"
   ]
  },
  {
   "cell_type": "code",
   "execution_count": 33,
   "metadata": {
    "colab": {
     "base_uri": "https://localhost:8080/",
     "height": 300
    },
    "id": "DJKKcxAFBlZi",
    "outputId": "accbbe8f-e428-4dd1-83f6-9da8c3eb4fff"
   },
   "outputs": [
    {
     "data": {
      "text/html": [
       "<div>\n",
       "<style scoped>\n",
       "    .dataframe tbody tr th:only-of-type {\n",
       "        vertical-align: middle;\n",
       "    }\n",
       "\n",
       "    .dataframe tbody tr th {\n",
       "        vertical-align: top;\n",
       "    }\n",
       "\n",
       "    .dataframe thead th {\n",
       "        text-align: right;\n",
       "    }\n",
       "</style>\n",
       "<table border=\"1\" class=\"dataframe\">\n",
       "  <thead>\n",
       "    <tr style=\"text-align: right;\">\n",
       "      <th></th>\n",
       "      <th>Education</th>\n",
       "      <th>Wage</th>\n",
       "      <th>predictedWage</th>\n",
       "    </tr>\n",
       "  </thead>\n",
       "  <tbody>\n",
       "    <tr>\n",
       "      <th>0</th>\n",
       "      <td>20</td>\n",
       "      <td>160</td>\n",
       "      <td>137.062914</td>\n",
       "    </tr>\n",
       "    <tr>\n",
       "      <th>1</th>\n",
       "      <td>18</td>\n",
       "      <td>120</td>\n",
       "      <td>124.970199</td>\n",
       "    </tr>\n",
       "    <tr>\n",
       "      <th>2</th>\n",
       "      <td>12</td>\n",
       "      <td>70</td>\n",
       "      <td>88.692053</td>\n",
       "    </tr>\n",
       "    <tr>\n",
       "      <th>3</th>\n",
       "      <td>16</td>\n",
       "      <td>100</td>\n",
       "      <td>112.877483</td>\n",
       "    </tr>\n",
       "    <tr>\n",
       "      <th>4</th>\n",
       "      <td>10</td>\n",
       "      <td>65</td>\n",
       "      <td>76.599338</td>\n",
       "    </tr>\n",
       "    <tr>\n",
       "      <th>5</th>\n",
       "      <td>23</td>\n",
       "      <td>160</td>\n",
       "      <td>155.201987</td>\n",
       "    </tr>\n",
       "    <tr>\n",
       "      <th>6</th>\n",
       "      <td>2</td>\n",
       "      <td>40</td>\n",
       "      <td>28.228477</td>\n",
       "    </tr>\n",
       "    <tr>\n",
       "      <th>7</th>\n",
       "      <td>5</td>\n",
       "      <td>55</td>\n",
       "      <td>46.367550</td>\n",
       "    </tr>\n",
       "  </tbody>\n",
       "</table>\n",
       "</div>"
      ],
      "text/plain": [
       "   Education  Wage  predictedWage\n",
       "0         20   160     137.062914\n",
       "1         18   120     124.970199\n",
       "2         12    70      88.692053\n",
       "3         16   100     112.877483\n",
       "4         10    65      76.599338\n",
       "5         23   160     155.201987\n",
       "6          2    40      28.228477\n",
       "7          5    55      46.367550"
      ]
     },
     "execution_count": 33,
     "metadata": {},
     "output_type": "execute_result"
    }
   ],
   "source": [
    "educationWageDf"
   ]
  },
  {
   "cell_type": "code",
   "execution_count": 34,
   "metadata": {
    "id": "0GMyNZTyB0tz"
   },
   "outputs": [],
   "source": [
    "educationWageLiniarRgressionModel2 = LinearRegression()"
   ]
  },
  {
   "cell_type": "code",
   "execution_count": 35,
   "metadata": {
    "colab": {
     "base_uri": "https://localhost:8080/"
    },
    "id": "CMrTd4NsC3Am",
    "outputId": "adb114b3-4853-4d1e-8982-c5aa615236da"
   },
   "outputs": [
    {
     "data": {
      "text/plain": [
       "(0    20\n",
       " 1    18\n",
       " 2    12\n",
       " 3    16\n",
       " 4    10\n",
       " 5    23\n",
       " 6     2\n",
       " 7     5\n",
       " Name: Education, dtype: int64,\n",
       " pandas.core.series.Series)"
      ]
     },
     "execution_count": 35,
     "metadata": {},
     "output_type": "execute_result"
    }
   ],
   "source": [
    "educationWageDf[\"Education\"], type(educationWageDf[\"Education\"])"
   ]
  },
  {
   "cell_type": "code",
   "execution_count": 36,
   "metadata": {
    "colab": {
     "base_uri": "https://localhost:8080/"
    },
    "id": "Flw3PPJKC0eI",
    "outputId": "c7fd107a-295e-4e74-ac0d-fab8794f9da5"
   },
   "outputs": [
    {
     "data": {
      "text/plain": [
       "(   Education\n",
       " 0         20\n",
       " 1         18\n",
       " 2         12\n",
       " 3         16\n",
       " 4         10\n",
       " 5         23\n",
       " 6          2\n",
       " 7          5,\n",
       " pandas.core.frame.DataFrame)"
      ]
     },
     "execution_count": 36,
     "metadata": {},
     "output_type": "execute_result"
    }
   ],
   "source": [
    "educationWageDf[[\"Education\"]], type(educationWageDf[[\"Education\"]])"
   ]
  },
  {
   "cell_type": "code",
   "execution_count": 37,
   "metadata": {
    "id": "ox_p7rYYB8nA"
   },
   "outputs": [],
   "source": [
    "educationWageLiniarRgressionModel2Fit = educationWageLiniarRgressionModel2.fit(\n",
    "    educationWageDf[[\"Education\"]],\n",
    "    educationWageDf[\"Wage\"]\n",
    ")"
   ]
  },
  {
   "cell_type": "code",
   "execution_count": 38,
   "metadata": {
    "colab": {
     "base_uri": "https://localhost:8080/"
    },
    "id": "RxNZRBlhKpu5",
    "outputId": "97fd2df3-121e-487d-89bd-eca5dccc3d5e"
   },
   "outputs": [
    {
     "name": "stdout",
     "output_type": "stream",
     "text": [
      "Intercept: 16.135761589403984\n",
      "Coefficient: 6.046357615894038\n"
     ]
    }
   ],
   "source": [
    "# Print the intercept and coefficient\n",
    "print(\"Intercept:\", educationWageLiniarRgressionModel2Fit.intercept_)\n",
    "print(\"Coefficient:\", educationWageLiniarRgressionModel2Fit.coef_[0])"
   ]
  },
  {
   "cell_type": "code",
   "execution_count": 39,
   "metadata": {
    "colab": {
     "base_uri": "https://localhost:8080/"
    },
    "id": "xtqZ6ZRaQBgK",
    "outputId": "7d2b6a50-998f-48e6-f711-4a245490e924"
   },
   "outputs": [
    {
     "name": "stderr",
     "output_type": "stream",
     "text": [
      "/Users/jasonjafari/gitHub/ml_models_deployments/venv/lib/python3.12/site-packages/sklearn/base.py:493: UserWarning: X does not have valid feature names, but LinearRegression was fitted with feature names\n",
      "  warnings.warn(\n"
     ]
    },
    {
     "data": {
      "text/plain": [
       "array([ 46.36754967, 106.83112583])"
      ]
     },
     "execution_count": 39,
     "metadata": {},
     "output_type": "execute_result"
    }
   ],
   "source": [
    "predictions1 = educationWageLiniarRgressionModel2Fit.predict(np.array([[5], [15]]))\n",
    "predictions1"
   ]
  },
  {
   "cell_type": "code",
   "execution_count": null,
   "metadata": {
    "id": "e2cyeBEUhzx6"
   },
   "outputs": [],
   "source": []
  },
  {
   "cell_type": "code",
   "execution_count": null,
   "metadata": {
    "id": "BVJslxRTiCxx"
   },
   "outputs": [],
   "source": []
  },
  {
   "cell_type": "code",
   "execution_count": 40,
   "metadata": {
    "colab": {
     "base_uri": "https://localhost:8080/"
    },
    "id": "ssUOw-bWQTMP",
    "outputId": "a7f58e83-9a5f-4b68-cca9-95ab76e917ec"
   },
   "outputs": [
    {
     "data": {
      "text/plain": [
       "46.367549668874176"
      ]
     },
     "execution_count": 40,
     "metadata": {},
     "output_type": "execute_result"
    }
   ],
   "source": [
    "predicWage(educationWageLiniarRgressionModel2Fit.intercept_, educationWageLiniarRgressionModel2Fit.coef_[0], 5)"
   ]
  },
  {
   "cell_type": "code",
   "execution_count": 41,
   "metadata": {
    "colab": {
     "base_uri": "https://localhost:8080/"
    },
    "id": "8cM6wdOdQYGK",
    "outputId": "cfbd9022-bc83-4292-eac3-d24493fc1aa7"
   },
   "outputs": [
    {
     "data": {
      "text/plain": [
       "106.83112582781456"
      ]
     },
     "execution_count": 41,
     "metadata": {},
     "output_type": "execute_result"
    }
   ],
   "source": [
    "predicWage(educationWageLiniarRgressionModel2Fit.intercept_, educationWageLiniarRgressionModel2Fit.coef_[0], 15)"
   ]
  },
  {
   "cell_type": "code",
   "execution_count": 42,
   "metadata": {
    "colab": {
     "base_uri": "https://localhost:8080/",
     "height": 300
    },
    "id": "uurMTqQpDi_A",
    "outputId": "cd798e3d-1556-438f-d1ad-3b8d7acbd09f"
   },
   "outputs": [
    {
     "data": {
      "text/html": [
       "<div>\n",
       "<style scoped>\n",
       "    .dataframe tbody tr th:only-of-type {\n",
       "        vertical-align: middle;\n",
       "    }\n",
       "\n",
       "    .dataframe tbody tr th {\n",
       "        vertical-align: top;\n",
       "    }\n",
       "\n",
       "    .dataframe thead th {\n",
       "        text-align: right;\n",
       "    }\n",
       "</style>\n",
       "<table border=\"1\" class=\"dataframe\">\n",
       "  <thead>\n",
       "    <tr style=\"text-align: right;\">\n",
       "      <th></th>\n",
       "      <th>Education</th>\n",
       "      <th>Wage</th>\n",
       "      <th>predictedWage</th>\n",
       "      <th>predictedWage2</th>\n",
       "    </tr>\n",
       "  </thead>\n",
       "  <tbody>\n",
       "    <tr>\n",
       "      <th>0</th>\n",
       "      <td>20</td>\n",
       "      <td>160</td>\n",
       "      <td>137.062914</td>\n",
       "      <td>137.062914</td>\n",
       "    </tr>\n",
       "    <tr>\n",
       "      <th>1</th>\n",
       "      <td>18</td>\n",
       "      <td>120</td>\n",
       "      <td>124.970199</td>\n",
       "      <td>124.970199</td>\n",
       "    </tr>\n",
       "    <tr>\n",
       "      <th>2</th>\n",
       "      <td>12</td>\n",
       "      <td>70</td>\n",
       "      <td>88.692053</td>\n",
       "      <td>88.692053</td>\n",
       "    </tr>\n",
       "    <tr>\n",
       "      <th>3</th>\n",
       "      <td>16</td>\n",
       "      <td>100</td>\n",
       "      <td>112.877483</td>\n",
       "      <td>112.877483</td>\n",
       "    </tr>\n",
       "    <tr>\n",
       "      <th>4</th>\n",
       "      <td>10</td>\n",
       "      <td>65</td>\n",
       "      <td>76.599338</td>\n",
       "      <td>76.599338</td>\n",
       "    </tr>\n",
       "    <tr>\n",
       "      <th>5</th>\n",
       "      <td>23</td>\n",
       "      <td>160</td>\n",
       "      <td>155.201987</td>\n",
       "      <td>155.201987</td>\n",
       "    </tr>\n",
       "    <tr>\n",
       "      <th>6</th>\n",
       "      <td>2</td>\n",
       "      <td>40</td>\n",
       "      <td>28.228477</td>\n",
       "      <td>28.228477</td>\n",
       "    </tr>\n",
       "    <tr>\n",
       "      <th>7</th>\n",
       "      <td>5</td>\n",
       "      <td>55</td>\n",
       "      <td>46.367550</td>\n",
       "      <td>46.367550</td>\n",
       "    </tr>\n",
       "  </tbody>\n",
       "</table>\n",
       "</div>"
      ],
      "text/plain": [
       "   Education  Wage  predictedWage  predictedWage2\n",
       "0         20   160     137.062914      137.062914\n",
       "1         18   120     124.970199      124.970199\n",
       "2         12    70      88.692053       88.692053\n",
       "3         16   100     112.877483      112.877483\n",
       "4         10    65      76.599338       76.599338\n",
       "5         23   160     155.201987      155.201987\n",
       "6          2    40      28.228477       28.228477\n",
       "7          5    55      46.367550       46.367550"
      ]
     },
     "execution_count": 42,
     "metadata": {},
     "output_type": "execute_result"
    }
   ],
   "source": [
    "predictedWage2 = educationWageLiniarRgressionModel2Fit.predict(educationWageDf[[\"Education\"]])\n",
    "educationWageDf['predictedWage2'] = predictedWage2\n",
    "educationWageDf"
   ]
  },
  {
   "cell_type": "code",
   "execution_count": 43,
   "metadata": {
    "colab": {
     "base_uri": "https://localhost:8080/",
     "height": 718
    },
    "id": "30mmVCEuD4sx",
    "outputId": "61e0c28a-6809-4a89-c670-ed767aaa7e60"
   },
   "outputs": [
    {
     "data": {
      "image/png": "[encoded data removed]",
      "text/plain": [
       "<Figure size 800x800 with 1 Axes>"
      ]
     },
     "metadata": {},
     "output_type": "display_data"
    }
   ],
   "source": [
    "# Plotting\n",
    "plt.figure(\n",
    "  figsize=(8, 8)\n",
    ")\n",
    "\n",
    "plt.scatter(\n",
    "  educationWageDf[\"Education\"],\n",
    "  educationWageDf[\"Wage\"],\n",
    "  color='blue',\n",
    "  alpha=0.9,\n",
    "  label='Data Points - scatter',\n",
    ")\n",
    "\n",
    "plt.plot(\n",
    "  educationWageDf[\"Education\"],\n",
    "  educationWageDf[\"predictedWage\"],\n",
    "  color='red',\n",
    "  label='OLS Regression - predictedWage'\n",
    ")\n",
    "plt.plot(\n",
    "  educationWageDf[\"Education\"],\n",
    "  educationWageDf[\"predictedWage2\"],\n",
    "  color='black',\n",
    "  label='sklearn  Regression - predictedWage'\n",
    ")\n",
    "plt.title('Education Level vs. Wage with OLS Regression')\n",
    "plt.xlabel('Education Level(yr)')\n",
    "plt.ylabel('Wage K')\n",
    "plt.legend()\n",
    "plt.grid(True)\n",
    "\n",
    "plt.gca().set_xlim([0, 25])\n",
    "plt.gca().set_ylim([0, 180])\n",
    "\n",
    "\n",
    "equation = f'Wage = {educationWageLiniarRgressionModel2Fit.coef_[0]:.2f} * Education + {educationWageLiniarRgressionModel2Fit.intercept_:.2f}'\n",
    "\n",
    "\n",
    "plt.text(\n",
    "    10, 120,\n",
    "    equation,\n",
    "    horizontalalignment='center',\n",
    "    verticalalignment='center',\n",
    "    fontsize=12,\n",
    "    color=\"green\",\n",
    "    bbox=dict(facecolor='white', alpha=0.5)\n",
    ")\n",
    "\n",
    "\n",
    "\n",
    "plt.show()"
   ]
  },
  {
   "cell_type": "markdown",
   "metadata": {
    "id": "lNvoCcWRL1tW"
   },
   "source": [
    "# Real dataset"
   ]
  },
  {
   "cell_type": "code",
   "execution_count": 44,
   "metadata": {
    "id": "KHPW5DNvMUdz"
   },
   "outputs": [],
   "source": [
    "import pandas as pd"
   ]
  },
  {
   "cell_type": "markdown",
   "metadata": {
    "id": "gIC1S6uQQi_t"
   },
   "source": [
    "Download it from [here](https://www.dropbox.com/scl/fi/1sc8ojfezlbrcaje42w0n/College.xlsx?rlkey=i3starhohiwkua8ekbjk3nb92&st=yd75jyvp&dl=0)"
   ]
  },
  {
   "cell_type": "code",
   "execution_count": 45,
   "metadata": {
    "id": "Ksf536HkMQu5"
   },
   "outputs": [],
   "source": [
    "# collegeDf = pd.read_excel(\"./College.xlsx\")\n",
    "collegeDf = pd.read_excel(\"https://www.dropbox.com/scl/fi/sqdbxs8c9r55s2qleal8t/College.xlsx?rlkey=c751oujzls8oxzwd0l89pcv5k&dl=1\")"
   ]
  },
  {
   "cell_type": "code",
   "execution_count": 46,
   "metadata": {
    "colab": {
     "base_uri": "https://localhost:8080/",
     "height": 206
    },
    "id": "Rjwma_7DNFzP",
    "outputId": "ca99f39a-2b5b-44ac-e6dd-54fd610608f2"
   },
   "outputs": [
    {
     "data": {
      "text/html": [
       "<div>\n",
       "<style scoped>\n",
       "    .dataframe tbody tr th:only-of-type {\n",
       "        vertical-align: middle;\n",
       "    }\n",
       "\n",
       "    .dataframe tbody tr th {\n",
       "        vertical-align: top;\n",
       "    }\n",
       "\n",
       "    .dataframe thead th {\n",
       "        text-align: right;\n",
       "    }\n",
       "</style>\n",
       "<table border=\"1\" class=\"dataframe\">\n",
       "  <thead>\n",
       "    <tr style=\"text-align: right;\">\n",
       "      <th></th>\n",
       "      <th>School</th>\n",
       "      <th>Earnings</th>\n",
       "      <th>Cost</th>\n",
       "      <th>Grad</th>\n",
       "      <th>Debt</th>\n",
       "      <th>City</th>\n",
       "    </tr>\n",
       "  </thead>\n",
       "  <tbody>\n",
       "    <tr>\n",
       "      <th>0</th>\n",
       "      <td>St. Ambrose C (NC)</td>\n",
       "      <td>44800</td>\n",
       "      <td>22920</td>\n",
       "      <td>62</td>\n",
       "      <td>88</td>\n",
       "      <td>1</td>\n",
       "    </tr>\n",
       "    <tr>\n",
       "      <th>1</th>\n",
       "      <td>Albion College (Albion, MI)</td>\n",
       "      <td>45100</td>\n",
       "      <td>23429</td>\n",
       "      <td>73</td>\n",
       "      <td>92</td>\n",
       "      <td>0</td>\n",
       "    </tr>\n",
       "    <tr>\n",
       "      <th>2</th>\n",
       "      <td>Alfred University (Alfred, NY)</td>\n",
       "      <td>42300</td>\n",
       "      <td>19567</td>\n",
       "      <td>63</td>\n",
       "      <td>87</td>\n",
       "      <td>0</td>\n",
       "    </tr>\n",
       "    <tr>\n",
       "      <th>3</th>\n",
       "      <td>Allegheny College (Meadville, PA)</td>\n",
       "      <td>49200</td>\n",
       "      <td>25147</td>\n",
       "      <td>78</td>\n",
       "      <td>92</td>\n",
       "      <td>0</td>\n",
       "    </tr>\n",
       "    <tr>\n",
       "      <th>4</th>\n",
       "      <td>Beloit College (Beloit, WI)</td>\n",
       "      <td>37900</td>\n",
       "      <td>21979</td>\n",
       "      <td>78</td>\n",
       "      <td>93</td>\n",
       "      <td>1</td>\n",
       "    </tr>\n",
       "  </tbody>\n",
       "</table>\n",
       "</div>"
      ],
      "text/plain": [
       "                              School  Earnings   Cost  Grad  Debt  City\n",
       "0                 St. Ambrose C (NC)     44800  22920    62    88     1\n",
       "1        Albion College (Albion, MI)     45100  23429    73    92     0\n",
       "2     Alfred University (Alfred, NY)     42300  19567    63    87     0\n",
       "3  Allegheny College (Meadville, PA)     49200  25147    78    92     0\n",
       "4        Beloit College (Beloit, WI)     37900  21979    78    93     1"
      ]
     },
     "execution_count": 46,
     "metadata": {},
     "output_type": "execute_result"
    }
   ],
   "source": [
    "collegeDf.head()"
   ]
  },
  {
   "cell_type": "code",
   "execution_count": 47,
   "metadata": {
    "colab": {
     "base_uri": "https://localhost:8080/",
     "height": 206
    },
    "id": "E9I8JZkuqHYJ",
    "outputId": "83499364-5b7d-4615-edba-1fb31b20a078"
   },
   "outputs": [
    {
     "data": {
      "text/html": [
       "<div>\n",
       "<style scoped>\n",
       "    .dataframe tbody tr th:only-of-type {\n",
       "        vertical-align: middle;\n",
       "    }\n",
       "\n",
       "    .dataframe tbody tr th {\n",
       "        vertical-align: top;\n",
       "    }\n",
       "\n",
       "    .dataframe thead th {\n",
       "        text-align: right;\n",
       "    }\n",
       "</style>\n",
       "<table border=\"1\" class=\"dataframe\">\n",
       "  <thead>\n",
       "    <tr style=\"text-align: right;\">\n",
       "      <th></th>\n",
       "      <th>School</th>\n",
       "      <th>Earnings</th>\n",
       "      <th>Cost</th>\n",
       "      <th>Grad</th>\n",
       "      <th>Debt</th>\n",
       "      <th>City</th>\n",
       "    </tr>\n",
       "  </thead>\n",
       "  <tbody>\n",
       "    <tr>\n",
       "      <th>111</th>\n",
       "      <td>Whittier College (Whittier, CA)</td>\n",
       "      <td>45100</td>\n",
       "      <td>33181</td>\n",
       "      <td>67</td>\n",
       "      <td>86</td>\n",
       "      <td>0</td>\n",
       "    </tr>\n",
       "    <tr>\n",
       "      <th>112</th>\n",
       "      <td>Widener University (Chester, PA)</td>\n",
       "      <td>51700</td>\n",
       "      <td>27387</td>\n",
       "      <td>56</td>\n",
       "      <td>83</td>\n",
       "      <td>0</td>\n",
       "    </tr>\n",
       "    <tr>\n",
       "      <th>113</th>\n",
       "      <td>Willamette University (Salem, OR)</td>\n",
       "      <td>49200</td>\n",
       "      <td>30312</td>\n",
       "      <td>78</td>\n",
       "      <td>93</td>\n",
       "      <td>1</td>\n",
       "    </tr>\n",
       "    <tr>\n",
       "      <th>114</th>\n",
       "      <td>Winthrop University (Rock Hill, SC)</td>\n",
       "      <td>36100</td>\n",
       "      <td>15311</td>\n",
       "      <td>54</td>\n",
       "      <td>76</td>\n",
       "      <td>1</td>\n",
       "    </tr>\n",
       "    <tr>\n",
       "      <th>115</th>\n",
       "      <td>Wittenberg University (Springfield, OH)</td>\n",
       "      <td>42700</td>\n",
       "      <td>26616</td>\n",
       "      <td>64</td>\n",
       "      <td>90</td>\n",
       "      <td>1</td>\n",
       "    </tr>\n",
       "  </tbody>\n",
       "</table>\n",
       "</div>"
      ],
      "text/plain": [
       "                                      School  Earnings   Cost  Grad  Debt  \\\n",
       "111          Whittier College (Whittier, CA)     45100  33181    67    86   \n",
       "112         Widener University (Chester, PA)     51700  27387    56    83   \n",
       "113        Willamette University (Salem, OR)     49200  30312    78    93   \n",
       "114      Winthrop University (Rock Hill, SC)     36100  15311    54    76   \n",
       "115  Wittenberg University (Springfield, OH)     42700  26616    64    90   \n",
       "\n",
       "     City  \n",
       "111     0  \n",
       "112     0  \n",
       "113     1  \n",
       "114     1  \n",
       "115     1  "
      ]
     },
     "execution_count": 47,
     "metadata": {},
     "output_type": "execute_result"
    }
   ],
   "source": [
    "collegeDf.tail()"
   ]
  },
  {
   "cell_type": "code",
   "execution_count": 48,
   "metadata": {
    "colab": {
     "base_uri": "https://localhost:8080/"
    },
    "id": "RVAeXlkzNSWi",
    "outputId": "68e3246c-2621-492a-f989-6c8fe1de217d"
   },
   "outputs": [
    {
     "data": {
      "text/plain": [
       "(116, 6)"
      ]
     },
     "execution_count": 48,
     "metadata": {},
     "output_type": "execute_result"
    }
   ],
   "source": [
    "collegeDf.shape"
   ]
  },
  {
   "cell_type": "code",
   "execution_count": 49,
   "metadata": {
    "colab": {
     "base_uri": "https://localhost:8080/"
    },
    "id": "l-IUyXkCNXTx",
    "outputId": "7e9963da-781e-4580-a2c5-3699e3b3d136"
   },
   "outputs": [
    {
     "data": {
      "text/plain": [
       "696"
      ]
     },
     "execution_count": 49,
     "metadata": {},
     "output_type": "execute_result"
    }
   ],
   "source": [
    "collegeDf.size"
   ]
  },
  {
   "cell_type": "code",
   "execution_count": 50,
   "metadata": {
    "colab": {
     "base_uri": "https://localhost:8080/",
     "height": 300
    },
    "id": "8qveUcTkNav_",
    "outputId": "c0972bb4-1577-43d6-b871-bf1d11436829"
   },
   "outputs": [
    {
     "data": {
      "text/html": [
       "<div>\n",
       "<style scoped>\n",
       "    .dataframe tbody tr th:only-of-type {\n",
       "        vertical-align: middle;\n",
       "    }\n",
       "\n",
       "    .dataframe tbody tr th {\n",
       "        vertical-align: top;\n",
       "    }\n",
       "\n",
       "    .dataframe thead th {\n",
       "        text-align: right;\n",
       "    }\n",
       "</style>\n",
       "<table border=\"1\" class=\"dataframe\">\n",
       "  <thead>\n",
       "    <tr style=\"text-align: right;\">\n",
       "      <th></th>\n",
       "      <th>Earnings</th>\n",
       "      <th>Cost</th>\n",
       "      <th>Grad</th>\n",
       "      <th>Debt</th>\n",
       "      <th>City</th>\n",
       "    </tr>\n",
       "  </thead>\n",
       "  <tbody>\n",
       "    <tr>\n",
       "      <th>count</th>\n",
       "      <td>116.000000</td>\n",
       "      <td>116.000000</td>\n",
       "      <td>116.000000</td>\n",
       "      <td>116.000000</td>\n",
       "      <td>116.000000</td>\n",
       "    </tr>\n",
       "    <tr>\n",
       "      <th>mean</th>\n",
       "      <td>46477.586207</td>\n",
       "      <td>25251.689655</td>\n",
       "      <td>65.681034</td>\n",
       "      <td>88.405172</td>\n",
       "      <td>0.508621</td>\n",
       "    </tr>\n",
       "    <tr>\n",
       "      <th>std</th>\n",
       "      <td>7341.876152</td>\n",
       "      <td>5387.152858</td>\n",
       "      <td>11.764796</td>\n",
       "      <td>6.838482</td>\n",
       "      <td>0.502095</td>\n",
       "    </tr>\n",
       "    <tr>\n",
       "      <th>min</th>\n",
       "      <td>32300.000000</td>\n",
       "      <td>9938.000000</td>\n",
       "      <td>32.000000</td>\n",
       "      <td>52.000000</td>\n",
       "      <td>0.000000</td>\n",
       "    </tr>\n",
       "    <tr>\n",
       "      <th>25%</th>\n",
       "      <td>42300.000000</td>\n",
       "      <td>21674.250000</td>\n",
       "      <td>59.000000</td>\n",
       "      <td>86.000000</td>\n",
       "      <td>0.000000</td>\n",
       "    </tr>\n",
       "    <tr>\n",
       "      <th>50%</th>\n",
       "      <td>45150.000000</td>\n",
       "      <td>24957.500000</td>\n",
       "      <td>67.000000</td>\n",
       "      <td>90.000000</td>\n",
       "      <td>1.000000</td>\n",
       "    </tr>\n",
       "    <tr>\n",
       "      <th>75%</th>\n",
       "      <td>51000.000000</td>\n",
       "      <td>29489.750000</td>\n",
       "      <td>75.000000</td>\n",
       "      <td>93.000000</td>\n",
       "      <td>1.000000</td>\n",
       "    </tr>\n",
       "    <tr>\n",
       "      <th>max</th>\n",
       "      <td>74900.000000</td>\n",
       "      <td>35159.000000</td>\n",
       "      <td>86.000000</td>\n",
       "      <td>98.000000</td>\n",
       "      <td>1.000000</td>\n",
       "    </tr>\n",
       "  </tbody>\n",
       "</table>\n",
       "</div>"
      ],
      "text/plain": [
       "           Earnings          Cost        Grad        Debt        City\n",
       "count    116.000000    116.000000  116.000000  116.000000  116.000000\n",
       "mean   46477.586207  25251.689655   65.681034   88.405172    0.508621\n",
       "std     7341.876152   5387.152858   11.764796    6.838482    0.502095\n",
       "min    32300.000000   9938.000000   32.000000   52.000000    0.000000\n",
       "25%    42300.000000  21674.250000   59.000000   86.000000    0.000000\n",
       "50%    45150.000000  24957.500000   67.000000   90.000000    1.000000\n",
       "75%    51000.000000  29489.750000   75.000000   93.000000    1.000000\n",
       "max    74900.000000  35159.000000   86.000000   98.000000    1.000000"
      ]
     },
     "execution_count": 50,
     "metadata": {},
     "output_type": "execute_result"
    }
   ],
   "source": [
    "collegeDf.describe()"
   ]
  },
  {
   "cell_type": "code",
   "execution_count": 51,
   "metadata": {
    "colab": {
     "base_uri": "https://localhost:8080/",
     "height": 696
    },
    "id": "HPJ285H3Jx7p",
    "outputId": "e11e0599-a20f-4a65-e83c-a7182c072d08"
   },
   "outputs": [
    {
     "data": {
      "image/png": "[encoded data removed]",
      "text/plain": [
       "<Figure size 800x800 with 1 Axes>"
      ]
     },
     "metadata": {},
     "output_type": "display_data"
    }
   ],
   "source": [
    "# Plotting\n",
    "plt.figure(\n",
    "  figsize=(8, 8)\n",
    ")\n",
    "\n",
    "plt.scatter(\n",
    "  collegeDf[\"Cost\"],\n",
    "  collegeDf[\"Earnings\"],\n",
    "  color='blue',\n",
    "  alpha=0.9,\n",
    "  label='Data Points - scatter',\n",
    ")\n",
    "\n",
    "plt.xlabel('Cost')\n",
    "plt.ylabel('Earnings')\n",
    "plt.legend()\n",
    "plt.grid(True)\n",
    "\n",
    "\n",
    "\n",
    "plt.show()"
   ]
  },
  {
   "cell_type": "code",
   "execution_count": 52,
   "metadata": {
    "colab": {
     "base_uri": "https://localhost:8080/"
    },
    "id": "Puh0-DhgKp9i",
    "outputId": "97c984fb-f216-4db1-8a61-e0a266ed5981"
   },
   "outputs": [
    {
     "data": {
      "text/plain": [
       "(     const   Cost\n",
       " 0      1.0  22920\n",
       " 1      1.0  23429\n",
       " 2      1.0  19567\n",
       " 3      1.0  25147\n",
       " 4      1.0  21979\n",
       " ..     ...    ...\n",
       " 111    1.0  33181\n",
       " 112    1.0  27387\n",
       " 113    1.0  30312\n",
       " 114    1.0  15311\n",
       " 115    1.0  26616\n",
       " \n",
       " [116 rows x 2 columns],\n",
       " pandas.core.frame.DataFrame)"
      ]
     },
     "execution_count": 52,
     "metadata": {},
     "output_type": "execute_result"
    }
   ],
   "source": [
    "sm.add_constant(collegeDf['Cost']), type(sm.add_constant(collegeDf['Cost']))"
   ]
  },
  {
   "cell_type": "code",
   "execution_count": 53,
   "metadata": {
    "id": "54YBn53VNxQk"
   },
   "outputs": [],
   "source": [
    "earningOthersOlsModelFit1 = sm.OLS(\n",
    "  collegeDf[\"Earnings\"],\n",
    "  sm.add_constant(collegeDf['Cost'])\n",
    ").fit()"
   ]
  },
  {
   "cell_type": "code",
   "execution_count": 54,
   "metadata": {
    "colab": {
     "base_uri": "https://localhost:8080/"
    },
    "id": "KbZxiP7zNyoY",
    "outputId": "291d7bcc-2c3e-4ca6-8ab7-76b4af854f1a"
   },
   "outputs": [
    {
     "name": "stdout",
     "output_type": "stream",
     "text": [
      "                            OLS Regression Results                            \n",
      "==============================================================================\n",
      "Dep. Variable:               Earnings   R-squared:                       0.277\n",
      "Model:                            OLS   Adj. R-squared:                  0.270\n",
      "Method:                 Least Squares   F-statistic:                     43.61\n",
      "Date:                Sun, 09 Jun 2024   Prob (F-statistic):           1.33e-09\n",
      "Time:                        01:23:12   Log-Likelihood:                -1177.9\n",
      "No. Observations:                 116   AIC:                             2360.\n",
      "Df Residuals:                     114   BIC:                             2365.\n",
      "Df Model:                           1                                         \n",
      "Covariance Type:            nonrobust                                         \n",
      "==============================================================================\n",
      "                 coef    std err          t      P>|t|      [0.025      0.975]\n",
      "------------------------------------------------------------------------------\n",
      "const       2.838e+04   2802.417     10.125      0.000    2.28e+04    3.39e+04\n",
      "Cost           0.7169      0.109      6.604      0.000       0.502       0.932\n",
      "==============================================================================\n",
      "Omnibus:                       11.840   Durbin-Watson:                   1.841\n",
      "Prob(Omnibus):                  0.003   Jarque-Bera (JB):               19.875\n",
      "Skew:                           0.437   Prob(JB):                     4.83e-05\n",
      "Kurtosis:                       4.830   Cond. No.                     1.24e+05\n",
      "==============================================================================\n",
      "\n",
      "Notes:\n",
      "[1] Standard Errors assume that the covariance matrix of the errors is correctly specified.\n",
      "[2] The condition number is large, 1.24e+05. This might indicate that there are\n",
      "strong multicollinearity or other numerical problems.\n"
     ]
    }
   ],
   "source": [
    "print(earningOthersOlsModelFit1.summary())"
   ]
  },
  {
   "cell_type": "code",
   "execution_count": 55,
   "metadata": {},
   "outputs": [
    {
     "data": {
      "text/plain": [
       "<statsmodels.regression.linear_model.RegressionResultsWrapper at 0x355613890>"
      ]
     },
     "execution_count": 55,
     "metadata": {},
     "output_type": "execute_result"
    }
   ],
   "source": [
    "from functions.exportModel import exportModel\n",
    "exportModel({\n",
    "    \"modelName\": \"earningOthersOlsModelFit1\",\n",
    "    \"model\": earningOthersOlsModelFit1,\n",
    "    \"description\": \"predict Earnings based on Cost\",\n",
    "    \"modelType\": \"sm.OLS\",\n",
    "    \"baseRelativePath\": \"..\",\n",
    "    \"inputs\": [\n",
    "        {\n",
    "            \"name\": \"const\",\n",
    "            \"type\": \"int\"\n",
    "        },\n",
    "        {\n",
    "            \"name\": \"Cost\",\n",
    "            \"type\": \"float\"\n",
    "        }\n",
    "    ],\n",
    "    \"output\": {\n",
    "        \"name\": \"Earnings\",\n",
    "        \"type\": \"float\"\n",
    "    }\n",
    "})"
   ]
  },
  {
   "cell_type": "code",
   "execution_count": 56,
   "metadata": {
    "colab": {
     "base_uri": "https://localhost:8080/",
     "height": 424
    },
    "id": "Efg5OIl6KwDz",
    "outputId": "880870cb-c2d4-4ff1-ad77-5103fd8a1083"
   },
   "outputs": [
    {
     "data": {
      "text/html": [
       "<div>\n",
       "<style scoped>\n",
       "    .dataframe tbody tr th:only-of-type {\n",
       "        vertical-align: middle;\n",
       "    }\n",
       "\n",
       "    .dataframe tbody tr th {\n",
       "        vertical-align: top;\n",
       "    }\n",
       "\n",
       "    .dataframe thead th {\n",
       "        text-align: right;\n",
       "    }\n",
       "</style>\n",
       "<table border=\"1\" class=\"dataframe\">\n",
       "  <thead>\n",
       "    <tr style=\"text-align: right;\">\n",
       "      <th></th>\n",
       "      <th>School</th>\n",
       "      <th>Earnings</th>\n",
       "      <th>Cost</th>\n",
       "      <th>Grad</th>\n",
       "      <th>Debt</th>\n",
       "      <th>City</th>\n",
       "      <th>predictedEarning1</th>\n",
       "    </tr>\n",
       "  </thead>\n",
       "  <tbody>\n",
       "    <tr>\n",
       "      <th>0</th>\n",
       "      <td>St. Ambrose C (NC)</td>\n",
       "      <td>44800</td>\n",
       "      <td>22920</td>\n",
       "      <td>62</td>\n",
       "      <td>88</td>\n",
       "      <td>1</td>\n",
       "      <td>44806.067625</td>\n",
       "    </tr>\n",
       "    <tr>\n",
       "      <th>1</th>\n",
       "      <td>Albion College (Albion, MI)</td>\n",
       "      <td>45100</td>\n",
       "      <td>23429</td>\n",
       "      <td>73</td>\n",
       "      <td>92</td>\n",
       "      <td>0</td>\n",
       "      <td>45170.954503</td>\n",
       "    </tr>\n",
       "    <tr>\n",
       "      <th>2</th>\n",
       "      <td>Alfred University (Alfred, NY)</td>\n",
       "      <td>42300</td>\n",
       "      <td>19567</td>\n",
       "      <td>63</td>\n",
       "      <td>87</td>\n",
       "      <td>0</td>\n",
       "      <td>42402.402200</td>\n",
       "    </tr>\n",
       "    <tr>\n",
       "      <th>3</th>\n",
       "      <td>Allegheny College (Meadville, PA)</td>\n",
       "      <td>49200</td>\n",
       "      <td>25147</td>\n",
       "      <td>78</td>\n",
       "      <td>92</td>\n",
       "      <td>0</td>\n",
       "      <td>46402.537324</td>\n",
       "    </tr>\n",
       "    <tr>\n",
       "      <th>4</th>\n",
       "      <td>Beloit College (Beloit, WI)</td>\n",
       "      <td>37900</td>\n",
       "      <td>21979</td>\n",
       "      <td>78</td>\n",
       "      <td>93</td>\n",
       "      <td>1</td>\n",
       "      <td>44131.492866</td>\n",
       "    </tr>\n",
       "    <tr>\n",
       "      <th>...</th>\n",
       "      <td>...</td>\n",
       "      <td>...</td>\n",
       "      <td>...</td>\n",
       "      <td>...</td>\n",
       "      <td>...</td>\n",
       "      <td>...</td>\n",
       "      <td>...</td>\n",
       "    </tr>\n",
       "    <tr>\n",
       "      <th>111</th>\n",
       "      <td>Whittier College (Whittier, CA)</td>\n",
       "      <td>45100</td>\n",
       "      <td>33181</td>\n",
       "      <td>67</td>\n",
       "      <td>86</td>\n",
       "      <td>0</td>\n",
       "      <td>52161.871659</td>\n",
       "    </tr>\n",
       "    <tr>\n",
       "      <th>112</th>\n",
       "      <td>Widener University (Chester, PA)</td>\n",
       "      <td>51700</td>\n",
       "      <td>27387</td>\n",
       "      <td>56</td>\n",
       "      <td>83</td>\n",
       "      <td>0</td>\n",
       "      <td>48008.326334</td>\n",
       "    </tr>\n",
       "    <tr>\n",
       "      <th>113</th>\n",
       "      <td>Willamette University (Salem, OR)</td>\n",
       "      <td>49200</td>\n",
       "      <td>30312</td>\n",
       "      <td>78</td>\n",
       "      <td>93</td>\n",
       "      <td>1</td>\n",
       "      <td>50105.171359</td>\n",
       "    </tr>\n",
       "    <tr>\n",
       "      <th>114</th>\n",
       "      <td>Winthrop University (Rock Hill, SC)</td>\n",
       "      <td>36100</td>\n",
       "      <td>15311</td>\n",
       "      <td>54</td>\n",
       "      <td>76</td>\n",
       "      <td>1</td>\n",
       "      <td>39351.403080</td>\n",
       "    </tr>\n",
       "    <tr>\n",
       "      <th>115</th>\n",
       "      <td>Wittenberg University (Springfield, OH)</td>\n",
       "      <td>42700</td>\n",
       "      <td>26616</td>\n",
       "      <td>64</td>\n",
       "      <td>90</td>\n",
       "      <td>1</td>\n",
       "      <td>47455.619492</td>\n",
       "    </tr>\n",
       "  </tbody>\n",
       "</table>\n",
       "<p>116 rows × 7 columns</p>\n",
       "</div>"
      ],
      "text/plain": [
       "                                      School  Earnings   Cost  Grad  Debt  \\\n",
       "0                         St. Ambrose C (NC)     44800  22920    62    88   \n",
       "1                Albion College (Albion, MI)     45100  23429    73    92   \n",
       "2             Alfred University (Alfred, NY)     42300  19567    63    87   \n",
       "3          Allegheny College (Meadville, PA)     49200  25147    78    92   \n",
       "4                Beloit College (Beloit, WI)     37900  21979    78    93   \n",
       "..                                       ...       ...    ...   ...   ...   \n",
       "111          Whittier College (Whittier, CA)     45100  33181    67    86   \n",
       "112         Widener University (Chester, PA)     51700  27387    56    83   \n",
       "113        Willamette University (Salem, OR)     49200  30312    78    93   \n",
       "114      Winthrop University (Rock Hill, SC)     36100  15311    54    76   \n",
       "115  Wittenberg University (Springfield, OH)     42700  26616    64    90   \n",
       "\n",
       "     City  predictedEarning1  \n",
       "0       1       44806.067625  \n",
       "1       0       45170.954503  \n",
       "2       0       42402.402200  \n",
       "3       0       46402.537324  \n",
       "4       1       44131.492866  \n",
       "..    ...                ...  \n",
       "111     0       52161.871659  \n",
       "112     0       48008.326334  \n",
       "113     1       50105.171359  \n",
       "114     1       39351.403080  \n",
       "115     1       47455.619492  \n",
       "\n",
       "[116 rows x 7 columns]"
      ]
     },
     "execution_count": 56,
     "metadata": {},
     "output_type": "execute_result"
    }
   ],
   "source": [
    "predictedEarning1 = earningOthersOlsModelFit1.predict(sm.add_constant(collegeDf[\"Cost\"]))\n",
    "collegeDf['predictedEarning1'] = predictedEarning1\n",
    "collegeDf"
   ]
  },
  {
   "cell_type": "code",
   "execution_count": 57,
   "metadata": {
    "colab": {
     "base_uri": "https://localhost:8080/",
     "height": 676
    },
    "id": "HWPp6ZYeLA3W",
    "outputId": "45e4214b-e148-4726-a4ca-a4fb1b4dfdbe"
   },
   "outputs": [
    {
     "data": {
      "image/png": "[encoded data removed]",
      "text/plain": [
       "<Figure size 800x800 with 1 Axes>"
      ]
     },
     "metadata": {},
     "output_type": "display_data"
    }
   ],
   "source": [
    "plt.figure(\n",
    "  figsize=(8, 8)\n",
    ")\n",
    "\n",
    "plt.scatter(\n",
    "  collegeDf[\"Cost\"],\n",
    "  collegeDf[\"Earnings\"],\n",
    "  color='blue',\n",
    "  alpha=0.9,\n",
    "  label='Data Points - scatter',\n",
    ")\n",
    "\n",
    "\n",
    "plt.plot(\n",
    "  collegeDf[\"Cost\"],\n",
    "  collegeDf[\"predictedEarning1\"],\n",
    "  color='red',\n",
    "  label='OLS 1'\n",
    ")\n",
    "\n",
    "plt.legend()\n",
    "\n",
    "plt.show()"
   ]
  },
  {
   "cell_type": "code",
   "execution_count": 58,
   "metadata": {
    "colab": {
     "base_uri": "https://localhost:8080/",
     "height": 424
    },
    "id": "VO6Yv3bgLyRv",
    "outputId": "601d0a87-b32e-4957-bfdf-7b0749986842"
   },
   "outputs": [
    {
     "data": {
      "text/html": [
       "<div>\n",
       "<style scoped>\n",
       "    .dataframe tbody tr th:only-of-type {\n",
       "        vertical-align: middle;\n",
       "    }\n",
       "\n",
       "    .dataframe tbody tr th {\n",
       "        vertical-align: top;\n",
       "    }\n",
       "\n",
       "    .dataframe thead th {\n",
       "        text-align: right;\n",
       "    }\n",
       "</style>\n",
       "<table border=\"1\" class=\"dataframe\">\n",
       "  <thead>\n",
       "    <tr style=\"text-align: right;\">\n",
       "      <th></th>\n",
       "      <th>School</th>\n",
       "      <th>Earnings</th>\n",
       "      <th>Cost</th>\n",
       "      <th>Grad</th>\n",
       "      <th>Debt</th>\n",
       "      <th>City</th>\n",
       "      <th>predictedEarning1</th>\n",
       "    </tr>\n",
       "  </thead>\n",
       "  <tbody>\n",
       "    <tr>\n",
       "      <th>0</th>\n",
       "      <td>St. Ambrose C (NC)</td>\n",
       "      <td>44800</td>\n",
       "      <td>22920</td>\n",
       "      <td>62</td>\n",
       "      <td>88</td>\n",
       "      <td>1</td>\n",
       "      <td>44806.067625</td>\n",
       "    </tr>\n",
       "    <tr>\n",
       "      <th>1</th>\n",
       "      <td>Albion College (Albion, MI)</td>\n",
       "      <td>45100</td>\n",
       "      <td>23429</td>\n",
       "      <td>73</td>\n",
       "      <td>92</td>\n",
       "      <td>0</td>\n",
       "      <td>45170.954503</td>\n",
       "    </tr>\n",
       "    <tr>\n",
       "      <th>2</th>\n",
       "      <td>Alfred University (Alfred, NY)</td>\n",
       "      <td>42300</td>\n",
       "      <td>19567</td>\n",
       "      <td>63</td>\n",
       "      <td>87</td>\n",
       "      <td>0</td>\n",
       "      <td>42402.402200</td>\n",
       "    </tr>\n",
       "    <tr>\n",
       "      <th>3</th>\n",
       "      <td>Allegheny College (Meadville, PA)</td>\n",
       "      <td>49200</td>\n",
       "      <td>25147</td>\n",
       "      <td>78</td>\n",
       "      <td>92</td>\n",
       "      <td>0</td>\n",
       "      <td>46402.537324</td>\n",
       "    </tr>\n",
       "    <tr>\n",
       "      <th>4</th>\n",
       "      <td>Beloit College (Beloit, WI)</td>\n",
       "      <td>37900</td>\n",
       "      <td>21979</td>\n",
       "      <td>78</td>\n",
       "      <td>93</td>\n",
       "      <td>1</td>\n",
       "      <td>44131.492866</td>\n",
       "    </tr>\n",
       "    <tr>\n",
       "      <th>...</th>\n",
       "      <td>...</td>\n",
       "      <td>...</td>\n",
       "      <td>...</td>\n",
       "      <td>...</td>\n",
       "      <td>...</td>\n",
       "      <td>...</td>\n",
       "      <td>...</td>\n",
       "    </tr>\n",
       "    <tr>\n",
       "      <th>111</th>\n",
       "      <td>Whittier College (Whittier, CA)</td>\n",
       "      <td>45100</td>\n",
       "      <td>33181</td>\n",
       "      <td>67</td>\n",
       "      <td>86</td>\n",
       "      <td>0</td>\n",
       "      <td>52161.871659</td>\n",
       "    </tr>\n",
       "    <tr>\n",
       "      <th>112</th>\n",
       "      <td>Widener University (Chester, PA)</td>\n",
       "      <td>51700</td>\n",
       "      <td>27387</td>\n",
       "      <td>56</td>\n",
       "      <td>83</td>\n",
       "      <td>0</td>\n",
       "      <td>48008.326334</td>\n",
       "    </tr>\n",
       "    <tr>\n",
       "      <th>113</th>\n",
       "      <td>Willamette University (Salem, OR)</td>\n",
       "      <td>49200</td>\n",
       "      <td>30312</td>\n",
       "      <td>78</td>\n",
       "      <td>93</td>\n",
       "      <td>1</td>\n",
       "      <td>50105.171359</td>\n",
       "    </tr>\n",
       "    <tr>\n",
       "      <th>114</th>\n",
       "      <td>Winthrop University (Rock Hill, SC)</td>\n",
       "      <td>36100</td>\n",
       "      <td>15311</td>\n",
       "      <td>54</td>\n",
       "      <td>76</td>\n",
       "      <td>1</td>\n",
       "      <td>39351.403080</td>\n",
       "    </tr>\n",
       "    <tr>\n",
       "      <th>115</th>\n",
       "      <td>Wittenberg University (Springfield, OH)</td>\n",
       "      <td>42700</td>\n",
       "      <td>26616</td>\n",
       "      <td>64</td>\n",
       "      <td>90</td>\n",
       "      <td>1</td>\n",
       "      <td>47455.619492</td>\n",
       "    </tr>\n",
       "  </tbody>\n",
       "</table>\n",
       "<p>116 rows × 7 columns</p>\n",
       "</div>"
      ],
      "text/plain": [
       "                                      School  Earnings   Cost  Grad  Debt  \\\n",
       "0                         St. Ambrose C (NC)     44800  22920    62    88   \n",
       "1                Albion College (Albion, MI)     45100  23429    73    92   \n",
       "2             Alfred University (Alfred, NY)     42300  19567    63    87   \n",
       "3          Allegheny College (Meadville, PA)     49200  25147    78    92   \n",
       "4                Beloit College (Beloit, WI)     37900  21979    78    93   \n",
       "..                                       ...       ...    ...   ...   ...   \n",
       "111          Whittier College (Whittier, CA)     45100  33181    67    86   \n",
       "112         Widener University (Chester, PA)     51700  27387    56    83   \n",
       "113        Willamette University (Salem, OR)     49200  30312    78    93   \n",
       "114      Winthrop University (Rock Hill, SC)     36100  15311    54    76   \n",
       "115  Wittenberg University (Springfield, OH)     42700  26616    64    90   \n",
       "\n",
       "     City  predictedEarning1  \n",
       "0       1       44806.067625  \n",
       "1       0       45170.954503  \n",
       "2       0       42402.402200  \n",
       "3       0       46402.537324  \n",
       "4       1       44131.492866  \n",
       "..    ...                ...  \n",
       "111     0       52161.871659  \n",
       "112     0       48008.326334  \n",
       "113     1       50105.171359  \n",
       "114     1       39351.403080  \n",
       "115     1       47455.619492  \n",
       "\n",
       "[116 rows x 7 columns]"
      ]
     },
     "execution_count": 58,
     "metadata": {},
     "output_type": "execute_result"
    }
   ],
   "source": [
    "collegeDf"
   ]
  },
  {
   "cell_type": "code",
   "execution_count": 59,
   "metadata": {
    "colab": {
     "base_uri": "https://localhost:8080/",
     "height": 437
    },
    "id": "at1I6sLoMJFu",
    "outputId": "aec4f9c8-b2c0-48ff-f8ab-7f19585e8c84"
   },
   "outputs": [
    {
     "data": {
      "image/png": "[encoded data removed]",
      "text/plain": [
       "<Figure size 640x480 with 1 Axes>"
      ]
     },
     "metadata": {},
     "output_type": "display_data"
    }
   ],
   "source": [
    "fig = plt.figure()\n",
    "ax = plt.axes(projection =\"3d\")\n",
    "\n",
    "# Creating plot\n",
    "ax.scatter3D(\n",
    "  collegeDf[\"Cost\"],\n",
    "  collegeDf[\"Grad\"],\n",
    "  collegeDf[\"Earnings\"],\n",
    "  color = \"green\"\n",
    ")\n",
    "plt.title(\"Cost,Grad -> Earnings\")\n",
    "ax.set_xlabel('Cost')\n",
    "ax.set_ylabel('Grad')\n",
    "ax.set_zlabel('Earnings')\n",
    "\n",
    "# show plot\n",
    "plt.show()"
   ]
  },
  {
   "cell_type": "code",
   "execution_count": 60,
   "metadata": {
    "colab": {
     "base_uri": "https://localhost:8080/"
    },
    "id": "HzQFLcchNaDt",
    "outputId": "5d676c4e-e4d2-4837-bcc1-98179415a3f0"
   },
   "outputs": [
    {
     "data": {
      "text/plain": [
       "(      Cost  Grad\n",
       " 0    22920    62\n",
       " 1    23429    73\n",
       " 2    19567    63\n",
       " 3    25147    78\n",
       " 4    21979    78\n",
       " ..     ...   ...\n",
       " 111  33181    67\n",
       " 112  27387    56\n",
       " 113  30312    78\n",
       " 114  15311    54\n",
       " 115  26616    64\n",
       " \n",
       " [116 rows x 2 columns],\n",
       " pandas.core.frame.DataFrame)"
      ]
     },
     "execution_count": 60,
     "metadata": {},
     "output_type": "execute_result"
    }
   ],
   "source": [
    "collegeDf[['Cost', 'Grad']], type(collegeDf[['Cost', 'Grad']])"
   ]
  },
  {
   "cell_type": "code",
   "execution_count": 61,
   "metadata": {
    "colab": {
     "base_uri": "https://localhost:8080/"
    },
    "id": "qBInUi_bsQ_x",
    "outputId": "4235806e-71bb-41bd-d28b-f8ea2407c20a"
   },
   "outputs": [
    {
     "data": {
      "text/plain": [
       "(     const   Cost  Grad\n",
       " 0      1.0  22920    62\n",
       " 1      1.0  23429    73\n",
       " 2      1.0  19567    63\n",
       " 3      1.0  25147    78\n",
       " 4      1.0  21979    78\n",
       " ..     ...    ...   ...\n",
       " 111    1.0  33181    67\n",
       " 112    1.0  27387    56\n",
       " 113    1.0  30312    78\n",
       " 114    1.0  15311    54\n",
       " 115    1.0  26616    64\n",
       " \n",
       " [116 rows x 3 columns],\n",
       " pandas.core.frame.DataFrame)"
      ]
     },
     "execution_count": 61,
     "metadata": {},
     "output_type": "execute_result"
    }
   ],
   "source": [
    "sm.add_constant(collegeDf[['Cost', 'Grad']]), type(sm.add_constant(collegeDf[['Cost', 'Grad']]))"
   ]
  },
  {
   "cell_type": "code",
   "execution_count": 62,
   "metadata": {
    "id": "PEQQ-E8dNQ9x"
   },
   "outputs": [],
   "source": [
    "earningOthersOlsModelFit2 = sm.OLS(\n",
    "  collegeDf[\"Earnings\"],\n",
    "  sm.add_constant(collegeDf[['Cost', 'Grad']])\n",
    ").fit()"
   ]
  },
  {
   "cell_type": "code",
   "execution_count": 63,
   "metadata": {
    "colab": {
     "base_uri": "https://localhost:8080/"
    },
    "id": "ETve670aOTNZ",
    "outputId": "1d740ca1-fab3-4fdd-c574-052947d82800"
   },
   "outputs": [
    {
     "name": "stdout",
     "output_type": "stream",
     "text": [
      "                            OLS Regression Results                            \n",
      "==============================================================================\n",
      "Dep. Variable:               Earnings   R-squared:                       0.398\n",
      "Model:                            OLS   Adj. R-squared:                  0.387\n",
      "Method:                 Least Squares   F-statistic:                     37.37\n",
      "Date:                Sun, 09 Jun 2024   Prob (F-statistic):           3.50e-13\n",
      "Time:                        01:23:13   Log-Likelihood:                -1167.2\n",
      "No. Observations:                 116   AIC:                             2340.\n",
      "Df Residuals:                     113   BIC:                             2349.\n",
      "Df Model:                           2                                         \n",
      "Covariance Type:            nonrobust                                         \n",
      "==============================================================================\n",
      "                 coef    std err          t      P>|t|      [0.025      0.975]\n",
      "------------------------------------------------------------------------------\n",
      "const       1.798e+04   3366.727      5.341      0.000    1.13e+04    2.47e+04\n",
      "Cost           0.5131      0.108      4.741      0.000       0.299       0.728\n",
      "Grad         236.6049     49.563      4.774      0.000     138.412     334.798\n",
      "==============================================================================\n",
      "Omnibus:                       22.086   Durbin-Watson:                   1.997\n",
      "Prob(Omnibus):                  0.000   Jarque-Bera (JB):               33.660\n",
      "Skew:                           0.904   Prob(JB):                     4.91e-08\n",
      "Kurtosis:                       4.923   Cond. No.                     1.63e+05\n",
      "==============================================================================\n",
      "\n",
      "Notes:\n",
      "[1] Standard Errors assume that the covariance matrix of the errors is correctly specified.\n",
      "[2] The condition number is large, 1.63e+05. This might indicate that there are\n",
      "strong multicollinearity or other numerical problems.\n"
     ]
    }
   ],
   "source": [
    "print(earningOthersOlsModelFit2.summary())"
   ]
  },
  {
   "cell_type": "code",
   "execution_count": 64,
   "metadata": {},
   "outputs": [
    {
     "data": {
      "text/plain": [
       "<statsmodels.regression.linear_model.RegressionResultsWrapper at 0x3555f8050>"
      ]
     },
     "execution_count": 64,
     "metadata": {},
     "output_type": "execute_result"
    }
   ],
   "source": [
    "from functions.exportModel import exportModel\n",
    "exportModel({\n",
    "    \"modelName\": \"earningOthersOlsModelFit2\",\n",
    "    \"model\": earningOthersOlsModelFit2,\n",
    "    \"description\": \"predict Earnings based on Cost and Grad\",\n",
    "    \"modelType\": \"sm.OLS\",\n",
    "    \"baseRelativePath\": \"..\",\n",
    "    \"inputs\": [\n",
    "        {\n",
    "            \"name\": \"const\",\n",
    "            \"type\": \"int\"\n",
    "        },\n",
    "        {\n",
    "            \"name\": \"Cost\",\n",
    "            \"type\": \"float\"\n",
    "        },\n",
    "        {\n",
    "            \"name\": \"Grad\",\n",
    "            \"type\": \"int\"\n",
    "        },\n",
    "    ],\n",
    "    \"output\": {\n",
    "        \"name\": \"Earnings\",\n",
    "        \"type\": \"float\"\n",
    "    }\n",
    "})"
   ]
  },
  {
   "cell_type": "code",
   "execution_count": 65,
   "metadata": {
    "colab": {
     "base_uri": "https://localhost:8080/",
     "height": 424
    },
    "id": "Dn6EX65kOdtu",
    "outputId": "f13fe9be-487f-4717-ebf6-7158d8753fa3"
   },
   "outputs": [
    {
     "data": {
      "text/html": [
       "<div>\n",
       "<style scoped>\n",
       "    .dataframe tbody tr th:only-of-type {\n",
       "        vertical-align: middle;\n",
       "    }\n",
       "\n",
       "    .dataframe tbody tr th {\n",
       "        vertical-align: top;\n",
       "    }\n",
       "\n",
       "    .dataframe thead th {\n",
       "        text-align: right;\n",
       "    }\n",
       "</style>\n",
       "<table border=\"1\" class=\"dataframe\">\n",
       "  <thead>\n",
       "    <tr style=\"text-align: right;\">\n",
       "      <th></th>\n",
       "      <th>School</th>\n",
       "      <th>Earnings</th>\n",
       "      <th>Cost</th>\n",
       "      <th>Grad</th>\n",
       "      <th>Debt</th>\n",
       "      <th>City</th>\n",
       "      <th>predictedEarning1</th>\n",
       "      <th>predictedEarning2</th>\n",
       "    </tr>\n",
       "  </thead>\n",
       "  <tbody>\n",
       "    <tr>\n",
       "      <th>0</th>\n",
       "      <td>St. Ambrose C (NC)</td>\n",
       "      <td>44800</td>\n",
       "      <td>22920</td>\n",
       "      <td>62</td>\n",
       "      <td>88</td>\n",
       "      <td>1</td>\n",
       "      <td>44806.067625</td>\n",
       "      <td>44410.232770</td>\n",
       "    </tr>\n",
       "    <tr>\n",
       "      <th>1</th>\n",
       "      <td>Albion College (Albion, MI)</td>\n",
       "      <td>45100</td>\n",
       "      <td>23429</td>\n",
       "      <td>73</td>\n",
       "      <td>92</td>\n",
       "      <td>0</td>\n",
       "      <td>45170.954503</td>\n",
       "      <td>47274.057585</td>\n",
       "    </tr>\n",
       "    <tr>\n",
       "      <th>2</th>\n",
       "      <td>Alfred University (Alfred, NY)</td>\n",
       "      <td>42300</td>\n",
       "      <td>19567</td>\n",
       "      <td>63</td>\n",
       "      <td>87</td>\n",
       "      <td>0</td>\n",
       "      <td>42402.402200</td>\n",
       "      <td>42926.395289</td>\n",
       "    </tr>\n",
       "    <tr>\n",
       "      <th>3</th>\n",
       "      <td>Allegheny College (Meadville, PA)</td>\n",
       "      <td>49200</td>\n",
       "      <td>25147</td>\n",
       "      <td>78</td>\n",
       "      <td>92</td>\n",
       "      <td>0</td>\n",
       "      <td>46402.537324</td>\n",
       "      <td>49338.597282</td>\n",
       "    </tr>\n",
       "    <tr>\n",
       "      <th>4</th>\n",
       "      <td>Beloit College (Beloit, WI)</td>\n",
       "      <td>37900</td>\n",
       "      <td>21979</td>\n",
       "      <td>78</td>\n",
       "      <td>93</td>\n",
       "      <td>1</td>\n",
       "      <td>44131.492866</td>\n",
       "      <td>47713.079376</td>\n",
       "    </tr>\n",
       "    <tr>\n",
       "      <th>...</th>\n",
       "      <td>...</td>\n",
       "      <td>...</td>\n",
       "      <td>...</td>\n",
       "      <td>...</td>\n",
       "      <td>...</td>\n",
       "      <td>...</td>\n",
       "      <td>...</td>\n",
       "      <td>...</td>\n",
       "    </tr>\n",
       "    <tr>\n",
       "      <th>111</th>\n",
       "      <td>Whittier College (Whittier, CA)</td>\n",
       "      <td>45100</td>\n",
       "      <td>33181</td>\n",
       "      <td>67</td>\n",
       "      <td>86</td>\n",
       "      <td>0</td>\n",
       "      <td>52161.871659</td>\n",
       "      <td>50858.231896</td>\n",
       "    </tr>\n",
       "    <tr>\n",
       "      <th>112</th>\n",
       "      <td>Widener University (Chester, PA)</td>\n",
       "      <td>51700</td>\n",
       "      <td>27387</td>\n",
       "      <td>56</td>\n",
       "      <td>83</td>\n",
       "      <td>0</td>\n",
       "      <td>48008.326334</td>\n",
       "      <td>45282.645045</td>\n",
       "    </tr>\n",
       "    <tr>\n",
       "      <th>113</th>\n",
       "      <td>Willamette University (Salem, OR)</td>\n",
       "      <td>49200</td>\n",
       "      <td>30312</td>\n",
       "      <td>78</td>\n",
       "      <td>93</td>\n",
       "      <td>1</td>\n",
       "      <td>50105.171359</td>\n",
       "      <td>51988.786671</td>\n",
       "    </tr>\n",
       "    <tr>\n",
       "      <th>114</th>\n",
       "      <td>Winthrop University (Rock Hill, SC)</td>\n",
       "      <td>36100</td>\n",
       "      <td>15311</td>\n",
       "      <td>54</td>\n",
       "      <td>76</td>\n",
       "      <td>1</td>\n",
       "      <td>39351.403080</td>\n",
       "      <td>38613.174391</td>\n",
       "    </tr>\n",
       "    <tr>\n",
       "      <th>115</th>\n",
       "      <td>Wittenberg University (Springfield, OH)</td>\n",
       "      <td>42700</td>\n",
       "      <td>26616</td>\n",
       "      <td>64</td>\n",
       "      <td>90</td>\n",
       "      <td>1</td>\n",
       "      <td>47455.619492</td>\n",
       "      <td>46779.880175</td>\n",
       "    </tr>\n",
       "  </tbody>\n",
       "</table>\n",
       "<p>116 rows × 8 columns</p>\n",
       "</div>"
      ],
      "text/plain": [
       "                                      School  Earnings   Cost  Grad  Debt  \\\n",
       "0                         St. Ambrose C (NC)     44800  22920    62    88   \n",
       "1                Albion College (Albion, MI)     45100  23429    73    92   \n",
       "2             Alfred University (Alfred, NY)     42300  19567    63    87   \n",
       "3          Allegheny College (Meadville, PA)     49200  25147    78    92   \n",
       "4                Beloit College (Beloit, WI)     37900  21979    78    93   \n",
       "..                                       ...       ...    ...   ...   ...   \n",
       "111          Whittier College (Whittier, CA)     45100  33181    67    86   \n",
       "112         Widener University (Chester, PA)     51700  27387    56    83   \n",
       "113        Willamette University (Salem, OR)     49200  30312    78    93   \n",
       "114      Winthrop University (Rock Hill, SC)     36100  15311    54    76   \n",
       "115  Wittenberg University (Springfield, OH)     42700  26616    64    90   \n",
       "\n",
       "     City  predictedEarning1  predictedEarning2  \n",
       "0       1       44806.067625       44410.232770  \n",
       "1       0       45170.954503       47274.057585  \n",
       "2       0       42402.402200       42926.395289  \n",
       "3       0       46402.537324       49338.597282  \n",
       "4       1       44131.492866       47713.079376  \n",
       "..    ...                ...                ...  \n",
       "111     0       52161.871659       50858.231896  \n",
       "112     0       48008.326334       45282.645045  \n",
       "113     1       50105.171359       51988.786671  \n",
       "114     1       39351.403080       38613.174391  \n",
       "115     1       47455.619492       46779.880175  \n",
       "\n",
       "[116 rows x 8 columns]"
      ]
     },
     "execution_count": 65,
     "metadata": {},
     "output_type": "execute_result"
    }
   ],
   "source": [
    "predictedEarning2 = earningOthersOlsModelFit2.predict(\n",
    "  sm.add_constant(collegeDf[['Cost', 'Grad']])\n",
    ")\n",
    "collegeDf['predictedEarning2'] = predictedEarning2\n",
    "collegeDf"
   ]
  },
  {
   "cell_type": "code",
   "execution_count": 66,
   "metadata": {
    "id": "wZw7IpfVRHJx"
   },
   "outputs": [],
   "source": [
    "# if 'google.colab' in str(get_ipython()):\n",
    "#         get_ipython().run_line_magic('matplotlib', 'inline')\n",
    "\n",
    "# %matplotlib notebook\n",
    "# # %matplotlib notebook\n",
    "%matplotlib inline"
   ]
  },
  {
   "cell_type": "code",
   "execution_count": 67,
   "metadata": {
    "colab": {
     "base_uri": "https://localhost:8080/",
     "height": 437
    },
    "id": "vSt3zKpiPYfJ",
    "outputId": "45febe98-0078-49ec-9de6-f4bf941cf957"
   },
   "outputs": [
    {
     "data": {
      "image/png": "[encoded data removed]",
      "text/plain": [
       "<Figure size 640x480 with 1 Axes>"
      ]
     },
     "metadata": {},
     "output_type": "display_data"
    }
   ],
   "source": [
    "# Extracting coefficients\n",
    "intercept = earningOthersOlsModelFit2.params['const']\n",
    "coef_cost = earningOthersOlsModelFit2.params['Cost']\n",
    "coef_grad = earningOthersOlsModelFit2.params['Grad']\n",
    "\n",
    "# Create 3D grid for plotting\n",
    "cost_range = np.linspace(collegeDf['Cost'].min(), collegeDf['Cost'].max(), 100)\n",
    "grad_range = np.linspace(collegeDf['Grad'].min(), collegeDf['Grad'].max(), 100)\n",
    "cost_grid, grad_grid = np.meshgrid(cost_range, grad_range)\n",
    "\n",
    "# Calculate predicted earnings for each combination of cost and grad\n",
    "earnings_predicted = intercept + coef_cost * cost_grid + coef_grad * grad_grid\n",
    "\n",
    "\n",
    "\n",
    "\n",
    "fig = plt.figure()\n",
    "ax = plt.axes(projection =\"3d\")\n",
    "\n",
    "# Scatter plot of the actual data points\n",
    "ax.scatter(collegeDf['Cost'], collegeDf['Grad'], collegeDf['Earnings'], color='blue', label='Actual Earnings')\n",
    "\n",
    "# Plotting the fitted plane\n",
    "ax.plot_surface(cost_grid, grad_grid, earnings_predicted, color='red', alpha=0.5, label='Fitted Plane')\n",
    "\n",
    "# Labeling axes\n",
    "ax.set_xlabel('Cost')\n",
    "ax.set_ylabel('Grad')\n",
    "ax.set_zlabel('Earnings')\n",
    "\n",
    "\n",
    "\n",
    "plt.title('Cost and Grad vs. Earnings with Fitted Plane')\n",
    "\n",
    "# Rotating the plot\n",
    "# ax.view_init(elev=0, azim=0)  # Set the elevation and azimuth angles\n",
    "plt.show()\n",
    "\n"
   ]
  },
  {
   "cell_type": "code",
   "execution_count": 68,
   "metadata": {
    "colab": {
     "base_uri": "https://localhost:8080/",
     "height": 424
    },
    "id": "FMzTsqooWmsR",
    "outputId": "f6aa23e3-fced-4a19-b113-3d0e471b768f"
   },
   "outputs": [
    {
     "data": {
      "text/html": [
       "<div>\n",
       "<style scoped>\n",
       "    .dataframe tbody tr th:only-of-type {\n",
       "        vertical-align: middle;\n",
       "    }\n",
       "\n",
       "    .dataframe tbody tr th {\n",
       "        vertical-align: top;\n",
       "    }\n",
       "\n",
       "    .dataframe thead th {\n",
       "        text-align: right;\n",
       "    }\n",
       "</style>\n",
       "<table border=\"1\" class=\"dataframe\">\n",
       "  <thead>\n",
       "    <tr style=\"text-align: right;\">\n",
       "      <th></th>\n",
       "      <th>School</th>\n",
       "      <th>Earnings</th>\n",
       "      <th>Cost</th>\n",
       "      <th>Grad</th>\n",
       "      <th>Debt</th>\n",
       "      <th>City</th>\n",
       "      <th>predictedEarning1</th>\n",
       "      <th>predictedEarning2</th>\n",
       "    </tr>\n",
       "  </thead>\n",
       "  <tbody>\n",
       "    <tr>\n",
       "      <th>0</th>\n",
       "      <td>St. Ambrose C (NC)</td>\n",
       "      <td>44800</td>\n",
       "      <td>22920</td>\n",
       "      <td>62</td>\n",
       "      <td>88</td>\n",
       "      <td>1</td>\n",
       "      <td>44806.067625</td>\n",
       "      <td>44410.232770</td>\n",
       "    </tr>\n",
       "    <tr>\n",
       "      <th>1</th>\n",
       "      <td>Albion College (Albion, MI)</td>\n",
       "      <td>45100</td>\n",
       "      <td>23429</td>\n",
       "      <td>73</td>\n",
       "      <td>92</td>\n",
       "      <td>0</td>\n",
       "      <td>45170.954503</td>\n",
       "      <td>47274.057585</td>\n",
       "    </tr>\n",
       "    <tr>\n",
       "      <th>2</th>\n",
       "      <td>Alfred University (Alfred, NY)</td>\n",
       "      <td>42300</td>\n",
       "      <td>19567</td>\n",
       "      <td>63</td>\n",
       "      <td>87</td>\n",
       "      <td>0</td>\n",
       "      <td>42402.402200</td>\n",
       "      <td>42926.395289</td>\n",
       "    </tr>\n",
       "    <tr>\n",
       "      <th>3</th>\n",
       "      <td>Allegheny College (Meadville, PA)</td>\n",
       "      <td>49200</td>\n",
       "      <td>25147</td>\n",
       "      <td>78</td>\n",
       "      <td>92</td>\n",
       "      <td>0</td>\n",
       "      <td>46402.537324</td>\n",
       "      <td>49338.597282</td>\n",
       "    </tr>\n",
       "    <tr>\n",
       "      <th>4</th>\n",
       "      <td>Beloit College (Beloit, WI)</td>\n",
       "      <td>37900</td>\n",
       "      <td>21979</td>\n",
       "      <td>78</td>\n",
       "      <td>93</td>\n",
       "      <td>1</td>\n",
       "      <td>44131.492866</td>\n",
       "      <td>47713.079376</td>\n",
       "    </tr>\n",
       "    <tr>\n",
       "      <th>...</th>\n",
       "      <td>...</td>\n",
       "      <td>...</td>\n",
       "      <td>...</td>\n",
       "      <td>...</td>\n",
       "      <td>...</td>\n",
       "      <td>...</td>\n",
       "      <td>...</td>\n",
       "      <td>...</td>\n",
       "    </tr>\n",
       "    <tr>\n",
       "      <th>111</th>\n",
       "      <td>Whittier College (Whittier, CA)</td>\n",
       "      <td>45100</td>\n",
       "      <td>33181</td>\n",
       "      <td>67</td>\n",
       "      <td>86</td>\n",
       "      <td>0</td>\n",
       "      <td>52161.871659</td>\n",
       "      <td>50858.231896</td>\n",
       "    </tr>\n",
       "    <tr>\n",
       "      <th>112</th>\n",
       "      <td>Widener University (Chester, PA)</td>\n",
       "      <td>51700</td>\n",
       "      <td>27387</td>\n",
       "      <td>56</td>\n",
       "      <td>83</td>\n",
       "      <td>0</td>\n",
       "      <td>48008.326334</td>\n",
       "      <td>45282.645045</td>\n",
       "    </tr>\n",
       "    <tr>\n",
       "      <th>113</th>\n",
       "      <td>Willamette University (Salem, OR)</td>\n",
       "      <td>49200</td>\n",
       "      <td>30312</td>\n",
       "      <td>78</td>\n",
       "      <td>93</td>\n",
       "      <td>1</td>\n",
       "      <td>50105.171359</td>\n",
       "      <td>51988.786671</td>\n",
       "    </tr>\n",
       "    <tr>\n",
       "      <th>114</th>\n",
       "      <td>Winthrop University (Rock Hill, SC)</td>\n",
       "      <td>36100</td>\n",
       "      <td>15311</td>\n",
       "      <td>54</td>\n",
       "      <td>76</td>\n",
       "      <td>1</td>\n",
       "      <td>39351.403080</td>\n",
       "      <td>38613.174391</td>\n",
       "    </tr>\n",
       "    <tr>\n",
       "      <th>115</th>\n",
       "      <td>Wittenberg University (Springfield, OH)</td>\n",
       "      <td>42700</td>\n",
       "      <td>26616</td>\n",
       "      <td>64</td>\n",
       "      <td>90</td>\n",
       "      <td>1</td>\n",
       "      <td>47455.619492</td>\n",
       "      <td>46779.880175</td>\n",
       "    </tr>\n",
       "  </tbody>\n",
       "</table>\n",
       "<p>116 rows × 8 columns</p>\n",
       "</div>"
      ],
      "text/plain": [
       "                                      School  Earnings   Cost  Grad  Debt  \\\n",
       "0                         St. Ambrose C (NC)     44800  22920    62    88   \n",
       "1                Albion College (Albion, MI)     45100  23429    73    92   \n",
       "2             Alfred University (Alfred, NY)     42300  19567    63    87   \n",
       "3          Allegheny College (Meadville, PA)     49200  25147    78    92   \n",
       "4                Beloit College (Beloit, WI)     37900  21979    78    93   \n",
       "..                                       ...       ...    ...   ...   ...   \n",
       "111          Whittier College (Whittier, CA)     45100  33181    67    86   \n",
       "112         Widener University (Chester, PA)     51700  27387    56    83   \n",
       "113        Willamette University (Salem, OR)     49200  30312    78    93   \n",
       "114      Winthrop University (Rock Hill, SC)     36100  15311    54    76   \n",
       "115  Wittenberg University (Springfield, OH)     42700  26616    64    90   \n",
       "\n",
       "     City  predictedEarning1  predictedEarning2  \n",
       "0       1       44806.067625       44410.232770  \n",
       "1       0       45170.954503       47274.057585  \n",
       "2       0       42402.402200       42926.395289  \n",
       "3       0       46402.537324       49338.597282  \n",
       "4       1       44131.492866       47713.079376  \n",
       "..    ...                ...                ...  \n",
       "111     0       52161.871659       50858.231896  \n",
       "112     0       48008.326334       45282.645045  \n",
       "113     1       50105.171359       51988.786671  \n",
       "114     1       39351.403080       38613.174391  \n",
       "115     1       47455.619492       46779.880175  \n",
       "\n",
       "[116 rows x 8 columns]"
      ]
     },
     "execution_count": 68,
     "metadata": {},
     "output_type": "execute_result"
    }
   ],
   "source": [
    "collegeDf"
   ]
  },
  {
   "cell_type": "code",
   "execution_count": 69,
   "metadata": {
    "id": "fyEd2awfWvHR"
   },
   "outputs": [],
   "source": [
    "earningOthersOlsModelFit3 = sm.OLS(\n",
    "  collegeDf[\"Earnings\"],\n",
    "  sm.add_constant(collegeDf[['Cost', 'Grad','Debt']])\n",
    ").fit()"
   ]
  },
  {
   "cell_type": "code",
   "execution_count": 70,
   "metadata": {},
   "outputs": [
    {
     "data": {
      "text/plain": [
       "<statsmodels.regression.linear_model.RegressionResultsWrapper at 0x35691bef0>"
      ]
     },
     "execution_count": 70,
     "metadata": {},
     "output_type": "execute_result"
    }
   ],
   "source": [
    "from functions.exportModel import exportModel\n",
    "exportModel({\n",
    "    \"modelName\": \"earningOthersOlsModelFit3\",\n",
    "    \"model\": earningOthersOlsModelFit3,\n",
    "    \"description\": \"predict Earnings based on Cost, Grad and Debt\",\n",
    "    \"modelType\": \"sm.OLS\",\n",
    "    \"baseRelativePath\": \"..\",\n",
    "    \"inputs\": [\n",
    "        {\n",
    "            \"name\": \"const\",\n",
    "            \"type\": \"int\"\n",
    "        },\n",
    "        {\n",
    "            \"name\": \"Cost\",\n",
    "            \"type\": \"float\"\n",
    "        },\n",
    "        {\n",
    "            \"name\": \"Grad\",\n",
    "            \"type\": \"int\"\n",
    "        },\n",
    "        {\n",
    "            \"name\": \"Debt\",\n",
    "            \"type\": \"int\"\n",
    "        },\n",
    "    ],\n",
    "    \"output\": {\n",
    "        \"name\": \"Earnings\",\n",
    "        \"type\": \"float\"\n",
    "    }\n",
    "})"
   ]
  },
  {
   "cell_type": "code",
   "execution_count": 71,
   "metadata": {
    "colab": {
     "base_uri": "https://localhost:8080/"
    },
    "id": "vmMvLc-nW1i0",
    "outputId": "7d40fdab-a57f-40c3-c6e1-ad4d0733f87f"
   },
   "outputs": [
    {
     "name": "stdout",
     "output_type": "stream",
     "text": [
      "                            OLS Regression Results                            \n",
      "==============================================================================\n",
      "Dep. Variable:               Earnings   R-squared:                       0.402\n",
      "Model:                            OLS   Adj. R-squared:                  0.386\n",
      "Method:                 Least Squares   F-statistic:                     25.12\n",
      "Date:                Sun, 09 Jun 2024   Prob (F-statistic):           1.67e-12\n",
      "Time:                        01:23:13   Log-Likelihood:                -1166.8\n",
      "No. Observations:                 116   AIC:                             2342.\n",
      "Df Residuals:                     112   BIC:                             2353.\n",
      "Df Model:                           3                                         \n",
      "Covariance Type:            nonrobust                                         \n",
      "==============================================================================\n",
      "                 coef    std err          t      P>|t|      [0.025      0.975]\n",
      "------------------------------------------------------------------------------\n",
      "const       1.182e+04   7735.631      1.528      0.129   -3507.686    2.71e+04\n",
      "Cost           0.5050      0.109      4.644      0.000       0.290       0.720\n",
      "Grad         192.6664     70.194      2.745      0.007      53.585     331.747\n",
      "Debt         104.6573    118.283      0.885      0.378    -129.706     339.020\n",
      "==============================================================================\n",
      "Omnibus:                       20.823   Durbin-Watson:                   1.998\n",
      "Prob(Omnibus):                  0.000   Jarque-Bera (JB):               31.211\n",
      "Skew:                           0.862   Prob(JB):                     1.67e-07\n",
      "Kurtosis:                       4.867   Cond. No.                     3.74e+05\n",
      "==============================================================================\n",
      "\n",
      "Notes:\n",
      "[1] Standard Errors assume that the covariance matrix of the errors is correctly specified.\n",
      "[2] The condition number is large, 3.74e+05. This might indicate that there are\n",
      "strong multicollinearity or other numerical problems.\n"
     ]
    }
   ],
   "source": [
    "print(earningOthersOlsModelFit3.summary())"
   ]
  },
  {
   "cell_type": "code",
   "execution_count": 72,
   "metadata": {
    "colab": {
     "base_uri": "https://localhost:8080/"
    },
    "id": "-hrTLW63W8Dd",
    "outputId": "9e03fe28-fe75-4dff-c322-ffbec2b5848d"
   },
   "outputs": [
    {
     "name": "stdout",
     "output_type": "stream",
     "text": [
      "                            OLS Regression Results                            \n",
      "==============================================================================\n",
      "Dep. Variable:               Earnings   R-squared:                       0.398\n",
      "Model:                            OLS   Adj. R-squared:                  0.387\n",
      "Method:                 Least Squares   F-statistic:                     37.37\n",
      "Date:                Sun, 09 Jun 2024   Prob (F-statistic):           3.50e-13\n",
      "Time:                        01:23:13   Log-Likelihood:                -1167.2\n",
      "No. Observations:                 116   AIC:                             2340.\n",
      "Df Residuals:                     113   BIC:                             2349.\n",
      "Df Model:                           2                                         \n",
      "Covariance Type:            nonrobust                                         \n",
      "==============================================================================\n",
      "                 coef    std err          t      P>|t|      [0.025      0.975]\n",
      "------------------------------------------------------------------------------\n",
      "const       1.798e+04   3366.727      5.341      0.000    1.13e+04    2.47e+04\n",
      "Cost           0.5131      0.108      4.741      0.000       0.299       0.728\n",
      "Grad         236.6049     49.563      4.774      0.000     138.412     334.798\n",
      "==============================================================================\n",
      "Omnibus:                       22.086   Durbin-Watson:                   1.997\n",
      "Prob(Omnibus):                  0.000   Jarque-Bera (JB):               33.660\n",
      "Skew:                           0.904   Prob(JB):                     4.91e-08\n",
      "Kurtosis:                       4.923   Cond. No.                     1.63e+05\n",
      "==============================================================================\n",
      "\n",
      "Notes:\n",
      "[1] Standard Errors assume that the covariance matrix of the errors is correctly specified.\n",
      "[2] The condition number is large, 1.63e+05. This might indicate that there are\n",
      "strong multicollinearity or other numerical problems.\n"
     ]
    }
   ],
   "source": [
    "print(earningOthersOlsModelFit2.summary())"
   ]
  },
  {
   "cell_type": "code",
   "execution_count": 73,
   "metadata": {
    "colab": {
     "base_uri": "https://localhost:8080/",
     "height": 424
    },
    "id": "BgNn0qPaYGK7",
    "outputId": "2e79d89c-f027-4414-cd90-febe5b2ef9ef"
   },
   "outputs": [
    {
     "data": {
      "text/html": [
       "<div>\n",
       "<style scoped>\n",
       "    .dataframe tbody tr th:only-of-type {\n",
       "        vertical-align: middle;\n",
       "    }\n",
       "\n",
       "    .dataframe tbody tr th {\n",
       "        vertical-align: top;\n",
       "    }\n",
       "\n",
       "    .dataframe thead th {\n",
       "        text-align: right;\n",
       "    }\n",
       "</style>\n",
       "<table border=\"1\" class=\"dataframe\">\n",
       "  <thead>\n",
       "    <tr style=\"text-align: right;\">\n",
       "      <th></th>\n",
       "      <th>School</th>\n",
       "      <th>Earnings</th>\n",
       "      <th>Cost</th>\n",
       "      <th>Grad</th>\n",
       "      <th>Debt</th>\n",
       "      <th>City</th>\n",
       "      <th>predictedEarning1</th>\n",
       "      <th>predictedEarning2</th>\n",
       "      <th>predictedEarning3</th>\n",
       "    </tr>\n",
       "  </thead>\n",
       "  <tbody>\n",
       "    <tr>\n",
       "      <th>0</th>\n",
       "      <td>St. Ambrose C (NC)</td>\n",
       "      <td>44800</td>\n",
       "      <td>22920</td>\n",
       "      <td>62</td>\n",
       "      <td>88</td>\n",
       "      <td>1</td>\n",
       "      <td>44806.067625</td>\n",
       "      <td>44410.232770</td>\n",
       "      <td>44548.538177</td>\n",
       "    </tr>\n",
       "    <tr>\n",
       "      <th>1</th>\n",
       "      <td>Albion College (Albion, MI)</td>\n",
       "      <td>45100</td>\n",
       "      <td>23429</td>\n",
       "      <td>73</td>\n",
       "      <td>92</td>\n",
       "      <td>0</td>\n",
       "      <td>45170.954503</td>\n",
       "      <td>47274.057585</td>\n",
       "      <td>47343.527426</td>\n",
       "    </tr>\n",
       "    <tr>\n",
       "      <th>2</th>\n",
       "      <td>Alfred University (Alfred, NY)</td>\n",
       "      <td>42300</td>\n",
       "      <td>19567</td>\n",
       "      <td>63</td>\n",
       "      <td>87</td>\n",
       "      <td>0</td>\n",
       "      <td>42402.402200</td>\n",
       "      <td>42926.395289</td>\n",
       "      <td>42943.384593</td>\n",
       "    </tr>\n",
       "    <tr>\n",
       "      <th>3</th>\n",
       "      <td>Allegheny College (Meadville, PA)</td>\n",
       "      <td>49200</td>\n",
       "      <td>25147</td>\n",
       "      <td>78</td>\n",
       "      <td>92</td>\n",
       "      <td>0</td>\n",
       "      <td>46402.537324</td>\n",
       "      <td>49338.597282</td>\n",
       "      <td>49174.396984</td>\n",
       "    </tr>\n",
       "    <tr>\n",
       "      <th>4</th>\n",
       "      <td>Beloit College (Beloit, WI)</td>\n",
       "      <td>37900</td>\n",
       "      <td>21979</td>\n",
       "      <td>78</td>\n",
       "      <td>93</td>\n",
       "      <td>1</td>\n",
       "      <td>44131.492866</td>\n",
       "      <td>47713.079376</td>\n",
       "      <td>47679.311039</td>\n",
       "    </tr>\n",
       "    <tr>\n",
       "      <th>...</th>\n",
       "      <td>...</td>\n",
       "      <td>...</td>\n",
       "      <td>...</td>\n",
       "      <td>...</td>\n",
       "      <td>...</td>\n",
       "      <td>...</td>\n",
       "      <td>...</td>\n",
       "      <td>...</td>\n",
       "      <td>...</td>\n",
       "    </tr>\n",
       "    <tr>\n",
       "      <th>111</th>\n",
       "      <td>Whittier College (Whittier, CA)</td>\n",
       "      <td>45100</td>\n",
       "      <td>33181</td>\n",
       "      <td>67</td>\n",
       "      <td>86</td>\n",
       "      <td>0</td>\n",
       "      <td>52161.871659</td>\n",
       "      <td>50858.231896</td>\n",
       "      <td>50484.047251</td>\n",
       "    </tr>\n",
       "    <tr>\n",
       "      <th>112</th>\n",
       "      <td>Widener University (Chester, PA)</td>\n",
       "      <td>51700</td>\n",
       "      <td>27387</td>\n",
       "      <td>56</td>\n",
       "      <td>83</td>\n",
       "      <td>0</td>\n",
       "      <td>48008.326334</td>\n",
       "      <td>45282.645045</td>\n",
       "      <td>45124.951685</td>\n",
       "    </tr>\n",
       "    <tr>\n",
       "      <th>113</th>\n",
       "      <td>Willamette University (Salem, OR)</td>\n",
       "      <td>49200</td>\n",
       "      <td>30312</td>\n",
       "      <td>78</td>\n",
       "      <td>93</td>\n",
       "      <td>1</td>\n",
       "      <td>50105.171359</td>\n",
       "      <td>51988.786671</td>\n",
       "      <td>51887.221654</td>\n",
       "    </tr>\n",
       "    <tr>\n",
       "      <th>114</th>\n",
       "      <td>Winthrop University (Rock Hill, SC)</td>\n",
       "      <td>36100</td>\n",
       "      <td>15311</td>\n",
       "      <td>54</td>\n",
       "      <td>76</td>\n",
       "      <td>1</td>\n",
       "      <td>39351.403080</td>\n",
       "      <td>38613.174391</td>\n",
       "      <td>37909.006123</td>\n",
       "    </tr>\n",
       "    <tr>\n",
       "      <th>115</th>\n",
       "      <td>Wittenberg University (Springfield, OH)</td>\n",
       "      <td>42700</td>\n",
       "      <td>26616</td>\n",
       "      <td>64</td>\n",
       "      <td>90</td>\n",
       "      <td>1</td>\n",
       "      <td>47455.619492</td>\n",
       "      <td>46779.880175</td>\n",
       "      <td>47009.552838</td>\n",
       "    </tr>\n",
       "  </tbody>\n",
       "</table>\n",
       "<p>116 rows × 9 columns</p>\n",
       "</div>"
      ],
      "text/plain": [
       "                                      School  Earnings   Cost  Grad  Debt  \\\n",
       "0                         St. Ambrose C (NC)     44800  22920    62    88   \n",
       "1                Albion College (Albion, MI)     45100  23429    73    92   \n",
       "2             Alfred University (Alfred, NY)     42300  19567    63    87   \n",
       "3          Allegheny College (Meadville, PA)     49200  25147    78    92   \n",
       "4                Beloit College (Beloit, WI)     37900  21979    78    93   \n",
       "..                                       ...       ...    ...   ...   ...   \n",
       "111          Whittier College (Whittier, CA)     45100  33181    67    86   \n",
       "112         Widener University (Chester, PA)     51700  27387    56    83   \n",
       "113        Willamette University (Salem, OR)     49200  30312    78    93   \n",
       "114      Winthrop University (Rock Hill, SC)     36100  15311    54    76   \n",
       "115  Wittenberg University (Springfield, OH)     42700  26616    64    90   \n",
       "\n",
       "     City  predictedEarning1  predictedEarning2  predictedEarning3  \n",
       "0       1       44806.067625       44410.232770       44548.538177  \n",
       "1       0       45170.954503       47274.057585       47343.527426  \n",
       "2       0       42402.402200       42926.395289       42943.384593  \n",
       "3       0       46402.537324       49338.597282       49174.396984  \n",
       "4       1       44131.492866       47713.079376       47679.311039  \n",
       "..    ...                ...                ...                ...  \n",
       "111     0       52161.871659       50858.231896       50484.047251  \n",
       "112     0       48008.326334       45282.645045       45124.951685  \n",
       "113     1       50105.171359       51988.786671       51887.221654  \n",
       "114     1       39351.403080       38613.174391       37909.006123  \n",
       "115     1       47455.619492       46779.880175       47009.552838  \n",
       "\n",
       "[116 rows x 9 columns]"
      ]
     },
     "execution_count": 73,
     "metadata": {},
     "output_type": "execute_result"
    }
   ],
   "source": [
    "predictedEarning3 = earningOthersOlsModelFit3.predict(\n",
    "  sm.add_constant(collegeDf[['Cost', 'Grad', 'Debt']])\n",
    ")\n",
    "collegeDf['predictedEarning3'] = predictedEarning3\n",
    "collegeDf"
   ]
  },
  {
   "cell_type": "code",
   "execution_count": null,
   "metadata": {},
   "outputs": [],
   "source": []
  },
  {
   "cell_type": "code",
   "execution_count": null,
   "metadata": {},
   "outputs": [],
   "source": []
  },
  {
   "cell_type": "code",
   "execution_count": null,
   "metadata": {},
   "outputs": [],
   "source": []
  }
 ],
 "metadata": {
  "colab": {
   "provenance": []
  },
  "kernelspec": {
   "display_name": "Python 3 (ipykernel)",
   "language": "python",
   "name": "python3"
  },
  "language_info": {
   "codemirror_mode": {
    "name": "ipython",
    "version": 3
   },
   "file_extension": ".py",
   "mimetype": "text/x-python",
   "name": "python",
   "nbconvert_exporter": "python",
   "pygments_lexer": "ipython3",
   "version": "3.12.3"
  }
 },
 "nbformat": 4,
 "nbformat_minor": 4
}
