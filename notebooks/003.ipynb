{
 "cells": [
  {
   "cell_type": "code",
   "execution_count": 1,
   "metadata": {
    "id": "xwFyEsosINqT"
   },
   "outputs": [],
   "source": [
    "import numpy as np\n",
    "import pandas as pd"
   ]
  },
  {
   "cell_type": "code",
   "execution_count": 2,
   "metadata": {
    "id": "pKewSQysItJ-"
   },
   "outputs": [],
   "source": [
    "# https://www.statsmodels.org/stable/index.html\n",
    "import statsmodels.api as sm"
   ]
  },
  {
   "cell_type": "code",
   "execution_count": 3,
   "metadata": {
    "id": "Lz-DyAtNWsJR"
   },
   "outputs": [],
   "source": [
    "# Download Dataset from https://www.dropbox.com/scl/fi/v7c1c8a3cnncuv1fo28es/Wages.xlsx?rlkey=vli12nwph687hvn9jskgf73a1&st=s862pfm6&dl=1\n",
    "# and add it to colab"
   ]
  },
  {
   "cell_type": "code",
   "execution_count": 4,
   "metadata": {
    "id": "0zM8FGMJXJ70"
   },
   "outputs": [],
   "source": [
    "# wagesDf = pd.read_excel(\"./Wages.xlsx\")\n",
    "wagesDf = pd.read_excel(\"https://www.dropbox.com/scl/fi/v7c1c8a3cnncuv1fo28es/Wages.xlsx?rlkey=vli12nwph687hvn9jskgf73a1&st=s862pfm6&dl=1\")"
   ]
  },
  {
   "cell_type": "code",
   "execution_count": 6,
   "metadata": {
    "colab": {
     "base_uri": "https://localhost:8080/",
     "height": 423
    },
    "id": "wsIgDGYcXT_z",
    "outputId": "ea121018-2592-4214-8f58-69fa61183858"
   },
   "outputs": [
    {
     "data": {
      "text/html": [
       "<div>\n",
       "<style scoped>\n",
       "    .dataframe tbody tr th:only-of-type {\n",
       "        vertical-align: middle;\n",
       "    }\n",
       "\n",
       "    .dataframe tbody tr th {\n",
       "        vertical-align: top;\n",
       "    }\n",
       "\n",
       "    .dataframe thead th {\n",
       "        text-align: right;\n",
       "    }\n",
       "</style>\n",
       "<table border=\"1\" class=\"dataframe\">\n",
       "  <thead>\n",
       "    <tr style=\"text-align: right;\">\n",
       "      <th></th>\n",
       "      <th>Wage</th>\n",
       "      <th>Educ</th>\n",
       "      <th>Age</th>\n",
       "    </tr>\n",
       "  </thead>\n",
       "  <tbody>\n",
       "    <tr>\n",
       "      <th>0</th>\n",
       "      <td>17.54</td>\n",
       "      <td>12</td>\n",
       "      <td>76</td>\n",
       "    </tr>\n",
       "    <tr>\n",
       "      <th>1</th>\n",
       "      <td>20.93</td>\n",
       "      <td>10</td>\n",
       "      <td>61</td>\n",
       "    </tr>\n",
       "    <tr>\n",
       "      <th>2</th>\n",
       "      <td>12.94</td>\n",
       "      <td>8</td>\n",
       "      <td>75</td>\n",
       "    </tr>\n",
       "    <tr>\n",
       "      <th>3</th>\n",
       "      <td>19.34</td>\n",
       "      <td>6</td>\n",
       "      <td>38</td>\n",
       "    </tr>\n",
       "    <tr>\n",
       "      <th>4</th>\n",
       "      <td>24.12</td>\n",
       "      <td>12</td>\n",
       "      <td>59</td>\n",
       "    </tr>\n",
       "  </tbody>\n",
       "</table>\n",
       "</div>"
      ],
      "text/plain": [
       "    Wage  Educ  Age\n",
       "0  17.54    12   76\n",
       "1  20.93    10   61\n",
       "2  12.94     8   75\n",
       "3  19.34     6   38\n",
       "4  24.12    12   59"
      ]
     },
     "execution_count": 6,
     "metadata": {},
     "output_type": "execute_result"
    }
   ],
   "source": [
    "wagesDf.head()"
   ]
  },
  {
   "cell_type": "code",
   "execution_count": 7,
   "metadata": {
    "colab": {
     "base_uri": "https://localhost:8080/"
    },
    "id": "nw2BHv7PmpVU",
    "outputId": "a3caf5ac-528c-4a56-d08a-801470d6bbb4"
   },
   "outputs": [
    {
     "data": {
      "text/plain": [
       "240"
      ]
     },
     "execution_count": 7,
     "metadata": {},
     "output_type": "execute_result"
    }
   ],
   "source": [
    "wagesDf.size"
   ]
  },
  {
   "cell_type": "code",
   "execution_count": 8,
   "metadata": {
    "colab": {
     "base_uri": "https://localhost:8080/",
     "height": 300
    },
    "id": "mWaKOoGvmrE8",
    "outputId": "cda584b5-2ca4-4133-ee84-67ac1531929c"
   },
   "outputs": [
    {
     "data": {
      "text/html": [
       "<div>\n",
       "<style scoped>\n",
       "    .dataframe tbody tr th:only-of-type {\n",
       "        vertical-align: middle;\n",
       "    }\n",
       "\n",
       "    .dataframe tbody tr th {\n",
       "        vertical-align: top;\n",
       "    }\n",
       "\n",
       "    .dataframe thead th {\n",
       "        text-align: right;\n",
       "    }\n",
       "</style>\n",
       "<table border=\"1\" class=\"dataframe\">\n",
       "  <thead>\n",
       "    <tr style=\"text-align: right;\">\n",
       "      <th></th>\n",
       "      <th>Wage</th>\n",
       "      <th>Educ</th>\n",
       "      <th>Age</th>\n",
       "    </tr>\n",
       "  </thead>\n",
       "  <tbody>\n",
       "    <tr>\n",
       "      <th>count</th>\n",
       "      <td>80.000000</td>\n",
       "      <td>80.000000</td>\n",
       "      <td>80.000000</td>\n",
       "    </tr>\n",
       "    <tr>\n",
       "      <th>mean</th>\n",
       "      <td>24.930500</td>\n",
       "      <td>13.850000</td>\n",
       "      <td>49.487500</td>\n",
       "    </tr>\n",
       "    <tr>\n",
       "      <th>std</th>\n",
       "      <td>7.479982</td>\n",
       "      <td>4.016107</td>\n",
       "      <td>17.213473</td>\n",
       "    </tr>\n",
       "    <tr>\n",
       "      <th>min</th>\n",
       "      <td>6.930000</td>\n",
       "      <td>6.000000</td>\n",
       "      <td>18.000000</td>\n",
       "    </tr>\n",
       "    <tr>\n",
       "      <th>25%</th>\n",
       "      <td>19.145000</td>\n",
       "      <td>10.000000</td>\n",
       "      <td>34.750000</td>\n",
       "    </tr>\n",
       "    <tr>\n",
       "      <th>50%</th>\n",
       "      <td>24.980000</td>\n",
       "      <td>14.000000</td>\n",
       "      <td>51.000000</td>\n",
       "    </tr>\n",
       "    <tr>\n",
       "      <th>75%</th>\n",
       "      <td>30.572500</td>\n",
       "      <td>17.000000</td>\n",
       "      <td>65.250000</td>\n",
       "    </tr>\n",
       "    <tr>\n",
       "      <th>max</th>\n",
       "      <td>43.440000</td>\n",
       "      <td>22.000000</td>\n",
       "      <td>77.000000</td>\n",
       "    </tr>\n",
       "  </tbody>\n",
       "</table>\n",
       "</div>"
      ],
      "text/plain": [
       "            Wage       Educ        Age\n",
       "count  80.000000  80.000000  80.000000\n",
       "mean   24.930500  13.850000  49.487500\n",
       "std     7.479982   4.016107  17.213473\n",
       "min     6.930000   6.000000  18.000000\n",
       "25%    19.145000  10.000000  34.750000\n",
       "50%    24.980000  14.000000  51.000000\n",
       "75%    30.572500  17.000000  65.250000\n",
       "max    43.440000  22.000000  77.000000"
      ]
     },
     "execution_count": 8,
     "metadata": {},
     "output_type": "execute_result"
    }
   ],
   "source": [
    "wagesDf.describe()"
   ]
  },
  {
   "cell_type": "code",
   "execution_count": 9,
   "metadata": {
    "colab": {
     "base_uri": "https://localhost:8080/"
    },
    "id": "w-fAHOgMmyH5",
    "outputId": "4fc1e799-4d23-42f4-9947-a2ee7ccef909"
   },
   "outputs": [
    {
     "data": {
      "text/plain": [
       "(80, 3)"
      ]
     },
     "execution_count": 9,
     "metadata": {},
     "output_type": "execute_result"
    }
   ],
   "source": [
    "wagesDf.shape"
   ]
  },
  {
   "cell_type": "code",
   "execution_count": 10,
   "metadata": {
    "id": "H15Y1sg61e5Z"
   },
   "outputs": [],
   "source": [
    "import matplotlib.pyplot as plt"
   ]
  },
  {
   "cell_type": "code",
   "execution_count": 11,
   "metadata": {
    "colab": {
     "base_uri": "https://localhost:8080/",
     "height": 34
    },
    "id": "-4_3Xd1i1cPa",
    "outputId": "c78650e1-2817-4a19-fce3-95f81ac3945b"
   },
   "outputs": [
    {
     "data": {
      "text/plain": [
       "<Figure size 800x800 with 0 Axes>"
      ]
     },
     "metadata": {},
     "output_type": "display_data"
    }
   ],
   "source": [
    "# Plotting\n",
    "fig1 = plt.figure(\n",
    "  figsize=(8, 8)\n",
    ")"
   ]
  },
  {
   "cell_type": "code",
   "execution_count": 12,
   "metadata": {
    "colab": {
     "base_uri": "https://localhost:8080/",
     "height": 472
    },
    "id": "RmM8cJp41hSB",
    "outputId": "d6e2108c-97c7-41c5-b551-7fd2da0c8c77"
   },
   "outputs": [
    {
     "data": {
      "image/png": "[encoded data removed]",
      "text/plain": [
       "<Figure size 640x480 with 1 Axes>"
      ]
     },
     "metadata": {},
     "output_type": "display_data"
    }
   ],
   "source": [
    "plt.scatter(\n",
    "  wagesDf[\"Educ\"],\n",
    "  wagesDf[\"Wage\"],\n",
    "  color='blue',\n",
    "  alpha=0.9,\n",
    "  label='Data Points - scatter',\n",
    ")\n",
    "\n",
    "\n",
    "plt.title('Education Level vs. Wage with OLS Regression')\n",
    "plt.xlabel('Education Level(yr)')\n",
    "plt.ylabel('Wage K')\n",
    "plt.legend()\n",
    "plt.grid(True)\n",
    "\n",
    "\n",
    "\n",
    "plt.show()"
   ]
  },
  {
   "cell_type": "code",
   "execution_count": 16,
   "metadata": {
    "colab": {
     "base_uri": "https://localhost:8080/"
    },
    "id": "uonOqiSW14Qq",
    "outputId": "ffde8bb6-939e-49a5-ad29-269381731c58"
   },
   "outputs": [
    {
     "name": "stdout",
     "output_type": "stream",
     "text": [
      "                            OLS Regression Results                            \n",
      "==============================================================================\n",
      "Dep. Variable:                   Wage   R-squared:                       0.607\n",
      "Model:                            OLS   Adj. R-squared:                  0.602\n",
      "Method:                 Least Squares   F-statistic:                     120.4\n",
      "Date:                Sun, 16 Jun 2024   Prob (F-statistic):           1.75e-17\n",
      "Time:                        01:57:00   Log-Likelihood:                -236.64\n",
      "No. Observations:                  80   AIC:                             477.3\n",
      "Df Residuals:                      78   BIC:                             482.0\n",
      "Df Model:                           1                                         \n",
      "Covariance Type:            nonrobust                                         \n",
      "==============================================================================\n",
      "                 coef    std err          t      P>|t|      [0.025      0.975]\n",
      "------------------------------------------------------------------------------\n",
      "const          4.8341      1.906      2.537      0.013       1.040       8.628\n",
      "Educ           1.4510      0.132     10.975      0.000       1.188       1.714\n",
      "==============================================================================\n",
      "Omnibus:                        2.125   Durbin-Watson:                   1.728\n",
      "Prob(Omnibus):                  0.346   Jarque-Bera (JB):                1.975\n",
      "Skew:                          -0.380   Prob(JB):                        0.373\n",
      "Kurtosis:                       2.873   Cond. No.                         52.3\n",
      "==============================================================================\n",
      "\n",
      "Notes:\n",
      "[1] Standard Errors assume that the covariance matrix of the errors is correctly specified.\n"
     ]
    }
   ],
   "source": [
    "wageEduModel = sm.OLS(\n",
    "  wagesDf[\"Wage\"],\n",
    "  sm.add_constant(wagesDf[\"Educ\"])\n",
    ")\n",
    "wageEduModelFit = wageEduModel.fit()\n",
    "print(wageEduModelFit.summary())"
   ]
  },
  {
   "cell_type": "code",
   "execution_count": 18,
   "metadata": {
    "colab": {
     "base_uri": "https://localhost:8080/",
     "height": 423
    },
    "id": "lLQzN2F42WHI",
    "outputId": "5dd9b463-f7ef-49de-f0e8-a1b12d4ec5a6"
   },
   "outputs": [
    {
     "data": {
      "text/html": [
       "<div>\n",
       "<style scoped>\n",
       "    .dataframe tbody tr th:only-of-type {\n",
       "        vertical-align: middle;\n",
       "    }\n",
       "\n",
       "    .dataframe tbody tr th {\n",
       "        vertical-align: top;\n",
       "    }\n",
       "\n",
       "    .dataframe thead th {\n",
       "        text-align: right;\n",
       "    }\n",
       "</style>\n",
       "<table border=\"1\" class=\"dataframe\">\n",
       "  <thead>\n",
       "    <tr style=\"text-align: right;\">\n",
       "      <th></th>\n",
       "      <th>Wage</th>\n",
       "      <th>Educ</th>\n",
       "      <th>Age</th>\n",
       "      <th>predictedWage1</th>\n",
       "    </tr>\n",
       "  </thead>\n",
       "  <tbody>\n",
       "    <tr>\n",
       "      <th>0</th>\n",
       "      <td>17.54</td>\n",
       "      <td>12</td>\n",
       "      <td>76</td>\n",
       "      <td>22.246147</td>\n",
       "    </tr>\n",
       "    <tr>\n",
       "      <th>1</th>\n",
       "      <td>20.93</td>\n",
       "      <td>10</td>\n",
       "      <td>61</td>\n",
       "      <td>19.344145</td>\n",
       "    </tr>\n",
       "    <tr>\n",
       "      <th>2</th>\n",
       "      <td>12.94</td>\n",
       "      <td>8</td>\n",
       "      <td>75</td>\n",
       "      <td>16.442142</td>\n",
       "    </tr>\n",
       "    <tr>\n",
       "      <th>3</th>\n",
       "      <td>19.34</td>\n",
       "      <td>6</td>\n",
       "      <td>38</td>\n",
       "      <td>13.540139</td>\n",
       "    </tr>\n",
       "    <tr>\n",
       "      <th>4</th>\n",
       "      <td>24.12</td>\n",
       "      <td>12</td>\n",
       "      <td>59</td>\n",
       "      <td>22.246147</td>\n",
       "    </tr>\n",
       "    <tr>\n",
       "      <th>...</th>\n",
       "      <td>...</td>\n",
       "      <td>...</td>\n",
       "      <td>...</td>\n",
       "      <td>...</td>\n",
       "    </tr>\n",
       "    <tr>\n",
       "      <th>75</th>\n",
       "      <td>25.64</td>\n",
       "      <td>14</td>\n",
       "      <td>74</td>\n",
       "      <td>25.148150</td>\n",
       "    </tr>\n",
       "    <tr>\n",
       "      <th>76</th>\n",
       "      <td>38.77</td>\n",
       "      <td>21</td>\n",
       "      <td>41</td>\n",
       "      <td>35.305160</td>\n",
       "    </tr>\n",
       "    <tr>\n",
       "      <th>77</th>\n",
       "      <td>21.87</td>\n",
       "      <td>15</td>\n",
       "      <td>75</td>\n",
       "      <td>26.599152</td>\n",
       "    </tr>\n",
       "    <tr>\n",
       "      <th>78</th>\n",
       "      <td>27.54</td>\n",
       "      <td>20</td>\n",
       "      <td>46</td>\n",
       "      <td>33.854159</td>\n",
       "    </tr>\n",
       "    <tr>\n",
       "      <th>79</th>\n",
       "      <td>23.66</td>\n",
       "      <td>12</td>\n",
       "      <td>49</td>\n",
       "      <td>22.246147</td>\n",
       "    </tr>\n",
       "  </tbody>\n",
       "</table>\n",
       "<p>80 rows × 4 columns</p>\n",
       "</div>"
      ],
      "text/plain": [
       "     Wage  Educ  Age  predictedWage1\n",
       "0   17.54    12   76       22.246147\n",
       "1   20.93    10   61       19.344145\n",
       "2   12.94     8   75       16.442142\n",
       "3   19.34     6   38       13.540139\n",
       "4   24.12    12   59       22.246147\n",
       "..    ...   ...  ...             ...\n",
       "75  25.64    14   74       25.148150\n",
       "76  38.77    21   41       35.305160\n",
       "77  21.87    15   75       26.599152\n",
       "78  27.54    20   46       33.854159\n",
       "79  23.66    12   49       22.246147\n",
       "\n",
       "[80 rows x 4 columns]"
      ]
     },
     "execution_count": 18,
     "metadata": {},
     "output_type": "execute_result"
    }
   ],
   "source": [
    "predictedWage1 = wageEduModelFit.predict(sm.add_constant(wagesDf[\"Educ\"]))\n",
    "wagesDf['predictedWage1'] = predictedWage1\n",
    "wagesDf"
   ]
  },
  {
   "cell_type": "code",
   "execution_count": 19,
   "metadata": {
    "colab": {
     "base_uri": "https://localhost:8080/",
     "height": 472
    },
    "id": "yszN-fZr2TZU",
    "outputId": "83ea553f-eab8-4f9e-a043-d5e9bc8b06c0"
   },
   "outputs": [
    {
     "data": {
      "image/png": "[encoded data removed]",
      "text/plain": [
       "<Figure size 640x480 with 1 Axes>"
      ]
     },
     "metadata": {},
     "output_type": "display_data"
    }
   ],
   "source": [
    "\n",
    "\n",
    "plt.scatter(\n",
    "  wagesDf[\"Educ\"],\n",
    "  wagesDf[\"Wage\"],\n",
    "  color='blue',\n",
    "  alpha=0.9,\n",
    "  label='Data Points - scatter',\n",
    ")\n",
    "\n",
    "plt.plot(\n",
    "  wagesDf[\"Educ\"],\n",
    "  wagesDf[\"predictedWage1\"],\n",
    "  color='red',\n",
    "  label='OLS Regression - predictedWage1'\n",
    ")\n",
    "plt.title('Educ Level vs. Wage with OLS Regression')\n",
    "plt.xlabel('Educ Level(yr)')\n",
    "plt.ylabel('Wage K')\n",
    "plt.legend()\n",
    "plt.grid(True)\n",
    "\n",
    "\n",
    "plt.show()"
   ]
  },
  {
   "cell_type": "code",
   "execution_count": 20,
   "metadata": {
    "colab": {
     "base_uri": "https://localhost:8080/",
     "height": 472
    },
    "id": "olxdwpKV3GMJ",
    "outputId": "ad1876d2-c303-4a27-b808-bb9bde58ea9a"
   },
   "outputs": [
    {
     "data": {
      "image/png": "[encoded data removed]",
      "text/plain": [
       "<Figure size 640x480 with 1 Axes>"
      ]
     },
     "metadata": {},
     "output_type": "display_data"
    }
   ],
   "source": [
    "plt.scatter(\n",
    "  wagesDf[\"Age\"],\n",
    "  wagesDf[\"Wage\"],\n",
    "  color='blue',\n",
    "  alpha=0.9,\n",
    "  label='Data Points - scatter',\n",
    ")\n",
    "\n",
    "\n",
    "plt.title('Age vs. Wage with OLS Regression')\n",
    "plt.xlabel('Age')\n",
    "plt.ylabel('Wage K')\n",
    "plt.legend()\n",
    "plt.grid(True)\n",
    "\n",
    "\n",
    "\n",
    "plt.show()"
   ]
  },
  {
   "cell_type": "code",
   "execution_count": 57,
   "metadata": {
    "colab": {
     "base_uri": "https://localhost:8080/"
    },
    "id": "LMhx9bzJ3d7a",
    "outputId": "75532a8c-df8f-4299-bfca-371489f2081b"
   },
   "outputs": [
    {
     "name": "stdout",
     "output_type": "stream",
     "text": [
      "                            OLS Regression Results                            \n",
      "==============================================================================\n",
      "Dep. Variable:                   Wage   R-squared:                       0.022\n",
      "Model:                            OLS   Adj. R-squared:                  0.009\n",
      "Method:                 Least Squares   F-statistic:                     1.718\n",
      "Date:                Sun, 16 Jun 2024   Prob (F-statistic):              0.194\n",
      "Time:                        02:08:06   Log-Likelihood:                -273.12\n",
      "No. Observations:                  80   AIC:                             550.2\n",
      "Df Residuals:                      78   BIC:                             555.0\n",
      "Df Model:                           1                                         \n",
      "Covariance Type:            nonrobust                                         \n",
      "==============================================================================\n",
      "                 coef    std err          t      P>|t|      [0.025      0.975]\n",
      "------------------------------------------------------------------------------\n",
      "const         21.7740      2.548      8.544      0.000      16.701      26.847\n",
      "Age            0.0638      0.049      1.311      0.194      -0.033       0.161\n",
      "==============================================================================\n",
      "Omnibus:                        0.180   Durbin-Watson:                   1.914\n",
      "Prob(Omnibus):                  0.914   Jarque-Bera (JB):                0.372\n",
      "Skew:                           0.016   Prob(JB):                        0.830\n",
      "Kurtosis:                       2.667   Cond. No.                         160.\n",
      "==============================================================================\n",
      "\n",
      "Notes:\n",
      "[1] Standard Errors assume that the covariance matrix of the errors is correctly specified.\n"
     ]
    }
   ],
   "source": [
    "wageAgeModel = sm.OLS(\n",
    "  wagesDf[\"Wage\"],\n",
    "  sm.add_constant(wagesDf[\"Age\"])\n",
    ")\n",
    "wageAgeModelFit = wageAgeModel.fit()\n",
    "print(wageAgeModelFit.summary())"
   ]
  },
  {
   "cell_type": "code",
   "execution_count": 58,
   "metadata": {
    "colab": {
     "base_uri": "https://localhost:8080/",
     "height": 423
    },
    "id": "eLEY_vB-3oVw",
    "outputId": "4938f031-77f3-44bf-ee37-cfc3f27fa7e4"
   },
   "outputs": [
    {
     "data": {
      "text/html": [
       "<div>\n",
       "<style scoped>\n",
       "    .dataframe tbody tr th:only-of-type {\n",
       "        vertical-align: middle;\n",
       "    }\n",
       "\n",
       "    .dataframe tbody tr th {\n",
       "        vertical-align: top;\n",
       "    }\n",
       "\n",
       "    .dataframe thead th {\n",
       "        text-align: right;\n",
       "    }\n",
       "</style>\n",
       "<table border=\"1\" class=\"dataframe\">\n",
       "  <thead>\n",
       "    <tr style=\"text-align: right;\">\n",
       "      <th></th>\n",
       "      <th>Wage</th>\n",
       "      <th>Educ</th>\n",
       "      <th>Age</th>\n",
       "      <th>predictedWage1</th>\n",
       "      <th>predictedWage2</th>\n",
       "      <th>predictedWage3</th>\n",
       "    </tr>\n",
       "  </thead>\n",
       "  <tbody>\n",
       "    <tr>\n",
       "      <th>0</th>\n",
       "      <td>17.54</td>\n",
       "      <td>12</td>\n",
       "      <td>76</td>\n",
       "      <td>22.246147</td>\n",
       "      <td>26.621568</td>\n",
       "      <td>17.979211</td>\n",
       "    </tr>\n",
       "    <tr>\n",
       "      <th>1</th>\n",
       "      <td>20.93</td>\n",
       "      <td>10</td>\n",
       "      <td>61</td>\n",
       "      <td>19.344145</td>\n",
       "      <td>25.664811</td>\n",
       "      <td>22.597487</td>\n",
       "    </tr>\n",
       "    <tr>\n",
       "      <th>2</th>\n",
       "      <td>12.94</td>\n",
       "      <td>8</td>\n",
       "      <td>75</td>\n",
       "      <td>16.442142</td>\n",
       "      <td>26.557784</td>\n",
       "      <td>13.624960</td>\n",
       "    </tr>\n",
       "    <tr>\n",
       "      <th>3</th>\n",
       "      <td>19.34</td>\n",
       "      <td>6</td>\n",
       "      <td>38</td>\n",
       "      <td>13.540139</td>\n",
       "      <td>24.197784</td>\n",
       "      <td>16.865262</td>\n",
       "    </tr>\n",
       "    <tr>\n",
       "      <th>4</th>\n",
       "      <td>24.12</td>\n",
       "      <td>12</td>\n",
       "      <td>59</td>\n",
       "      <td>22.246147</td>\n",
       "      <td>25.537243</td>\n",
       "      <td>25.602624</td>\n",
       "    </tr>\n",
       "    <tr>\n",
       "      <th>...</th>\n",
       "      <td>...</td>\n",
       "      <td>...</td>\n",
       "      <td>...</td>\n",
       "      <td>...</td>\n",
       "      <td>...</td>\n",
       "      <td>...</td>\n",
       "    </tr>\n",
       "    <tr>\n",
       "      <th>75</th>\n",
       "      <td>25.64</td>\n",
       "      <td>14</td>\n",
       "      <td>74</td>\n",
       "      <td>25.148150</td>\n",
       "      <td>26.494001</td>\n",
       "      <td>21.783654</td>\n",
       "    </tr>\n",
       "    <tr>\n",
       "      <th>76</th>\n",
       "      <td>38.77</td>\n",
       "      <td>21</td>\n",
       "      <td>41</td>\n",
       "      <td>35.305160</td>\n",
       "      <td>24.389135</td>\n",
       "      <td>36.567393</td>\n",
       "    </tr>\n",
       "    <tr>\n",
       "      <th>77</th>\n",
       "      <td>21.87</td>\n",
       "      <td>15</td>\n",
       "      <td>75</td>\n",
       "      <td>26.599152</td>\n",
       "      <td>26.557784</td>\n",
       "      <td>22.402672</td>\n",
       "    </tr>\n",
       "    <tr>\n",
       "      <th>78</th>\n",
       "      <td>27.54</td>\n",
       "      <td>20</td>\n",
       "      <td>46</td>\n",
       "      <td>33.854159</td>\n",
       "      <td>24.708054</td>\n",
       "      <td>36.268476</td>\n",
       "    </tr>\n",
       "    <tr>\n",
       "      <th>79</th>\n",
       "      <td>23.66</td>\n",
       "      <td>12</td>\n",
       "      <td>49</td>\n",
       "      <td>22.246147</td>\n",
       "      <td>24.899405</td>\n",
       "      <td>26.490109</td>\n",
       "    </tr>\n",
       "  </tbody>\n",
       "</table>\n",
       "<p>80 rows × 6 columns</p>\n",
       "</div>"
      ],
      "text/plain": [
       "     Wage  Educ  Age  predictedWage1  predictedWage2  predictedWage3\n",
       "0   17.54    12   76       22.246147       26.621568       17.979211\n",
       "1   20.93    10   61       19.344145       25.664811       22.597487\n",
       "2   12.94     8   75       16.442142       26.557784       13.624960\n",
       "3   19.34     6   38       13.540139       24.197784       16.865262\n",
       "4   24.12    12   59       22.246147       25.537243       25.602624\n",
       "..    ...   ...  ...             ...             ...             ...\n",
       "75  25.64    14   74       25.148150       26.494001       21.783654\n",
       "76  38.77    21   41       35.305160       24.389135       36.567393\n",
       "77  21.87    15   75       26.599152       26.557784       22.402672\n",
       "78  27.54    20   46       33.854159       24.708054       36.268476\n",
       "79  23.66    12   49       22.246147       24.899405       26.490109\n",
       "\n",
       "[80 rows x 6 columns]"
      ]
     },
     "execution_count": 58,
     "metadata": {},
     "output_type": "execute_result"
    }
   ],
   "source": [
    "predictedWage2 = wageAgeModelFit.predict(sm.add_constant(wagesDf[\"Age\"]))\n",
    "wagesDf['predictedWage2'] = predictedWage2\n",
    "wagesDf"
   ]
  },
  {
   "cell_type": "code",
   "execution_count": 59,
   "metadata": {
    "colab": {
     "base_uri": "https://localhost:8080/",
     "height": 718
    },
    "id": "9tHJPDGt3sjK",
    "outputId": "0ed44935-aafa-4acd-d757-f128227fdc69"
   },
   "outputs": [
    {
     "data": {
      "image/png": "[encoded data removed]",
      "text/plain": [
       "<Figure size 800x800 with 1 Axes>"
      ]
     },
     "metadata": {},
     "output_type": "display_data"
    }
   ],
   "source": [
    "# Plotting\n",
    "plt.figure(\n",
    "  figsize=(8, 8)\n",
    ")\n",
    "\n",
    "plt.scatter(\n",
    "  wagesDf[\"Age\"],\n",
    "  wagesDf[\"Wage\"],\n",
    "  color='blue',\n",
    "  alpha=0.9,\n",
    "  label='Data Points - scatter',\n",
    ")\n",
    "\n",
    "plt.plot(\n",
    "  wagesDf[\"Age\"],\n",
    "  wagesDf[\"predictedWage2\"],\n",
    "  color='red',\n",
    "  label='OLS Regression - predictedWage2'\n",
    ")\n",
    "plt.title('Age. Wage with OLS Regression')\n",
    "plt.xlabel('Age')\n",
    "plt.ylabel('Wage K')\n",
    "plt.legend()\n",
    "plt.grid(True)\n",
    "\n",
    "\n",
    "\n",
    "plt.show()"
   ]
  },
  {
   "cell_type": "code",
   "execution_count": 60,
   "metadata": {
    "colab": {
     "base_uri": "https://localhost:8080/",
     "height": 423
    },
    "id": "v4CvzLau4TZ6",
    "outputId": "24667a49-768a-4063-d97d-a36f3067d430"
   },
   "outputs": [],
   "source": [
    "def transformWithAgePower2(df):\n",
    "    df = df.copy()\n",
    "    df['agePower2'] = df.apply(lambda row: row['Age'] * row[\"Age\"], axis=1)\n",
    "    df.insert(0, 'const', 1)\n",
    "    \n",
    "    return df"
   ]
  },
  {
   "cell_type": "code",
   "execution_count": 61,
   "metadata": {},
   "outputs": [
    {
     "data": {
      "text/html": [
       "<div>\n",
       "<style scoped>\n",
       "    .dataframe tbody tr th:only-of-type {\n",
       "        vertical-align: middle;\n",
       "    }\n",
       "\n",
       "    .dataframe tbody tr th {\n",
       "        vertical-align: top;\n",
       "    }\n",
       "\n",
       "    .dataframe thead th {\n",
       "        text-align: right;\n",
       "    }\n",
       "</style>\n",
       "<table border=\"1\" class=\"dataframe\">\n",
       "  <thead>\n",
       "    <tr style=\"text-align: right;\">\n",
       "      <th></th>\n",
       "      <th>const</th>\n",
       "      <th>Educ</th>\n",
       "      <th>Age</th>\n",
       "      <th>agePower2</th>\n",
       "    </tr>\n",
       "  </thead>\n",
       "  <tbody>\n",
       "    <tr>\n",
       "      <th>0</th>\n",
       "      <td>1</td>\n",
       "      <td>12</td>\n",
       "      <td>76</td>\n",
       "      <td>5776</td>\n",
       "    </tr>\n",
       "    <tr>\n",
       "      <th>1</th>\n",
       "      <td>1</td>\n",
       "      <td>10</td>\n",
       "      <td>61</td>\n",
       "      <td>3721</td>\n",
       "    </tr>\n",
       "    <tr>\n",
       "      <th>2</th>\n",
       "      <td>1</td>\n",
       "      <td>8</td>\n",
       "      <td>75</td>\n",
       "      <td>5625</td>\n",
       "    </tr>\n",
       "    <tr>\n",
       "      <th>3</th>\n",
       "      <td>1</td>\n",
       "      <td>6</td>\n",
       "      <td>38</td>\n",
       "      <td>1444</td>\n",
       "    </tr>\n",
       "    <tr>\n",
       "      <th>4</th>\n",
       "      <td>1</td>\n",
       "      <td>12</td>\n",
       "      <td>59</td>\n",
       "      <td>3481</td>\n",
       "    </tr>\n",
       "  </tbody>\n",
       "</table>\n",
       "</div>"
      ],
      "text/plain": [
       "   const  Educ  Age  agePower2\n",
       "0      1    12   76       5776\n",
       "1      1    10   61       3721\n",
       "2      1     8   75       5625\n",
       "3      1     6   38       1444\n",
       "4      1    12   59       3481"
      ]
     },
     "execution_count": 61,
     "metadata": {},
     "output_type": "execute_result"
    }
   ],
   "source": [
    "newFd = transformWithAgePower2(wagesDf[[\"Educ\", \"Age\"]])\n",
    "newFd.head()"
   ]
  },
  {
   "cell_type": "code",
   "execution_count": 62,
   "metadata": {
    "colab": {
     "base_uri": "https://localhost:8080/"
    },
    "id": "Vr9zmJ7L4lEg",
    "outputId": "bac52dd3-0455-40a8-fb08-63154aad18b6"
   },
   "outputs": [
    {
     "name": "stdout",
     "output_type": "stream",
     "text": [
      "                            OLS Regression Results                            \n",
      "==============================================================================\n",
      "Dep. Variable:                   Wage   R-squared:                       0.832\n",
      "Model:                            OLS   Adj. R-squared:                  0.826\n",
      "Method:                 Least Squares   F-statistic:                     125.7\n",
      "Date:                Sun, 16 Jun 2024   Prob (F-statistic):           2.18e-29\n",
      "Time:                        02:08:20   Log-Likelihood:                -202.56\n",
      "No. Observations:                  80   AIC:                             413.1\n",
      "Df Residuals:                      76   BIC:                             422.7\n",
      "Df Model:                           3                                         \n",
      "Covariance Type:            nonrobust                                         \n",
      "==============================================================================\n",
      "                 coef    std err          t      P>|t|      [0.025      0.975]\n",
      "------------------------------------------------------------------------------\n",
      "const        -22.7219      3.023     -7.517      0.000     -28.742     -16.701\n",
      "Educ           1.2540      0.090     13.990      0.000       1.075       1.432\n",
      "Age            1.3500      0.134     10.077      0.000       1.083       1.617\n",
      "agePower2     -0.0133      0.001     -9.840      0.000      -0.016      -0.011\n",
      "==============================================================================\n",
      "Omnibus:                        3.000   Durbin-Watson:                   1.650\n",
      "Prob(Omnibus):                  0.223   Jarque-Bera (JB):                2.884\n",
      "Skew:                           0.031   Prob(JB):                        0.236\n",
      "Kurtosis:                       3.928   Cond. No.                     2.79e+04\n",
      "==============================================================================\n",
      "\n",
      "Notes:\n",
      "[1] Standard Errors assume that the covariance matrix of the errors is correctly specified.\n",
      "[2] The condition number is large, 2.79e+04. This might indicate that there are\n",
      "strong multicollinearity or other numerical problems.\n"
     ]
    }
   ],
   "source": [
    "wageEducAgePower2Model = sm.OLS(\n",
    "  wagesDf[\"Wage\"],\n",
    "  transformWithAgePower2(wagesDf[[\"Educ\", \"Age\"]])\n",
    ")\n",
    "wageEducAgePower2ModelFit = wageEducAgePower2Model.fit()\n",
    "print(wageEducAgePower2ModelFit.summary())"
   ]
  },
  {
   "cell_type": "code",
   "execution_count": 63,
   "metadata": {
    "colab": {
     "base_uri": "https://localhost:8080/",
     "height": 423
    },
    "id": "qefCiN4F4yHq",
    "outputId": "1c35de4e-79b7-41fa-c25d-334062439bd6"
   },
   "outputs": [
    {
     "data": {
      "text/html": [
       "<div>\n",
       "<style scoped>\n",
       "    .dataframe tbody tr th:only-of-type {\n",
       "        vertical-align: middle;\n",
       "    }\n",
       "\n",
       "    .dataframe tbody tr th {\n",
       "        vertical-align: top;\n",
       "    }\n",
       "\n",
       "    .dataframe thead th {\n",
       "        text-align: right;\n",
       "    }\n",
       "</style>\n",
       "<table border=\"1\" class=\"dataframe\">\n",
       "  <thead>\n",
       "    <tr style=\"text-align: right;\">\n",
       "      <th></th>\n",
       "      <th>Wage</th>\n",
       "      <th>Educ</th>\n",
       "      <th>Age</th>\n",
       "      <th>predictedWage1</th>\n",
       "      <th>predictedWage2</th>\n",
       "      <th>predictedWage3</th>\n",
       "    </tr>\n",
       "  </thead>\n",
       "  <tbody>\n",
       "    <tr>\n",
       "      <th>0</th>\n",
       "      <td>17.54</td>\n",
       "      <td>12</td>\n",
       "      <td>76</td>\n",
       "      <td>22.246147</td>\n",
       "      <td>26.621568</td>\n",
       "      <td>17.979211</td>\n",
       "    </tr>\n",
       "    <tr>\n",
       "      <th>1</th>\n",
       "      <td>20.93</td>\n",
       "      <td>10</td>\n",
       "      <td>61</td>\n",
       "      <td>19.344145</td>\n",
       "      <td>25.664811</td>\n",
       "      <td>22.597487</td>\n",
       "    </tr>\n",
       "    <tr>\n",
       "      <th>2</th>\n",
       "      <td>12.94</td>\n",
       "      <td>8</td>\n",
       "      <td>75</td>\n",
       "      <td>16.442142</td>\n",
       "      <td>26.557784</td>\n",
       "      <td>13.624960</td>\n",
       "    </tr>\n",
       "    <tr>\n",
       "      <th>3</th>\n",
       "      <td>19.34</td>\n",
       "      <td>6</td>\n",
       "      <td>38</td>\n",
       "      <td>13.540139</td>\n",
       "      <td>24.197784</td>\n",
       "      <td>16.865262</td>\n",
       "    </tr>\n",
       "    <tr>\n",
       "      <th>4</th>\n",
       "      <td>24.12</td>\n",
       "      <td>12</td>\n",
       "      <td>59</td>\n",
       "      <td>22.246147</td>\n",
       "      <td>25.537243</td>\n",
       "      <td>25.602624</td>\n",
       "    </tr>\n",
       "    <tr>\n",
       "      <th>...</th>\n",
       "      <td>...</td>\n",
       "      <td>...</td>\n",
       "      <td>...</td>\n",
       "      <td>...</td>\n",
       "      <td>...</td>\n",
       "      <td>...</td>\n",
       "    </tr>\n",
       "    <tr>\n",
       "      <th>75</th>\n",
       "      <td>25.64</td>\n",
       "      <td>14</td>\n",
       "      <td>74</td>\n",
       "      <td>25.148150</td>\n",
       "      <td>26.494001</td>\n",
       "      <td>21.783654</td>\n",
       "    </tr>\n",
       "    <tr>\n",
       "      <th>76</th>\n",
       "      <td>38.77</td>\n",
       "      <td>21</td>\n",
       "      <td>41</td>\n",
       "      <td>35.305160</td>\n",
       "      <td>24.389135</td>\n",
       "      <td>36.567393</td>\n",
       "    </tr>\n",
       "    <tr>\n",
       "      <th>77</th>\n",
       "      <td>21.87</td>\n",
       "      <td>15</td>\n",
       "      <td>75</td>\n",
       "      <td>26.599152</td>\n",
       "      <td>26.557784</td>\n",
       "      <td>22.402672</td>\n",
       "    </tr>\n",
       "    <tr>\n",
       "      <th>78</th>\n",
       "      <td>27.54</td>\n",
       "      <td>20</td>\n",
       "      <td>46</td>\n",
       "      <td>33.854159</td>\n",
       "      <td>24.708054</td>\n",
       "      <td>36.268476</td>\n",
       "    </tr>\n",
       "    <tr>\n",
       "      <th>79</th>\n",
       "      <td>23.66</td>\n",
       "      <td>12</td>\n",
       "      <td>49</td>\n",
       "      <td>22.246147</td>\n",
       "      <td>24.899405</td>\n",
       "      <td>26.490109</td>\n",
       "    </tr>\n",
       "  </tbody>\n",
       "</table>\n",
       "<p>80 rows × 6 columns</p>\n",
       "</div>"
      ],
      "text/plain": [
       "     Wage  Educ  Age  predictedWage1  predictedWage2  predictedWage3\n",
       "0   17.54    12   76       22.246147       26.621568       17.979211\n",
       "1   20.93    10   61       19.344145       25.664811       22.597487\n",
       "2   12.94     8   75       16.442142       26.557784       13.624960\n",
       "3   19.34     6   38       13.540139       24.197784       16.865262\n",
       "4   24.12    12   59       22.246147       25.537243       25.602624\n",
       "..    ...   ...  ...             ...             ...             ...\n",
       "75  25.64    14   74       25.148150       26.494001       21.783654\n",
       "76  38.77    21   41       35.305160       24.389135       36.567393\n",
       "77  21.87    15   75       26.599152       26.557784       22.402672\n",
       "78  27.54    20   46       33.854159       24.708054       36.268476\n",
       "79  23.66    12   49       22.246147       24.899405       26.490109\n",
       "\n",
       "[80 rows x 6 columns]"
      ]
     },
     "execution_count": 63,
     "metadata": {},
     "output_type": "execute_result"
    }
   ],
   "source": [
    "predictedWage3 = wageEducAgePower2ModelFit.predict(transformWithAgePower2(wagesDf[[\"Educ\", \"Age\"]]))\n",
    "wagesDf['predictedWage3'] = predictedWage3\n",
    "wagesDf"
   ]
  },
  {
   "cell_type": "code",
   "execution_count": 68,
   "metadata": {},
   "outputs": [
    {
     "data": {
      "text/plain": [
       "<statsmodels.regression.linear_model.RegressionResultsWrapper at 0x34ae73920>"
      ]
     },
     "execution_count": 68,
     "metadata": {},
     "output_type": "execute_result"
    }
   ],
   "source": [
    "from mlModelSaver import MlModelSaver\n",
    "mlModelSaverInstance = MlModelSaver({\n",
    "    \"baseRelativePath\": \"..\",\n",
    "    \"modelsFolder\": \"models\"\n",
    "})\n",
    "\n",
    "loadedModel = mlModelSaverInstance.exportModel(\n",
    "    wageEducAgePower2ModelFit,\n",
    "    {\n",
    "        \"modelName\": \"wageEducAgePower2ModelFit\",\n",
    "        \"description\": \"wageEducAgePower2ModelFit\",\n",
    "        \"modelType\": \"sm.OLS\",\n",
    "        \"inputs\": [\n",
    "            {\n",
    "                \"name\": \"Educ\",\n",
    "                \"type\": \"int\",\n",
    "            },\n",
    "            {\n",
    "                \"name\": \"Age\",\n",
    "                \"type\": \"int\"\n",
    "            }\n",
    "        ],\n",
    "        \"transformer\": transformWithAgePower2,\n",
    "        \"outputs\": [\n",
    "            {\n",
    "                \"name\": \"Wage\",\n",
    "                \"type\": \"float\"\n",
    "            }\n",
    "        ]\n",
    "    }\n",
    ")\n",
    "loadedModel"
   ]
  },
  {
   "cell_type": "code",
   "execution_count": 69,
   "metadata": {},
   "outputs": [],
   "source": [
    "\n",
    "testData = [{\n",
    "    'Educ': 12,\n",
    "    'Age': 76\n",
    "}]\n",
    "\n",
    "# Create a DataFrame from the dictionary\n",
    "testDf = pd.DataFrame(testData)\n"
   ]
  },
  {
   "cell_type": "code",
   "execution_count": 70,
   "metadata": {},
   "outputs": [
    {
     "data": {
      "text/plain": [
       "0    17.979211\n",
       "dtype: float64"
      ]
     },
     "execution_count": 70,
     "metadata": {},
     "output_type": "execute_result"
    }
   ],
   "source": [
    "wageEducAgePower2ModelFit.predict( transformWithAgePower2(testDf))"
   ]
  },
  {
   "cell_type": "code",
   "execution_count": 71,
   "metadata": {},
   "outputs": [
    {
     "data": {
      "text/plain": [
       "[{'Wage': 17.97921107531436}]"
      ]
     },
     "execution_count": 71,
     "metadata": {},
     "output_type": "execute_result"
    }
   ],
   "source": [
    "loadedModel.mlModelSavePredict(testDf)"
   ]
  }
 ],
 "metadata": {
  "colab": {
   "provenance": []
  },
  "kernelspec": {
   "display_name": "Python 3 (ipykernel)",
   "language": "python",
   "name": "python3"
  },
  "language_info": {
   "codemirror_mode": {
    "name": "ipython",
    "version": 3
   },
   "file_extension": ".py",
   "mimetype": "text/x-python",
   "name": "python",
   "nbconvert_exporter": "python",
   "pygments_lexer": "ipython3",
   "version": "3.12.3"
  }
 },
 "nbformat": 4,
 "nbformat_minor": 4
}
